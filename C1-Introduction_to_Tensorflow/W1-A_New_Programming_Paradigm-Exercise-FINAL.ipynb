{
  "nbformat": 4,
  "nbformat_minor": 2,
  "metadata": {
    "coursera": {
      "course_slug": "introduction-tensorflow",
      "graded_item_id": "jRjw8",
      "launcher_item_id": "YoQKl"
    },
    "kernelspec": {
      "display_name": "Python 3",
      "language": "python",
      "name": "python3"
    },
    "language_info": {
      "codemirror_mode": {
        "name": "ipython",
        "version": 3
      },
      "file_extension": ".py",
      "mimetype": "text/x-python",
      "name": "python",
      "nbconvert_exporter": "python",
      "pygments_lexer": "ipython3",
      "version": "3.6.8"
    },
    "colab": {
      "name": "W1-A_New_Programming_Paradigm-Exercise-FINAL.ipynb",
      "provenance": []
    }
  },
  "cells": [
    {
      "cell_type": "markdown",
      "source": [
        "In this exercise you'll try to build a neural network that predicts the price of a house according to a simple formula.\n",
        "\n",
        "So, imagine if house pricing was as easy as a house costs 50k + 50k per bedroom, so that a 1 bedroom house costs 100k, a 2 bedroom house costs 150k etc.\n",
        "\n",
        "How would you create a neural network that learns this relationship so that it would predict a 7 bedroom house as costing close to 400k etc.\n",
        "\n",
        "Hint: Your network might work better if you scale the house price down. You don't have to give the answer 400...it might be better to create something that predicts the number 4, and then your answer is in the 'hundreds of thousands' etc."
      ],
      "metadata": {
        "id": "mw2VBrBcgvGa"
      }
    },
    {
      "cell_type": "code",
      "execution_count": null,
      "source": [
        "import tensorflow as tf\r\n",
        "import numpy as np\r\n",
        "from tensorflow import keras"
      ],
      "outputs": [],
      "metadata": {
        "id": "u8r60o7htLKF"
      }
    },
    {
      "cell_type": "code",
      "execution_count": null,
      "source": [
        "# GRADED FUNCTION: house_model\r\n",
        "def house_model(y_new):\r\n",
        "    xs = np.array([1., 2., 3., 4., 5., 6.], dtype=float)\r\n",
        "    ys = np.array([1.0, 1.50, 2.00, 2.50, 3.00, 3.50], dtype=float)\r\n",
        "    model = tf.keras.Sequential([keras.layers.Dense(units=1, input_shape=[1])])\r\n",
        "    model.compile(optimizer='sgd', loss='mean_squared_error')\r\n",
        "    model.fit(xs, ys, epochs=1000)\r\n",
        "    return model.predict(y_new)[0]"
      ],
      "outputs": [],
      "metadata": {
        "id": "PUNO2E6SeURH"
      }
    },
    {
      "cell_type": "code",
      "execution_count": null,
      "source": [
        "prediction = house_model([7.0])\r\n",
        "print(prediction)"
      ],
      "outputs": [],
      "metadata": {
        "id": "q4-YYjt0tLKH"
      }
    }
  ]
}