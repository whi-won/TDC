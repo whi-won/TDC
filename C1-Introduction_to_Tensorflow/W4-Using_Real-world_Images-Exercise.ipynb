{
 "cells": [
  {
   "cell_type": "markdown",
   "source": [
    "## ImageGenerator 사용하기\n",
    "주의: 이 코드는 코랩에서 돌려야 함(지피유 메모리 에러남)\n",
    "\n",
    "Below is code with a link to a happy or sad dataset which contains 80 images, 40 happy and 40 sad. Create a convolutional neural network that trains to 100% accuracy on these images, which cancels training upon hitting training accuracy of >.999\n",
    "\n",
    "Hint -- it will work best with 3 convolutional layers."
   ],
   "metadata": {}
  },
  {
   "cell_type": "code",
   "execution_count": 1,
   "source": [
    "import tensorflow as tf\r\n",
    "import os\r\n",
    "import zipfile\r\n",
    "\r\n",
    "\r\n",
    "DESIRED_ACCURACY = 0.999\r\n",
    "\r\n",
    "!wget --no-check-certificate \\\r\n",
    "    \"https://storage.googleapis.com/laurencemoroney-blog.appspot.com/happy-or-sad.zip\" \\\r\n",
    "    -O \"/tmp/happy-or-sad.zip\"\r\n",
    "\r\n",
    "zip_ref = zipfile.ZipFile(\"/tmp/happy-or-sad.zip\", 'r')\r\n",
    "zip_ref.extractall(\"/tmp/h-or-s\")\r\n",
    "zip_ref.close()\r\n",
    "\r\n",
    "class myCallback(# Your Code):\r\n",
    "  # Your Code\r\n",
    "\r\n",
    "callbacks = myCallback()\r\n",
    "    \r\n",
    "\r\n",
    "# This Code Block should Define and Compile the Model\r\n",
    "model = tf.keras.models.Sequential([\r\n",
    "# Your Code Here\r\n",
    "])\r\n",
    "\r\n",
    "from tensorflow.keras.optimizers import RMSprop\r\n",
    "\r\n",
    "model.compile(# Your Code Here #)\r\n",
    "    \r\n",
    "\r\n",
    "# This code block should create an instance of an ImageDataGenerator called train_datagen \r\n",
    "# And a train_generator by calling train_datagen.flow_from_directory\r\n",
    "\r\n",
    "from tensorflow.keras.preprocessing.image import ImageDataGenerator\r\n",
    "\r\n",
    "train_datagen = # Your Code Here\r\n",
    "\r\n",
    "train_generator = train_datagen.flow_from_directory(\r\n",
    "        # Your Code Here)\r\n",
    "\r\n",
    "# Expected output: 'Found 80 images belonging to 2 classes'\r\n",
    "    \r\n",
    "\r\n",
    "# This code block should call model.fit and train for\r\n",
    "# a number of epochs. \r\n",
    "history = model.fit(\r\n",
    "      # Your Code Here)\r\n",
    "    \r\n",
    "# Expected output: \"Reached 99.9% accuracy so cancelling training!\"\""
   ],
   "outputs": [
    {
     "output_type": "error",
     "ename": "SyntaxError",
     "evalue": "invalid syntax (<ipython-input-1-9b6a852ed885>, line 21)",
     "traceback": [
      "\u001b[0;36m  File \u001b[0;32m\"<ipython-input-1-9b6a852ed885>\"\u001b[0;36m, line \u001b[0;32m21\u001b[0m\n\u001b[0;31m    model = tf.keras.models.Sequential([\u001b[0m\n\u001b[0m        ^\u001b[0m\n\u001b[0;31mSyntaxError\u001b[0m\u001b[0;31m:\u001b[0m invalid syntax\n"
     ]
    }
   ],
   "metadata": {}
  },
  {
   "cell_type": "markdown",
   "source": [
    "## Answer"
   ],
   "metadata": {}
  },
  {
   "cell_type": "code",
   "execution_count": 2,
   "source": [
    "import tensorflow as tf\r\n",
    "import os\r\n",
    "import zipfile\r\n",
    "\r\n",
    "DESIRED_ACC = 0.999 # 이렇게 하니까 C코드 생각난당"
   ],
   "outputs": [],
   "metadata": {}
  },
  {
   "cell_type": "markdown",
   "source": [
    "### Load Data\r\n",
    "~~다운로드 경로 바꾸고 싶은데...~~\r\n",
    "* 터미널에서 wget -h 하면 무지 많은 옵션이 나옴\r\n",
    "* wget -O 원하는URL 다운받을 경로\r\n",
    "    * (대문자 O임)\r\n",
    "\r\n",
    "왜 /tmp에다가 저장하는지 알았다!!! 리눅스 폴더구조 공부하면 됨!!!\r\n",
    "* tmp\r\n",
    " - 실행 중인 프로세스들의 임시 파일들을 저장\r\n",
    " - **종료 시 이 위치에 있는 파일들은 모두 삭제됨**\r\n",
    " - 그래서 이름이 tmp이구나..\r\n",
    "* [리눅스 폴더구조 및 용도 잘 정리해둔 블로그 참고](https://blackpigstudio.tistory.com/entry/%EB%A6%AC%EB%88%85%EC%8A%A4-%ED%8F%B4%EB%8D%94%EA%B5%AC%EC%A1%B0-%EB%B0%8F-%EC%9A%A9%EB%8F%84)"
   ],
   "metadata": {}
  },
  {
   "cell_type": "code",
   "execution_count": 3,
   "source": [
    "!wget --no-check-certificate \"https://storage.googleapis.com/laurencemoroney-blog.appspot.com/happy-or-sad.zip\" -O \"/tmp/happy-or-sad.zip\""
   ],
   "outputs": [
    {
     "output_type": "stream",
     "name": "stdout",
     "text": [
      "--2021-01-13 21:00:04--  https://storage.googleapis.com/laurencemoroney-blog.appspot.com/happy-or-sad.zip\n",
      "Resolving storage.googleapis.com (storage.googleapis.com)... 34.64.4.80, 34.64.4.16, 2404:f340:10:1802::2010, ...\n",
      "Connecting to storage.googleapis.com (storage.googleapis.com)|34.64.4.80|:443... connected.\n",
      "HTTP request sent, awaiting response... 200 OK\n",
      "Length: 2670333 (2.5M) [application/zip]\n",
      "Saving to: ‘/tmp/happy-or-sad.zip’\n",
      "\n",
      "/tmp/happy-or-sad.z 100%[===================>]   2.55M  8.12MB/s    in 0.3s    \n",
      "\n",
      "2021-01-13 21:00:04 (8.12 MB/s) - ‘/tmp/happy-or-sad.zip’ saved [2670333/2670333]\n",
      "\n"
     ]
    }
   ],
   "metadata": {}
  },
  {
   "cell_type": "code",
   "execution_count": 4,
   "source": [
    "zip_ref = zipfile.ZipFile(\"/tmp/happy-or-sad.zip\", 'r')\r\n",
    "zip_ref.extractall(\"./data/happy-or-sad\")\r\n",
    "zip_ref.close()"
   ],
   "outputs": [],
   "metadata": {}
  },
  {
   "cell_type": "markdown",
   "source": [
    "### Callback 함수 정의\n",
    "이따가 쓸거지만 지금 정의먼저 해두자"
   ],
   "metadata": {}
  },
  {
   "cell_type": "code",
   "execution_count": 5,
   "source": [
    "class myCallback(tf.keras.callbacks.Callback):\r\n",
    "    def on_epoch_end(self, epoch, logs={}):\r\n",
    "        if(logs.get('accuracy')>DESIRED_ACC):\r\n",
    "            print(\"\\n\\nI did it!!\")\r\n",
    "            self.model.stop_training = True"
   ],
   "outputs": [],
   "metadata": {}
  },
  {
   "cell_type": "code",
   "execution_count": 6,
   "source": [
    "callbacks = myCallback()"
   ],
   "outputs": [],
   "metadata": {}
  },
  {
   "cell_type": "markdown",
   "source": [
    "### Data 보기\n",
    "\n",
    "#### (1) 데이터 개수 추출"
   ],
   "metadata": {}
  },
  {
   "cell_type": "code",
   "execution_count": 11,
   "source": [
    "train_dir_happy = os.path.join('./data/happy-or-sad/happy')\r\n",
    "train_dir_sad = os.path.join('./data/happy-or-sad/sad')"
   ],
   "outputs": [],
   "metadata": {}
  },
  {
   "cell_type": "code",
   "execution_count": 14,
   "source": [
    "train_name_happy = os.listdir(train_dir_happy)\r\n",
    "train_name_sad = os.listdir(train_dir_sad)"
   ],
   "outputs": [],
   "metadata": {}
  },
  {
   "cell_type": "code",
   "execution_count": 16,
   "source": [
    "print(len(train_name_happy))\r\n",
    "print(len(train_name_happy))"
   ],
   "outputs": [
    {
     "output_type": "stream",
     "name": "stdout",
     "text": [
      "40\n",
      "40\n"
     ]
    }
   ],
   "metadata": {}
  },
  {
   "cell_type": "markdown",
   "source": [
    "#### (2) 데이터 사이즈 추출"
   ],
   "metadata": {}
  },
  {
   "cell_type": "code",
   "execution_count": 17,
   "source": [
    "train_name_happy[0]"
   ],
   "outputs": [
    {
     "output_type": "execute_result",
     "data": {
      "text/plain": [
       "'happy2-15.png'"
      ]
     },
     "metadata": {},
     "execution_count": 17
    }
   ],
   "metadata": {}
  },
  {
   "cell_type": "code",
   "execution_count": 18,
   "source": [
    "test_name = train_name_happy[0]\r\n",
    "test_path = os.path.join(train_dir_happy, test_name)\r\n",
    "test_path"
   ],
   "outputs": [
    {
     "output_type": "execute_result",
     "data": {
      "text/plain": [
       "'./data/happy-or-sad/happy/happy2-15.png'"
      ]
     },
     "metadata": {},
     "execution_count": 18
    }
   ],
   "metadata": {}
  },
  {
   "cell_type": "code",
   "execution_count": 21,
   "source": [
    "from PIL import Image\r\n",
    "\r\n",
    "test_img = Image.open(test_path)\r\n",
    "test_img.show()"
   ],
   "outputs": [],
   "metadata": {}
  },
  {
   "cell_type": "code",
   "execution_count": 22,
   "source": [
    "test_img.size"
   ],
   "outputs": [
    {
     "output_type": "execute_result",
     "data": {
      "text/plain": [
       "(150, 150)"
      ]
     },
     "metadata": {},
     "execution_count": 22
    }
   ],
   "metadata": {}
  },
  {
   "cell_type": "markdown",
   "source": [
    "### Modeling"
   ],
   "metadata": {}
  },
  {
   "cell_type": "code",
   "execution_count": 34,
   "source": [
    "model = tf.keras.Sequential([\r\n",
    "    # 이제 convolutional layer 끼얹기\r\n",
    "    tf.keras.layers.Conv2D(32, (3,3), activation='relu', input_shape=(150,150,3)),\r\n",
    "    tf.keras.layers.MaxPooling2D(2,2),\r\n",
    "    \r\n",
    "    tf.keras.layers.Conv2D(16, (3,3), activation='relu'),\r\n",
    "    tf.keras.layers.MaxPooling2D(2,2),\r\n",
    "    \r\n",
    "    tf.keras.layers.Conv2D(128, (3,3), activation='relu'),\r\n",
    "    tf.keras.layers.MaxPooling2D(2,2),\r\n",
    "    \r\n",
    "    # 일단 DNN 구조먼저\r\n",
    "    tf.keras.layers.Flatten(),\r\n",
    "    tf.keras.layers.Dense(512, activation='relu'),\r\n",
    "    tf.keras.layers.Dense(1, activation='sigmoid') #binary classification\r\n",
    "])"
   ],
   "outputs": [],
   "metadata": {}
  },
  {
   "cell_type": "code",
   "execution_count": 35,
   "source": [
    "model.summary()"
   ],
   "outputs": [
    {
     "output_type": "stream",
     "name": "stdout",
     "text": [
      "Model: \"sequential_1\"\n",
      "_________________________________________________________________\n",
      "Layer (type)                 Output Shape              Param #   \n",
      "=================================================================\n",
      "conv2d_3 (Conv2D)            (None, 148, 148, 32)      896       \n",
      "_________________________________________________________________\n",
      "max_pooling2d_3 (MaxPooling2 (None, 74, 74, 32)        0         \n",
      "_________________________________________________________________\n",
      "conv2d_4 (Conv2D)            (None, 72, 72, 16)        4624      \n",
      "_________________________________________________________________\n",
      "max_pooling2d_4 (MaxPooling2 (None, 36, 36, 16)        0         \n",
      "_________________________________________________________________\n",
      "conv2d_5 (Conv2D)            (None, 34, 34, 128)       18560     \n",
      "_________________________________________________________________\n",
      "max_pooling2d_5 (MaxPooling2 (None, 17, 17, 128)       0         \n",
      "_________________________________________________________________\n",
      "flatten_1 (Flatten)          (None, 36992)             0         \n",
      "_________________________________________________________________\n",
      "dense_2 (Dense)              (None, 512)               18940416  \n",
      "_________________________________________________________________\n",
      "dense_3 (Dense)              (None, 1)                 513       \n",
      "=================================================================\n",
      "Total params: 18,965,009\n",
      "Trainable params: 18,965,009\n",
      "Non-trainable params: 0\n",
      "_________________________________________________________________\n"
     ]
    }
   ],
   "metadata": {}
  },
  {
   "cell_type": "code",
   "execution_count": 36,
   "source": [
    "from tensorflow.keras.optimizers import RMSprop\r\n",
    "\r\n",
    "model.compile(optimizer='RMSprop', loss='binary_crossentropy', metrics=['accuracy'])"
   ],
   "outputs": [],
   "metadata": {}
  },
  {
   "cell_type": "markdown",
   "source": [
    "* 참고 : RMSprop의 default learning rate는 0.001이다."
   ],
   "metadata": {}
  },
  {
   "cell_type": "markdown",
   "source": [
    "### ImageGenerator"
   ],
   "metadata": {}
  },
  {
   "cell_type": "code",
   "execution_count": 27,
   "source": [
    "from tensorflow.keras.preprocessing.image import ImageDataGenerator"
   ],
   "outputs": [],
   "metadata": {}
  },
  {
   "cell_type": "code",
   "execution_count": 28,
   "source": [
    "train_datagen = ImageDataGenerator(1./255)"
   ],
   "outputs": [],
   "metadata": {}
  },
  {
   "cell_type": "code",
   "execution_count": 29,
   "source": [
    "train_generator = train_datagen.flow_from_directory(\r\n",
    "    './data/happy-or-sad',\r\n",
    "    target_size=(150,150),\r\n",
    "    batch_size=8,\r\n",
    "    class_mode='binary'\r\n",
    ")"
   ],
   "outputs": [
    {
     "output_type": "stream",
     "name": "stdout",
     "text": [
      "Found 80 images belonging to 2 classes.\n"
     ]
    }
   ],
   "metadata": {}
  },
  {
   "cell_type": "code",
   "execution_count": null,
   "source": [
    "history = model.fit(\r\n",
    "    train_generator,\r\n",
    "    steps_per_epoch=10,\r\n",
    "    epochs=20, # 20번 돌리고 0.999 이상 나오면 멈추도록\r\n",
    "    verbose=1,\r\n",
    "    callbacks=[callbacks]\r\n",
    ")"
   ],
   "outputs": [],
   "metadata": {
    "scrolled": false
   }
  }
 ],
 "metadata": {
  "kernelspec": {
   "display_name": "Python 3",
   "language": "python",
   "name": "python3"
  },
  "language_info": {
   "codemirror_mode": {
    "name": "ipython",
    "version": 3
   },
   "file_extension": ".py",
   "mimetype": "text/x-python",
   "name": "python",
   "nbconvert_exporter": "python",
   "pygments_lexer": "ipython3",
   "version": "3.7.9"
  }
 },
 "nbformat": 4,
 "nbformat_minor": 4
}