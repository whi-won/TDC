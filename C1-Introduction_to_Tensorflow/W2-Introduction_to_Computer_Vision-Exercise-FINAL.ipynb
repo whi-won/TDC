{
 "cells": [
  {
   "cell_type": "markdown",
   "source": [
    "## Exercise 2\n",
    "In the course you learned how to do classificaiton using Fashion MNIST, a data set containing items of clothing. There's another, similar dataset called MNIST which has items of handwriting -- the digits 0 through 9.\n",
    "\n",
    "Write an MNIST classifier that trains to 99% accuracy or above, and does it without a fixed number of epochs -- i.e. you should stop training once you reach that level of accuracy.\n",
    "\n",
    "Some notes:\n",
    "1. It should succeed in less than 10 epochs, so it is okay to change epochs= to 10, but nothing larger\n",
    "2. When it reaches 99% or greater it should print out the string \"Reached 99% accuracy so cancelling training!\"\n",
    "3. If you add any additional variables, make sure you use the same names as the ones used in the class\n",
    "\n",
    "I've started the code for you below -- how would you finish it? "
   ],
   "metadata": {
    "colab_type": "text",
    "id": "tOoyQ70H00_s"
   }
  },
  {
   "cell_type": "code",
   "execution_count": 1,
   "source": [
    "import tensorflow as tf\r\n",
    "from os import path, getcwd, chdir\r\n",
    "\r\n",
    "# DO NOT CHANGE THE LINE BELOW. If you are developing in a local\r\n",
    "# environment, then grab mnist.npz from the Coursera Jupyter Notebook\r\n",
    "# and place it inside a local folder and edit the path to that location\r\n",
    "path = f\"{getcwd()}/../tmp2/mnist.npz\""
   ],
   "outputs": [],
   "metadata": {}
  },
  {
   "cell_type": "markdown",
   "source": [
    "### Load data\r\n",
    "주의할 점 : tf.keras.datasets를 통해 데이터를 로드할 경우 반드시 **(X_train, y_train), (X_test, y_test)** 형태로 로드해야 함! 꼭 괄호로 묶어서 튜플로 로드!"
   ],
   "metadata": {}
  },
  {
   "cell_type": "code",
   "execution_count": 4,
   "source": [
    "# GRADED FUNCTION: train_mnist\r\n",
    "def train_mnist():\r\n",
    "    # Please write your code only where you are indicated.\r\n",
    "    # please do not remove # model fitting inline comments.\r\n",
    "\r\n",
    "    # YOUR CODE SHOULD START HERE\r\n",
    "    class Callback(tf.keras.callbacks.Callback):\r\n",
    "        def on_epoch_end(self, epoch, log={}):\r\n",
    "            if(log.get('acc')> 0.99):\r\n",
    "                print('Reached 99% accuracy so cancelling training!')\r\n",
    "                self.model.stop_training = True\r\n",
    "    \r\n",
    "    callbacks = Callback()\r\n",
    "\r\n",
    "    # YOUR CODE SHOULD END HERE\r\n",
    "\r\n",
    "    mnist = tf.keras.datasets.mnist\r\n",
    "\r\n",
    "    (x_train, y_train),(x_test, y_test) = mnist.load_data(path=path)\r\n",
    "    # YOUR CODE SHOULD START HERE\r\n",
    "    x_train = x_train/255.\r\n",
    "    x_test = x_test/255.\r\n",
    "\r\n",
    "    # YOUR CODE SHOULD END HERE\r\n",
    "    model = tf.keras.models.Sequential([\r\n",
    "        # YOUR CODE SHOULD START HERE\r\n",
    "        tf.keras.layers.Flatten(input_shape=(28,28)),\r\n",
    "    tf.keras.layers.Dense(512, activation='relu'),\r\n",
    "    tf.keras.layers.Dense(10, activation='softmax')\r\n",
    "        # YOUR CODE SHOULD END HERE\r\n",
    "    ])\r\n",
    "\r\n",
    "    # metircs=['accuracy'] 안해주면 loss만 찍힌다\r\n",
    "    model.compile(optimizer='adam',\r\n",
    "                  loss='sparse_categorical_crossentropy',\r\n",
    "                  metrics=['accuracy'])\r\n",
    "    \r\n",
    "    # model fitting\r\n",
    "    history = model.fit(# YOUR CODE SHOULD START HERE\r\n",
    "        x_train, y_train, epochs=10, callbacks=[callbacks]\r\n",
    "              # YOUR CODE SHOULD END HERE\r\n",
    "    )\r\n",
    "    # 테스트 데이터로 evaluate 가능\r\n",
    "    # model2.evaluate(x_test, y_test)\r\n",
    "\r\n",
    "    # model fitting\r\n",
    "    return history.epoch, history.history['acc'][-1]"
   ],
   "outputs": [],
   "metadata": {
    "colab": {},
    "colab_type": "code",
    "id": "9rvXQGAA0ssC"
   }
  },
  {
   "cell_type": "code",
   "execution_count": 5,
   "source": [
    "train_mnist()"
   ],
   "outputs": [
    {
     "output_type": "stream",
     "name": "stdout",
     "text": [
      "Epoch 1/10\n",
      "60000/60000 [==============================] - 9s 150us/sample - loss: 0.2025 - acc: 0.9401\n",
      "Epoch 2/10\n",
      "60000/60000 [==============================] - 10s 159us/sample - loss: 0.0807 - acc: 0.9754\n",
      "Epoch 3/10\n",
      "60000/60000 [==============================] - 10s 161us/sample - loss: 0.0526 - acc: 0.9834\n",
      "Epoch 4/10\n",
      "60000/60000 [==============================] - 9s 147us/sample - loss: 0.0371 - acc: 0.9878\n",
      "Epoch 5/10\n",
      "59520/60000 [============================>.] - ETA: 0s - loss: 0.0275 - acc: 0.9912-Reached 99% accuracy so cancelling training!\n",
      "60000/60000 [==============================] - 9s 148us/sample - loss: 0.0275 - acc: 0.9912\n"
     ]
    },
    {
     "output_type": "execute_result",
     "data": {
      "text/plain": [
       "([0, 1, 2, 3, 4], 0.99118334)"
      ]
     },
     "metadata": {},
     "execution_count": 5
    }
   ],
   "metadata": {
    "colab": {},
    "colab_type": "code",
    "id": "9rvXQGAA0ssC"
   }
  }
 ],
 "metadata": {
  "coursera": {
   "course_slug": "introduction-tensorflow",
   "graded_item_id": "d6dew",
   "launcher_item_id": "FExZ4"
  },
  "kernelspec": {
   "display_name": "Python 3",
   "language": "python",
   "name": "python3"
  },
  "language_info": {
   "codemirror_mode": {
    "name": "ipython",
    "version": 3
   },
   "file_extension": ".py",
   "mimetype": "text/x-python",
   "name": "python",
   "nbconvert_exporter": "python",
   "pygments_lexer": "ipython3",
   "version": "3.6.8"
  }
 },
 "nbformat": 4,
 "nbformat_minor": 1
}