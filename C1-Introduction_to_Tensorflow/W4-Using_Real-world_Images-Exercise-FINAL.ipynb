{
 "cells": [
  {
   "cell_type": "markdown",
   "source": [
    "Below is code with a link to a happy or sad dataset which contains 80 images, 40 happy and 40 sad. \n",
    "Create a convolutional neural network that trains to 100% accuracy on these images,  which cancels training upon hitting training accuracy of >.999\n",
    "\n",
    "Hint -- it will work best with 3 convolutional layers."
   ],
   "metadata": {
    "colab_type": "text",
    "id": "UncprnB0ymAE"
   }
  },
  {
   "cell_type": "code",
   "execution_count": 1,
   "source": [
    "import tensorflow as tf\r\n",
    "import os\r\n",
    "import zipfile\r\n",
    "from os import path, getcwd, chdir\r\n",
    "\r\n",
    "# DO NOT CHANGE THE LINE BELOW. If you are developing in a local\r\n",
    "# environment, then grab happy-or-sad.zip from the Coursera Jupyter Notebook\r\n",
    "# and place it inside a local folder and edit the path to that location\r\n",
    "path = f\"{getcwd()}/../tmp2/happy-or-sad.zip\"\r\n",
    "\r\n",
    "zip_ref = zipfile.ZipFile(path, 'r')\r\n",
    "zip_ref.extractall(\"/tmp/h-or-s\")\r\n",
    "zip_ref.close()"
   ],
   "outputs": [],
   "metadata": {}
  },
  {
   "cell_type": "markdown",
   "source": [
    "### Modeling\r\n",
    "주의점 : binary classification이니까 modeling 마지막에 softmax말고 sigmoid 쓸거임\r\n",
    "* sigmoid는 0~1 사이의 확률값을 반환한다. class 0은 0에 가까운 값을 반환하고, class 1은 1에 가까운 값을 반환한다.\r\n",
    "* 따라서 마지막 layer의 neuron은 1개여야 함!\r\n",
    "* Only 1 output neuron. It will contain a value from 0-1 where 0 for 1 class ('horses') and 1 for the other ('humans')\r\n",
    "\r\n",
    "\r\n",
    "binary classification이니까 loss도 binary_crossentropy 사용. optimizer는 Adam 말고 RMSprop도 써 보자.\r\n",
    "* RMSprop 특징 : Learning rate(`lr` 파라미터)를 조정해가면서 optimize 가능\r\n",
    "* In this case, using the RMSprop optimization algorithm is preferable to stochastic gradient descent (SGD), because RMSprop automates learning-rate tuning for us. (Other optimizers, such as Adam and Adagrad, also automatically adapt the learning rate during training, and would work equally well here.)"
   ],
   "metadata": {}
  },
  {
   "cell_type": "code",
   "execution_count": 7,
   "source": [
    "# GRADED FUNCTION: train_happy_sad_model\r\n",
    "def train_happy_sad_model():\r\n",
    "    # Please write your code only where you are indicated.\r\n",
    "    # please do not remove # model fitting inline comments.\r\n",
    "\r\n",
    "    DESIRED_ACC = 0.999\r\n",
    "\r\n",
    "    class myCallback(tf.keras.callbacks.Callback):\r\n",
    "        def on_epoch_end(self, epoch, logs={}):\r\n",
    "            if(logs.get('acc')>DESIRED_ACC):\r\n",
    "                print(\"\\n\\nI did it!!\")\r\n",
    "                self.model.stop_training = True\r\n",
    "\r\n",
    "    callbacks = myCallback()\r\n",
    "    \r\n",
    "    # This Code Block should Define and Compile the Model. Please assume the images are 150 X 150 in your implementation.\r\n",
    "    model = tf.keras.models.Sequential([\r\n",
    "        # 이제 convolutional layer 끼얹기\r\n",
    "        tf.keras.layers.Conv2D(32, (3,3), activation='relu', input_shape=(150,150,3)),\r\n",
    "        tf.keras.layers.MaxPooling2D(2,2),\r\n",
    "\r\n",
    "        tf.keras.layers.Conv2D(16, (3,3), activation='relu'),\r\n",
    "        tf.keras.layers.MaxPooling2D(2,2),\r\n",
    "\r\n",
    "        tf.keras.layers.Conv2D(128, (3,3), activation='relu'),\r\n",
    "        tf.keras.layers.MaxPooling2D(2,2),\r\n",
    "\r\n",
    "        # 일단 DNN 구조먼저\r\n",
    "        tf.keras.layers.Flatten(),\r\n",
    "        tf.keras.layers.Dense(512, activation='relu'),\r\n",
    "        tf.keras.layers.Dense(1, activation='sigmoid') #binary classification\r\n",
    "        # Your Code Here\r\n",
    "    ])\r\n",
    "\r\n",
    "    from tensorflow.keras.optimizers import RMSprop\r\n",
    "\r\n",
    "    # model.compile(loss='binary_crossentropy', optimizer=RMSprop(lr=0.001), metrics=['accuracy'])\r\n",
    "    model.compile(optimizer='RMSprop', loss='binary_crossentropy', metrics=['accuracy'])\r\n",
    "        \r\n",
    "\r\n",
    "    # This code block should create an instance of an ImageDataGenerator called train_datagen \r\n",
    "    # And a train_generator by calling train_datagen.flow_from_directory\r\n",
    "\r\n",
    "    from tensorflow.keras.preprocessing.image import ImageDataGenerator\r\n",
    "\r\n",
    "    train_datagen = ImageDataGenerator(rescale=1./255)\r\n",
    "\r\n",
    "    # Please use a target_size of 150 X 150.\r\n",
    "    train_generator = train_datagen.flow_from_directory(\r\n",
    "        '/tmp/h-or-s',\r\n",
    "        target_size=(150,150),\r\n",
    "        batch_size=8,\r\n",
    "        class_mode='binary')  # binary_crossentropy loss를 사용하므로 binary labels 필요\r\n",
    "    # Expected output: 'Found 80 images belonging to 2 classes'\r\n",
    "\r\n",
    "    # This code block should call model.fit_generator and train for\r\n",
    "    # a number of epochs.\r\n",
    "    # model fitting\r\n",
    "    history = model.fit_generator(\r\n",
    "        train_generator,\r\n",
    "        steps_per_epoch=10,\r\n",
    "        epochs=20, # 20번 돌리고 0.999 이상 나오면 멈추도록\r\n",
    "        verbose=1,\r\n",
    "        callbacks=[callbacks])\r\n",
    "    # model fitting\r\n",
    "    return history.history['acc'][-1]"
   ],
   "outputs": [],
   "metadata": {}
  },
  {
   "cell_type": "code",
   "execution_count": null,
   "source": [
    "# The Expected output: \"Reached 99.9% accuracy so cancelling training!\"\"\r\n",
    "train_happy_sad_model()"
   ],
   "outputs": [],
   "metadata": {}
  },
  {
   "cell_type": "markdown",
   "source": [
    "커널을 종료하고 memory resource 해제하기"
   ],
   "metadata": {}
  },
  {
   "cell_type": "code",
   "execution_count": null,
   "source": [
    "import os, signal\r\n",
    "os.kill(os.getpid(), signal.SIGKILL)"
   ],
   "outputs": [],
   "metadata": {}
  }
 ],
 "metadata": {
  "coursera": {
   "course_slug": "introduction-tensorflow",
   "graded_item_id": "1kAlw",
   "launcher_item_id": "PNLYD"
  },
  "kernelspec": {
   "display_name": "Python 3",
   "language": "python",
   "name": "python3"
  },
  "language_info": {
   "codemirror_mode": {
    "name": "ipython",
    "version": 3
   },
   "file_extension": ".py",
   "mimetype": "text/x-python",
   "name": "python",
   "nbconvert_exporter": "python",
   "pygments_lexer": "ipython3",
   "version": "3.7.9"
  }
 },
 "nbformat": 4,
 "nbformat_minor": 1
}