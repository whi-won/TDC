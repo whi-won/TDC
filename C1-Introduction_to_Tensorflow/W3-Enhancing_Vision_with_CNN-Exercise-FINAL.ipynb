{
 "cells": [
  {
   "cell_type": "markdown",
   "source": [
    "## Exercise 3\n",
    "In the videos you looked at how you would improve Fashion MNIST using Convolutions. For your exercise see if you can improve MNIST to 99.8% accuracy or more using only a single convolutional layer and a single MaxPooling 2D. You should stop training once the accuracy goes above this amount. It should happen in less than 20 epochs, so it's ok to hard code the number of epochs for training, but your training must end once it hits the above metric. If it doesn't, then you'll need to redesign your layers.\n",
    "\n",
    "I've started the code for you -- you need to finish it!\n",
    "\n",
    "When 99.8% accuracy has been hit, you should print out the string \"Reached 99.8% accuracy so cancelling training!\"\n"
   ],
   "metadata": {
    "colab_type": "text",
    "id": "iQjHqsmTAVLU"
   }
  },
  {
   "cell_type": "code",
   "execution_count": 1,
   "source": [
    "import tensorflow as tf\r\n",
    "from os import path, getcwd, chdir\r\n",
    "\r\n",
    "# DO NOT CHANGE THE LINE BELOW. If you are developing in a local\r\n",
    "# environment, then grab mnist.npz from the Coursera Jupyter Notebook\r\n",
    "# and place it inside a local folder and edit the path to that location\r\n",
    "path = f\"{getcwd()}/../tmp2/mnist.npz\""
   ],
   "outputs": [],
   "metadata": {}
  },
  {
   "cell_type": "code",
   "execution_count": 2,
   "source": [
    "config = tf.ConfigProto()\r\n",
    "config.gpu_options.allow_growth = True\r\n",
    "sess = tf.Session(config=config)"
   ],
   "outputs": [],
   "metadata": {}
  },
  {
   "cell_type": "markdown",
   "source": [
    "### Convolution layer 입력을 위해 input shape 맞추기\r\n",
    "tf.keras.layers.Conv2D(num of filters, size of filters, activation, input shape)\r\n",
    "* **input shape = (Height, Width, Channel)**\r\n",
    "* X_train.shape = (Num of images, Height, Width)\r\n",
    "\r\n",
    "How to reshape\r\n",
    "1. `.reshape` : X_train.reshape(SAME, SAME, SAME, 1)\r\n",
    "2. `np.expand_dims` : X_train = np.expand_dims(X_train, axis=3)\r\n",
    "3. "
   ],
   "metadata": {}
  },
  {
   "cell_type": "code",
   "execution_count": 7,
   "source": [
    "# GRADED FUNCTION: train_mnist_conv\r\n",
    "def train_mnist_conv():\r\n",
    "    # Please write your code only where you are indicated.\r\n",
    "    # please do not remove model fitting inline comments.\r\n",
    "\r\n",
    "    # YOUR CODE STARTS HERE\r\n",
    "    class myCallback(tf.keras.callbacks.Callback):\r\n",
    "        def on_epoch_end(self, epoch, logs={}):\r\n",
    "            if(logs.get('acc')>0.998):\r\n",
    "                print(\"\\nReached 99.8% accuracy so cancelling training!\")\r\n",
    "                self.model.stop_training = True\r\n",
    "\r\n",
    "    callbacks = myCallback()\r\n",
    "    \r\n",
    "    # YOUR CODE ENDS HERE\r\n",
    "\r\n",
    "    mnist = tf.keras.datasets.mnist\r\n",
    "    (training_images, training_labels), (test_images, test_labels) = mnist.load_data(path=path)\r\n",
    "    # YOUR CODE STARTS HERE\r\n",
    "    print(training_images.shape)\r\n",
    "    print(test_images.shape)\r\n",
    "\r\n",
    "\r\n",
    "    training_images = training_images.reshape(60000, 28, 28, 1)\r\n",
    "    test_images = test_images.reshape(10000, 28, 28, 1)\r\n",
    "    \r\n",
    "    training_images = training_images/255.\r\n",
    "    test_images = test_images/255.\r\n",
    "    \r\n",
    "    # YOUR CODE ENDS HERE\r\n",
    "\r\n",
    "    model = tf.keras.models.Sequential([\r\n",
    "            # YOUR CODE STARTS HERE\r\n",
    "        tf.keras.layers.Conv2D(32, (3,3), activation='relu', input_shape=(28,28,1)),\r\n",
    "        tf.keras.layers.MaxPooling2D(2,2),\r\n",
    "        tf.keras.layers.Conv2D(64, (3,3), activation='relu'),\r\n",
    "        tf.keras.layers.MaxPooling2D(2,2),\r\n",
    "        tf.keras.layers.Flatten(),\r\n",
    "        tf.keras.layers.Dense(128, activation='relu'),\r\n",
    "        tf.keras.layers.Dense(10, activation='softmax')\r\n",
    "\r\n",
    "            # YOUR CODE ENDS HERE\r\n",
    "    ])\r\n",
    "\r\n",
    "    model.compile(optimizer='adam', loss='sparse_categorical_crossentropy', metrics=['accuracy'])\r\n",
    "\r\n",
    "    model.summary()\r\n",
    "\r\n",
    "    # model fitting\r\n",
    "    history = model.fit(\r\n",
    "        # YOUR CODE STARTS HERE\r\n",
    "        x = training_images,\r\n",
    "        y = training_labels,\r\n",
    "        epochs = 10,\r\n",
    "        callbacks = [callbacks]\r\n",
    "        # YOUR CODE ENDS HERE\r\n",
    "    )\r\n",
    "\r\n",
    "    model.evaluate(test_images, test_labels)\r\n",
    "\r\n",
    "    # model fitting\r\n",
    "    return history.epoch, history.history['acc'][-1]\r\n",
    "\r\n"
   ],
   "outputs": [],
   "metadata": {}
  },
  {
   "cell_type": "code",
   "execution_count": 8,
   "source": [
    "_, _ = train_mnist_conv()"
   ],
   "outputs": [
    {
     "output_type": "stream",
     "name": "stdout",
     "text": [
      "(60000, 28, 28)\n",
      "(10000, 28, 28)\n",
      "Epoch 1/10\n",
      "60000/60000 [==============================] - 26s 426us/sample - loss: 0.1286 - acc: 0.9617\n",
      "Epoch 2/10\n",
      "60000/60000 [==============================] - 13s 220us/sample - loss: 0.0422 - acc: 0.9867\n",
      "Epoch 3/10\n",
      "60000/60000 [==============================] - 13s 214us/sample - loss: 0.0274 - acc: 0.9913\n",
      "Epoch 4/10\n",
      "60000/60000 [==============================] - 12s 202us/sample - loss: 0.0215 - acc: 0.9931\n",
      "Epoch 5/10\n",
      "60000/60000 [==============================] - 12s 202us/sample - loss: 0.0152 - acc: 0.9954\n",
      "Epoch 6/10\n",
      "60000/60000 [==============================] - 12s 199us/sample - loss: 0.0120 - acc: 0.9960\n",
      "Epoch 7/10\n",
      "60000/60000 [==============================] - 12s 206us/sample - loss: 0.0098 - acc: 0.9970\n",
      "Epoch 8/10\n",
      "60000/60000 [==============================] - 12s 203us/sample - loss: 0.0077 - acc: 0.9973\n",
      "Epoch 9/10\n",
      "60000/60000 [==============================] - 12s 200us/sample - loss: 0.0074 - acc: 0.9975\n",
      "Epoch 10/10\n",
      "59968/60000 [============================>.] - ETA: 0s - loss: 0.0066 - acc: 0.9981\n",
      "Reached 99.8% accuracy so cancelling training!\n",
      "60000/60000 [==============================] - 12s 198us/sample - loss: 0.0066 - acc: 0.9981\n"
     ]
    }
   ],
   "metadata": {}
  },
  {
   "cell_type": "code",
   "execution_count": null,
   "source": [
    "# Now click the 'Submit Assignment' button above.\n",
    "# Once that is complete, please run the following two cells to save your work and close the notebook"
   ],
   "outputs": [],
   "metadata": {}
  },
  {
   "cell_type": "code",
   "execution_count": null,
   "source": [
    "%%javascript\n",
    "<!-- Save the notebook -->\n",
    "IPython.notebook.save_checkpoint();"
   ],
   "outputs": [],
   "metadata": {}
  },
  {
   "cell_type": "code",
   "execution_count": null,
   "source": [
    "%%javascript\n",
    "IPython.notebook.session.delete();\n",
    "window.onbeforeunload = null\n",
    "setTimeout(function() { window.close(); }, 1000);"
   ],
   "outputs": [],
   "metadata": {}
  }
 ],
 "metadata": {
  "coursera": {
   "course_slug": "introduction-tensorflow",
   "graded_item_id": "ml06H",
   "launcher_item_id": "hQF8A"
  },
  "kernelspec": {
   "display_name": "Python 3",
   "language": "python",
   "name": "python3"
  },
  "language_info": {
   "codemirror_mode": {
    "name": "ipython",
    "version": 3
   },
   "file_extension": ".py",
   "mimetype": "text/x-python",
   "name": "python",
   "nbconvert_exporter": "python",
   "pygments_lexer": "ipython3",
   "version": "3.6.8"
  }
 },
 "nbformat": 4,
 "nbformat_minor": 1
}