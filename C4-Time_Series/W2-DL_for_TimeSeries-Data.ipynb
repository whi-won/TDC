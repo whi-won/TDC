{
  "nbformat": 4,
  "nbformat_minor": 2,
  "metadata": {
    "accelerator": "GPU",
    "colab": {
      "name": "W2-DL_for_TimeSeries-Data",
      "provenance": []
    },
    "kernelspec": {
      "display_name": "Python 3",
      "name": "python3"
    }
  },
  "cells": [
    {
      "cell_type": "code",
      "execution_count": null,
      "source": [
        "try:\n",
        "  # %tensorflow_version only exists in Colab.\n",
        "  %tensorflow_version 2.x\n",
        "except Exception:\n",
        "  pass"
      ],
      "outputs": [],
      "metadata": {
        "id": "s6eq-RBcQ_Zr"
      }
    },
    {
      "cell_type": "code",
      "execution_count": null,
      "source": [
        "import tensorflow as tf\n",
        "import numpy as np\n",
        "import matplotlib.pyplot as plt\n",
        "print(tf.__version__)"
      ],
      "outputs": [
        {
          "output_type": "stream",
          "name": "stdout",
          "text": [
            "2.4.0\n"
          ]
        }
      ],
      "metadata": {
        "id": "BOjujz601HcS",
        "colab": {
          "base_uri": "https://localhost:8080/"
        },
        "outputId": "c20597a0-214f-4bfc-fc31-f804c6f4d6b9"
      }
    },
    {
      "cell_type": "markdown",
      "source": [
        "### 데이터셋 생성"
      ],
      "metadata": {
        "id": "h5oYTQWky4Uf"
      }
    },
    {
      "cell_type": "code",
      "execution_count": null,
      "source": [
        "dataset = tf.data.Dataset.range(10)\r\n",
        "for val in dataset:\r\n",
        "   print(val.numpy())"
      ],
      "outputs": [
        {
          "output_type": "stream",
          "name": "stdout",
          "text": [
            "0\n",
            "1\n",
            "2\n",
            "3\n",
            "4\n",
            "5\n",
            "6\n",
            "7\n",
            "8\n",
            "9\n"
          ]
        }
      ],
      "metadata": {
        "id": "asEdslR_05O_",
        "colab": {
          "base_uri": "https://localhost:8080/"
        },
        "outputId": "4923055e-9269-4a94-a5a1-b9ad28e6f974"
      }
    },
    {
      "cell_type": "markdown",
      "source": [
        "### 윈도우 씌우기\n",
        "* window size=5 : 한 번에 5개 출력\n",
        "* shift=1 : 윈도우가 한 칸씩 옆으로 움직여!"
      ],
      "metadata": {
        "id": "g9uoa86hy_UK"
      }
    },
    {
      "cell_type": "code",
      "execution_count": null,
      "source": [
        "dataset = tf.data.Dataset.range(10)\r\n",
        "dataset = dataset.window(5, shift=1)\r\n",
        "for window_dataset in dataset:\r\n",
        "  for val in window_dataset:\r\n",
        "    print(val.numpy(), end=\" \")\r\n",
        "  print()"
      ],
      "outputs": [
        {
          "output_type": "stream",
          "name": "stdout",
          "text": [
            "0 1 2 3 4 \n",
            "1 2 3 4 5 \n",
            "2 3 4 5 6 \n",
            "3 4 5 6 7 \n",
            "4 5 6 7 8 \n",
            "5 6 7 8 9 \n",
            "6 7 8 9 \n",
            "7 8 9 \n",
            "8 9 \n",
            "9 \n"
          ]
        }
      ],
      "metadata": {
        "id": "Lrv_ghSt1lgQ",
        "colab": {
          "base_uri": "https://localhost:8080/"
        },
        "outputId": "6c1f49af-9017-4678-d35f-73fac3eb8c15"
      }
    },
    {
      "cell_type": "markdown",
      "source": [
        "### 데이터 크기 맞추기(?)\n",
        "크기?라고 표현하는게 맞을지.. NLP에서 padding 해서 데이터 크기를 맞췄던 것 처럼, 얘도 크기를 맞춰주는데 얘는 0을 채우는(padding)게 아니라 남는 부분을 자른(drop)다.\n",
        "* `drop_remainder=True`"
      ],
      "metadata": {
        "id": "vUBenGEkzDJI"
      }
    },
    {
      "cell_type": "code",
      "execution_count": null,
      "source": [
        "dataset = tf.data.Dataset.range(10)\r\n",
        "dataset = dataset.window(5, shift=1, drop_remainder=True)\r\n",
        "for window_dataset in dataset:\r\n",
        "  for val in window_dataset:\r\n",
        "    print(val.numpy(), end=\" \")\r\n",
        "  print()"
      ],
      "outputs": [
        {
          "output_type": "stream",
          "name": "stdout",
          "text": [
            "0 1 2 3 4 \n",
            "1 2 3 4 5 \n",
            "2 3 4 5 6 \n",
            "3 4 5 6 7 \n",
            "4 5 6 7 8 \n",
            "5 6 7 8 9 \n"
          ]
        }
      ],
      "metadata": {
        "id": "QLEq6MG-2DN2",
        "colab": {
          "base_uri": "https://localhost:8080/"
        },
        "outputId": "fa304152-66c9-4666-fef8-446afdd81ecc"
      }
    },
    {
      "cell_type": "markdown",
      "source": [
        "### 넘파이 변환\n",
        "텐서플로우는 데이터가 넘파이인걸 좋아한다!!!!!!!!!! **TensorFlow likes its data to be in numpy format!!!!!**"
      ],
      "metadata": {
        "id": "8sFJrqY3zlGt"
      }
    },
    {
      "cell_type": "code",
      "execution_count": null,
      "source": [
        "dataset = tf.data.Dataset.range(10)\r\n",
        "dataset = dataset.window(5, shift=1, drop_remainder=True)\r\n",
        "dataset = dataset.flat_map(lambda window: window.batch(5))\r\n",
        "for window in dataset:\r\n",
        "  print(window.numpy())\r\n"
      ],
      "outputs": [
        {
          "output_type": "stream",
          "name": "stdout",
          "text": [
            "[0 1 2 3 4]\n",
            "[1 2 3 4 5]\n",
            "[2 3 4 5 6]\n",
            "[3 4 5 6 7]\n",
            "[4 5 6 7 8]\n",
            "[5 6 7 8 9]\n"
          ]
        }
      ],
      "metadata": {
        "id": "PJ9CAHlJ2ODe",
        "colab": {
          "base_uri": "https://localhost:8080/"
        },
        "outputId": "f8244f71-a0ef-4dc1-996a-3434d83924bd"
      }
    },
    {
      "cell_type": "markdown",
      "source": [
        "### Split features and labels\n",
        "슬라이싱 범위 항상 주의해서 살피기!"
      ],
      "metadata": {
        "id": "Ac-LvldDzzcp"
      }
    },
    {
      "cell_type": "code",
      "execution_count": null,
      "source": [
        "dataset = tf.data.Dataset.range(10)\r\n",
        "dataset = dataset.window(5, shift=1, drop_remainder=True)\r\n",
        "dataset = dataset.flat_map(lambda window: window.batch(5))\r\n",
        "dataset = dataset.map(lambda window: (window[:-1], window[-1:]))\r\n",
        "for x,y in dataset:\r\n",
        "  print(x.numpy(), y.numpy())"
      ],
      "outputs": [
        {
          "output_type": "stream",
          "name": "stdout",
          "text": [
            "[0 1 2 3] [4]\n",
            "[1 2 3 4] [5]\n",
            "[2 3 4 5] [6]\n",
            "[3 4 5 6] [7]\n",
            "[4 5 6 7] [8]\n",
            "[5 6 7 8] [9]\n"
          ]
        }
      ],
      "metadata": {
        "id": "DryEZ2Mz2nNV",
        "colab": {
          "base_uri": "https://localhost:8080/"
        },
        "outputId": "33942d75-e886-4cc6-f6c2-477eef5b6b74"
      }
    },
    {
      "cell_type": "markdown",
      "source": [
        "### Shuffle\n",
        "This helps us to rearrange the data so as not to accidentally introduce a sequence bias."
      ],
      "metadata": {
        "id": "b3HfEO8L0CNi"
      }
    },
    {
      "cell_type": "code",
      "execution_count": null,
      "source": [
        "dataset = tf.data.Dataset.range(10)\r\n",
        "dataset = dataset.window(5, shift=1, drop_remainder=True)\r\n",
        "dataset = dataset.flat_map(lambda window: window.batch(5))\r\n",
        "dataset = dataset.map(lambda window: (window[:-1], window[-1:]))\r\n",
        "dataset = dataset.shuffle(buffer_size=10)\r\n",
        "for x,y in dataset:\r\n",
        "  print(x.numpy(), y.numpy())\r\n"
      ],
      "outputs": [
        {
          "output_type": "stream",
          "name": "stdout",
          "text": [
            "[2 3 4 5] [6]\n",
            "[0 1 2 3] [4]\n",
            "[4 5 6 7] [8]\n",
            "[1 2 3 4] [5]\n",
            "[5 6 7 8] [9]\n",
            "[3 4 5 6] [7]\n"
          ]
        }
      ],
      "metadata": {
        "id": "1tl-0BOKkEtk",
        "colab": {
          "base_uri": "https://localhost:8080/"
        },
        "outputId": "bca8b9aa-25bc-4ac3-d6bc-f134710b0737"
      }
    },
    {
      "cell_type": "markdown",
      "source": [
        "### Batching\r\n",
        "batch size를 2로 설정하면 데이터가 한 번에 두 개의 x와 두 개의 y로 처리된다. By setting a batch size of two, our data gets batched into two x's and two y's at a time. \r\n",
        "\r\n",
        "prefetch : 현재 batch를 처리하는 중에, 다음 batch를 추가적인 메모리를 사용해서 준비해 놓는다. 속도 향상 기대가능"
      ],
      "metadata": {
        "id": "odhKzQ8y0fU2"
      }
    },
    {
      "cell_type": "code",
      "execution_count": null,
      "source": [
        "dataset = tf.data.Dataset.range(10)\r\n",
        "dataset = dataset.window(5, shift=1, drop_remainder=True)\r\n",
        "dataset = dataset.flat_map(lambda window: window.batch(5))\r\n",
        "dataset = dataset.map(lambda window: (window[:-1], window[-1:]))\r\n",
        "dataset = dataset.shuffle(buffer_size=10)\r\n",
        "dataset = dataset.batch(2).prefetch(1)\r\n",
        "for x,y in dataset:\r\n",
        "  print(\"x = \", x.numpy())\r\n",
        "  print(\"y = \", y.numpy())\r\n"
      ],
      "outputs": [
        {
          "output_type": "stream",
          "name": "stdout",
          "text": [
            "x =  [[1 2 3 4]\n",
            " [4 5 6 7]]\n",
            "y =  [[5]\n",
            " [8]]\n",
            "x =  [[5 6 7 8]\n",
            " [3 4 5 6]]\n",
            "y =  [[9]\n",
            " [7]]\n",
            "x =  [[0 1 2 3]\n",
            " [2 3 4 5]]\n",
            "y =  [[4]\n",
            " [6]]\n"
          ]
        }
      ],
      "metadata": {
        "id": "Wa0PNwxMGapy",
        "colab": {
          "base_uri": "https://localhost:8080/"
        },
        "outputId": "8943feb1-13c1-485d-cda8-f8a5539c951e"
      }
    },
    {
      "cell_type": "code",
      "execution_count": null,
      "source": [],
      "outputs": [],
      "metadata": {
        "id": "9sI1oZFS0hHs"
      }
    }
  ]
}