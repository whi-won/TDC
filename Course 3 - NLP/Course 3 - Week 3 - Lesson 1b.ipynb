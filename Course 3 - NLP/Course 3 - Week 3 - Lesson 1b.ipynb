{
  "cells": [
    {
      "cell_type": "code",
      "execution_count": null,
      "source": [
        "#@title Licensed under the Apache License, Version 2.0 (the \"License\");\r\n",
        "# you may not use this file except in compliance with the License.\r\n",
        "# You may obtain a copy of the License at\r\n",
        "#\r\n",
        "# https://www.apache.org/licenses/LICENSE-2.0\r\n",
        "#\r\n",
        "# Unless required by applicable law or agreed to in writing, software\r\n",
        "# distributed under the License is distributed on an \"AS IS\" BASIS,\r\n",
        "# WITHOUT WARRANTIES OR CONDITIONS OF ANY KIND, either express or implied.\r\n",
        "# See the License for the specific language governing permissions and\r\n",
        "# limitations under the License."
      ],
      "outputs": [],
      "metadata": {
        "id": "zX4Kg8DUTKWO",
        "colab_type": "code",
        "colab": {}
      }
    },
    {
      "cell_type": "markdown",
      "source": [
        "# Multiple Layer LSTM"
      ],
      "metadata": {
        "colab_type": "text",
        "id": "rFiCyWQ-NC5D"
      }
    },
    {
      "cell_type": "code",
      "execution_count": null,
      "source": [
        "from __future__ import absolute_import, division, print_function, unicode_literals\r\n",
        "\r\n",
        "\r\n",
        "import tensorflow_datasets as tfds\r\n",
        "import tensorflow as tf\r\n",
        "print(tf.__version__)"
      ],
      "outputs": [],
      "metadata": {
        "colab": {},
        "colab_type": "code",
        "id": "Y20Lud2ZMBhW"
      }
    },
    {
      "cell_type": "code",
      "execution_count": null,
      "source": [
        "import tensorflow_datasets as tfds\r\n",
        "import tensorflow as tf\r\n",
        "print(tf.__version__)"
      ],
      "outputs": [],
      "metadata": {
        "colab": {},
        "colab_type": "code",
        "id": "uAU8g7C0MPZE"
      }
    },
    {
      "cell_type": "code",
      "execution_count": null,
      "source": [
        "# Get the data\r\n",
        "dataset, info = tfds.load('imdb_reviews/subwords8k', with_info=True, as_supervised=True)\r\n",
        "train_dataset, test_dataset = dataset['train'], dataset['test']\r\n"
      ],
      "outputs": [],
      "metadata": {
        "colab": {},
        "colab_type": "code",
        "id": "AW-4Vo4TMUHb"
      }
    },
    {
      "cell_type": "code",
      "execution_count": null,
      "source": [
        "tokenizer = info.features['text'].encoder"
      ],
      "outputs": [],
      "metadata": {
        "colab": {},
        "colab_type": "code",
        "id": "L11bIR6-PKvs"
      }
    },
    {
      "cell_type": "code",
      "execution_count": null,
      "source": [
        "BUFFER_SIZE = 10000\r\n",
        "BATCH_SIZE = 64\r\n",
        "\r\n",
        "train_dataset = train_dataset.shuffle(BUFFER_SIZE)\r\n",
        "train_dataset = train_dataset.padded_batch(BATCH_SIZE, tf.compat.v1.data.get_output_shapes(train_dataset))\r\n",
        "test_dataset = test_dataset.padded_batch(BATCH_SIZE, tf.compat.v1.data.get_output_shapes(test_dataset))"
      ],
      "outputs": [],
      "metadata": {
        "colab": {},
        "colab_type": "code",
        "id": "ffvRUI0_McDS"
      }
    },
    {
      "cell_type": "code",
      "execution_count": null,
      "source": [
        "model = tf.keras.Sequential([\r\n",
        "    tf.keras.layers.Embedding(tokenizer.vocab_size, 64),\r\n",
        "    tf.keras.layers.Bidirectional(tf.keras.layers.LSTM(64, return_sequences=True)),\r\n",
        "    tf.keras.layers.Bidirectional(tf.keras.layers.LSTM(32)),\r\n",
        "    tf.keras.layers.Dense(64, activation='relu'),\r\n",
        "    tf.keras.layers.Dense(1, activation='sigmoid')\r\n",
        "])"
      ],
      "outputs": [],
      "metadata": {
        "colab": {},
        "colab_type": "code",
        "id": "jo1jjO3vn0jo"
      }
    },
    {
      "cell_type": "code",
      "execution_count": null,
      "source": [
        "model.summary()"
      ],
      "outputs": [],
      "metadata": {
        "colab": {},
        "colab_type": "code",
        "id": "QKI5dfPgMioL"
      }
    },
    {
      "cell_type": "code",
      "execution_count": null,
      "source": [
        "model.compile(loss='binary_crossentropy', optimizer='adam', metrics=['accuracy'])"
      ],
      "outputs": [],
      "metadata": {
        "colab": {},
        "colab_type": "code",
        "id": "Uip7QOVzMoMq"
      }
    },
    {
      "cell_type": "code",
      "execution_count": null,
      "source": [
        "NUM_EPOCHS = 10\r\n",
        "history = model.fit(train_dataset, epochs=NUM_EPOCHS, validation_data=test_dataset)"
      ],
      "outputs": [],
      "metadata": {
        "colab": {},
        "colab_type": "code",
        "id": "7mlgzaRDMtF6"
      }
    },
    {
      "cell_type": "code",
      "execution_count": null,
      "source": [
        "import matplotlib.pyplot as plt\r\n",
        "\r\n",
        "\r\n",
        "def plot_graphs(history, string):\r\n",
        "  plt.plot(history.history[string])\r\n",
        "  plt.plot(history.history['val_'+string])\r\n",
        "  plt.xlabel(\"Epochs\")\r\n",
        "  plt.ylabel(string)\r\n",
        "  plt.legend([string, 'val_'+string])\r\n",
        "  plt.show()"
      ],
      "outputs": [],
      "metadata": {
        "colab": {},
        "colab_type": "code",
        "id": "Mp1Z7P9pYRSK"
      }
    },
    {
      "cell_type": "code",
      "execution_count": null,
      "source": [
        "plot_graphs(history, 'accuracy')"
      ],
      "outputs": [],
      "metadata": {
        "colab": {},
        "colab_type": "code",
        "id": "R_sX6ilIM515"
      }
    },
    {
      "cell_type": "code",
      "execution_count": null,
      "source": [
        "plot_graphs(history, 'loss')"
      ],
      "outputs": [],
      "metadata": {
        "colab": {},
        "colab_type": "code",
        "id": "RFEXtKtqNARB"
      }
    }
  ],
  "metadata": {
    "accelerator": "GPU",
    "colab": {
      "collapsed_sections": [],
      "name": "Course 3 - Week 3 - Lesson 1b.ipynb",
      "provenance": [],
      "toc_visible": true,
      "version": "0.3.2"
    },
    "kernelspec": {
      "display_name": "Python 3",
      "name": "python3"
    }
  },
  "nbformat": 4,
  "nbformat_minor": 2
}