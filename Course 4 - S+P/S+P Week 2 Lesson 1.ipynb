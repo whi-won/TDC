{
  "cells": [
    {
      "cell_type": "code",
      "execution_count": null,
      "source": [
        "#@title Licensed under the Apache License, Version 2.0 (the \"License\");\r\n",
        "# you may not use this file except in compliance with the License.\r\n",
        "# You may obtain a copy of the License at\r\n",
        "#\r\n",
        "# https://www.apache.org/licenses/LICENSE-2.0\r\n",
        "#\r\n",
        "# Unless required by applicable law or agreed to in writing, software\r\n",
        "# distributed under the License is distributed on an \"AS IS\" BASIS,\r\n",
        "# WITHOUT WARRANTIES OR CONDITIONS OF ANY KIND, either express or implied.\r\n",
        "# See the License for the specific language governing permissions and\r\n",
        "# limitations under the License."
      ],
      "outputs": [],
      "metadata": {
        "id": "zX4Kg8DUTKWO",
        "colab_type": "code",
        "colab": {}
      }
    },
    {
      "cell_type": "code",
      "execution_count": null,
      "source": [
        "try:\r\n",
        "  # %tensorflow_version only exists in Colab.\r\n",
        "  %tensorflow_version 2.x\r\n",
        "except Exception:\r\n",
        "  pass"
      ],
      "outputs": [],
      "metadata": {
        "colab": {},
        "colab_type": "code",
        "id": "s6eq-RBcQ_Zr"
      }
    },
    {
      "cell_type": "code",
      "execution_count": null,
      "source": [
        "import tensorflow as tf\r\n",
        "import numpy as np\r\n",
        "import matplotlib.pyplot as plt\r\n",
        "print(tf.__version__)"
      ],
      "outputs": [],
      "metadata": {
        "colab": {},
        "colab_type": "code",
        "id": "BOjujz601HcS"
      }
    },
    {
      "cell_type": "code",
      "execution_count": null,
      "source": [
        "dataset = tf.data.Dataset.range(10)\r\n",
        "for val in dataset:\r\n",
        "   print(val.numpy())"
      ],
      "outputs": [],
      "metadata": {
        "colab": {},
        "colab_type": "code",
        "id": "asEdslR_05O_"
      }
    },
    {
      "cell_type": "code",
      "execution_count": null,
      "source": [
        "dataset = tf.data.Dataset.range(10)\r\n",
        "dataset = dataset.window(5, shift=1) #5개씩 window에 쌓으면서 1씩 증가\r\n",
        "for window_dataset in dataset:\r\n",
        "  for val in window_dataset:\r\n",
        "    print(val.numpy(), end=\" \")\r\n",
        "  print()"
      ],
      "outputs": [],
      "metadata": {
        "colab": {},
        "colab_type": "code",
        "id": "Lrv_ghSt1lgQ"
      }
    },
    {
      "cell_type": "code",
      "execution_count": null,
      "source": [
        "dataset = tf.data.Dataset.range(10)\r\n",
        "# drop_remainder하면 5개 이하 그룹은 안나옴 ex 7 8 9\r\n",
        "dataset = dataset.window(5, shift=1, drop_remainder=True)\r\n",
        "for window_dataset in dataset:\r\n",
        "  for val in window_dataset:\r\n",
        "    print(val.numpy(), end=\" \")\r\n",
        "  print()"
      ],
      "outputs": [],
      "metadata": {
        "colab": {},
        "colab_type": "code",
        "id": "QLEq6MG-2DN2"
      }
    },
    {
      "cell_type": "code",
      "execution_count": null,
      "source": [
        "dataset = tf.data.Dataset.range(10)\r\n",
        "dataset = dataset.window(5, shift=1, drop_remainder=True)\r\n",
        "#batch 이용하여 배열로 만듬\r\n",
        "dataset = dataset.flat_map(lambda window: window.batch(5))\r\n",
        "for window in dataset:\r\n",
        "  print(window.numpy())\r\n"
      ],
      "outputs": [],
      "metadata": {
        "colab": {},
        "colab_type": "code",
        "id": "PJ9CAHlJ2ODe"
      }
    },
    {
      "cell_type": "code",
      "execution_count": null,
      "source": [
        "dataset = tf.data.Dataset.range(10)\r\n",
        "dataset = dataset.window(5, shift=1, drop_remainder=True)\r\n",
        "dataset = dataset.flat_map(lambda window: window.batch(5))\r\n",
        "# 가장 마지막에 있는애들만 자름 [0 1 2 3] [4]\r\n",
        "dataset = dataset.map(lambda window: (window[:-1], window[-1:]))\r\n",
        "for x,y in dataset:\r\n",
        "  print(x.numpy(), y.numpy())"
      ],
      "outputs": [],
      "metadata": {
        "colab": {},
        "colab_type": "code",
        "id": "DryEZ2Mz2nNV"
      }
    },
    {
      "cell_type": "code",
      "execution_count": null,
      "source": [
        "dataset = tf.data.Dataset.range(10)\r\n",
        "dataset = dataset.window(5, shift=1, drop_remainder=True)\r\n",
        "dataset = dataset.flat_map(lambda window: window.batch(5))\r\n",
        "dataset = dataset.map(lambda window: (window[:-1], window[-1:]))\r\n",
        "# 순서 섞음 실행할때마다 랜덤\r\n",
        "dataset = dataset.shuffle(buffer_size=10)\r\n",
        "for x,y in dataset:\r\n",
        "  print(x.numpy(), y.numpy())\r\n"
      ],
      "outputs": [],
      "metadata": {
        "colab": {},
        "colab_type": "code",
        "id": "1tl-0BOKkEtk"
      }
    },
    {
      "cell_type": "code",
      "execution_count": null,
      "source": [
        "dataset = tf.data.Dataset.range(10)\r\n",
        "dataset = dataset.window(5, shift=1, drop_remainder=True)\r\n",
        "dataset = dataset.flat_map(lambda window: window.batch(5))\r\n",
        "dataset = dataset.map(lambda window: (window[:-1], window[-1:]))\r\n",
        "dataset = dataset.shuffle(buffer_size=10)\r\n",
        "# batch 크기 2만큼의 데이터셋을 로드한다\r\n",
        "# prefetch : 현재 batch를 처리하는 중에, 다음 batch를 추가적인 메모리를 사용해서 준비해 놓는다. 속도 향상 기대가능\r\n",
        "dataset = dataset.batch(2).prefetch(1)\r\n",
        "for x,y in dataset:\r\n",
        "  print(\"x = \", x.numpy())\r\n",
        "  print(\"y = \", y.numpy())\r\n"
      ],
      "outputs": [],
      "metadata": {
        "colab": {},
        "colab_type": "code",
        "id": "Wa0PNwxMGapy"
      }
    }
  ],
  "metadata": {
    "accelerator": "GPU",
    "colab": {
      "name": "S+P Week 2 Lesson 1.ipynb",
      "provenance": [],
      "toc_visible": true
    },
    "kernelspec": {
      "display_name": "Python 3",
      "name": "python3"
    }
  },
  "nbformat": 4,
  "nbformat_minor": 2
}