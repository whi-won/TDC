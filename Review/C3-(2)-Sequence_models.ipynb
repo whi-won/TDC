{
 "cells": [
  {
   "cell_type": "code",
   "execution_count": 1,
   "source": [
    "import json\r\n",
    "import csv\r\n",
    "import random\r\n",
    "import numpy as np\r\n",
    "\r\n",
    "import tensorflow as tf\r\n",
    "\r\n",
    "from tensorflow.keras.preprocessing.text import Tokenizer\r\n",
    "from tensorflow.keras.preprocessing.sequence import pad_sequences\r\n",
    "from tensorflow.keras.utils import to_categorical\r\n",
    "from tensorflow.keras import regularizers"
   ],
   "outputs": [],
   "metadata": {}
  },
  {
   "cell_type": "markdown",
   "source": [
    "## Load data"
   ],
   "metadata": {}
  },
  {
   "cell_type": "code",
   "execution_count": 2,
   "source": [
    "!wget --no-check-certificate \\\r\n",
    "    https://storage.googleapis.com/laurencemoroney-blog.appspot.com/training_cleaned.csv \\\r\n",
    "    -O /tmp/training_cleaned.csv"
   ],
   "outputs": [
    {
     "output_type": "stream",
     "name": "stdout",
     "text": [
      "--2021-01-25 23:36:35--  https://storage.googleapis.com/laurencemoroney-blog.appspot.com/training_cleaned.csv\n",
      "Resolving storage.googleapis.com (storage.googleapis.com)... 34.64.4.80, 34.64.4.16, 2404:f340:10:1802::2010, ...\n",
      "Connecting to storage.googleapis.com (storage.googleapis.com)|34.64.4.80|:443... connected.\n",
      "HTTP request sent, awaiting response... 200 OK\n",
      "Length: 238942690 (228M) [application/octet-stream]\n",
      "Saving to: ‘/tmp/training_cleaned.csv’\n",
      "\n",
      "/tmp/training_clean 100%[===================>] 227.87M  1.47MB/s    in 79s     \n",
      "\n",
      "2021-01-25 23:37:56 (2.88 MB/s) - ‘/tmp/training_cleaned.csv’ saved [238942690/238942690]\n",
      "\n"
     ]
    }
   ],
   "metadata": {}
  },
  {
   "cell_type": "code",
   "execution_count": 4,
   "source": [
    "num_sentences = 0\r\n",
    "corpus = []\r\n",
    "\r\n",
    "with open(\"/tmp/training_cleaned.csv\") as csvfile:\r\n",
    "    reader = csv.reader(csvfile, delimiter=\",\")\r\n",
    "    for row in reader:\r\n",
    "        list_item = []\r\n",
    "        list_item.append(row[5])\r\n",
    "        \r\n",
    "        tmp_label = row[0]\r\n",
    "        if tmp_label == '0':\r\n",
    "            list_item.append(0)\r\n",
    "        else:\r\n",
    "            list_item.append(1)\r\n",
    "            \r\n",
    "        num_sentences = num_sentences + 1\r\n",
    "        corpus.append(list_item)"
   ],
   "outputs": [],
   "metadata": {}
  },
  {
   "cell_type": "code",
   "execution_count": 5,
   "source": [
    "print(num_sentences)"
   ],
   "outputs": [
    {
     "output_type": "stream",
     "name": "stdout",
     "text": [
      "1600000\n"
     ]
    }
   ],
   "metadata": {}
  },
  {
   "cell_type": "code",
   "execution_count": 6,
   "source": [
    "print(len(corpus))"
   ],
   "outputs": [
    {
     "output_type": "stream",
     "name": "stdout",
     "text": [
      "1600000\n"
     ]
    }
   ],
   "metadata": {}
  },
  {
   "cell_type": "code",
   "execution_count": 7,
   "source": [
    "print(corpus[1])"
   ],
   "outputs": [
    {
     "output_type": "stream",
     "name": "stdout",
     "text": [
      "[\"is upset that he can't update his Facebook by texting it... and might cry as a result  School today also. Blah!\", 0]\n"
     ]
    }
   ],
   "metadata": {}
  },
  {
   "cell_type": "code",
   "execution_count": 8,
   "source": [
    "print(corpus[0])"
   ],
   "outputs": [
    {
     "output_type": "stream",
     "name": "stdout",
     "text": [
      "[\"@switchfoot http://twitpic.com/2y1zl - Awww, that's a bummer.  You shoulda got David Carr of Third Day to do it. ;D\", 0]\n"
     ]
    }
   ],
   "metadata": {}
  },
  {
   "cell_type": "code",
   "execution_count": 9,
   "source": [
    "print(corpus[2])"
   ],
   "outputs": [
    {
     "output_type": "stream",
     "name": "stdout",
     "text": [
      "['@Kenichan I dived many times for the ball. Managed to save 50%  The rest go out of bounds', 0]\n"
     ]
    }
   ],
   "metadata": {}
  },
  {
   "cell_type": "code",
   "execution_count": 10,
   "source": [
    "embedding_dim = 100\r\n",
    "max_length = 16\r\n",
    "trunc_type='post'\r\n",
    "padding_type='post'\r\n",
    "oov_tok = \"<OOV>\"\r\n",
    "training_size=160000\r\n",
    "test_portion=.1"
   ],
   "outputs": [],
   "metadata": {}
  },
  {
   "cell_type": "code",
   "execution_count": 12,
   "source": [
    "sentences = []\r\n",
    "labels = []\r\n",
    "random.shuffle(corpus)\r\n",
    "\r\n",
    "for x in range(training_size):\r\n",
    "    labels.append(corpus[x][1])\r\n",
    "    sentences.append(corpus[x][0])"
   ],
   "outputs": [],
   "metadata": {}
  },
  {
   "cell_type": "markdown",
   "source": [
    "## Tokenize\n",
    "### Training data"
   ],
   "metadata": {}
  },
  {
   "cell_type": "code",
   "execution_count": 13,
   "source": [
    "tokenizer = Tokenizer()\r\n",
    "tokenizer.fit_on_texts(sentences)\r\n",
    "word_index = tokenizer.word_index\r\n",
    "\r\n",
    "vocab_size = len(word_index)\r\n",
    "print(vocab_size)"
   ],
   "outputs": [
    {
     "output_type": "stream",
     "name": "stdout",
     "text": [
      "138502\n"
     ]
    }
   ],
   "metadata": {}
  },
  {
   "cell_type": "code",
   "execution_count": 14,
   "source": [
    "sequences = tokenizer.texts_to_sequences(sentences)\r\n",
    "padded = pad_sequences(sequences, maxlen=max_length, padding=padding_type, truncating=trunc_type)"
   ],
   "outputs": [],
   "metadata": {}
  },
  {
   "cell_type": "markdown",
   "source": [
    "### test data"
   ],
   "metadata": {}
  },
  {
   "cell_type": "code",
   "execution_count": 15,
   "source": [
    "split = int(test_portion * training_size)\r\n",
    "\r\n",
    "test_seq = padded[0:split]\r\n",
    "training_seq = padded[split:training_size]\r\n",
    "\r\n",
    "test_labels = labels[0:split]\r\n",
    "training_labels = labels[split:training_size]"
   ],
   "outputs": [],
   "metadata": {}
  },
  {
   "cell_type": "code",
   "execution_count": 16,
   "source": [
    "!wget --no-check-certificate \\\r\n",
    "    https://storage.googleapis.com/laurencemoroney-blog.appspot.com/glove.6B.100d.txt \\\r\n",
    "    -O /tmp/glove.6B.100d.txt\r\n",
    "embeddings_index = {};\r\n",
    "with open('/tmp/glove.6B.100d.txt') as f:\r\n",
    "    for line in f:\r\n",
    "        values = line.split();\r\n",
    "        word = values[0];\r\n",
    "        coefs = np.asarray(values[1:], dtype='float32');\r\n",
    "        embeddings_index[word] = coefs;\r\n",
    "\r\n",
    "embeddings_matrix = np.zeros((vocab_size+1, embedding_dim));\r\n",
    "for word, i in word_index.items():\r\n",
    "    embedding_vector = embeddings_index.get(word);\r\n",
    "    if embedding_vector is not None:\r\n",
    "        embeddings_matrix[i] = embedding_vector;"
   ],
   "outputs": [
    {
     "output_type": "stream",
     "name": "stdout",
     "text": [
      "--2021-01-25 23:46:28--  https://storage.googleapis.com/laurencemoroney-blog.appspot.com/glove.6B.100d.txt\n",
      "Resolving storage.googleapis.com (storage.googleapis.com)... 34.64.4.80, 34.64.4.16, 2404:f340:10:1802::2010, ...\n",
      "Connecting to storage.googleapis.com (storage.googleapis.com)|34.64.4.80|:443... connected.\n",
      "HTTP request sent, awaiting response... 200 OK\n",
      "Length: 347116733 (331M) [text/plain]\n",
      "Saving to: ‘/tmp/glove.6B.100d.txt’\n",
      "\n",
      "/tmp/glove.6B.100d. 100%[===================>] 331.04M  3.86MB/s    in 1m 57s  \n",
      "\n",
      "2021-01-25 23:48:26 (2.83 MB/s) - ‘/tmp/glove.6B.100d.txt’ saved [347116733/347116733]\n",
      "\n"
     ]
    }
   ],
   "metadata": {}
  },
  {
   "cell_type": "code",
   "execution_count": 17,
   "source": [
    "print(len(embeddings_matrix))"
   ],
   "outputs": [
    {
     "output_type": "stream",
     "name": "stdout",
     "text": [
      "138503\n"
     ]
    }
   ],
   "metadata": {}
  },
  {
   "cell_type": "code",
   "execution_count": 21,
   "source": [
    "model = tf.keras.models.Sequential([\r\n",
    "    tf.keras.layers.Embedding(vocab_size+1, embedding_dim, input_length=max_length, weights=[embeddings_matrix], trainable=False),\r\n",
    "    tf.keras.layers.Dropout(0.2),\r\n",
    "    tf.keras.layers.Conv1D(64, 5, activation='relu'),\r\n",
    "    tf.keras.layers.MaxPooling1D(pool_size=4),\r\n",
    "    tf.keras.layers.LSTM(64),\r\n",
    "    tf.keras.layers.Dense(1, activation='sigmoid')\r\n",
    "])"
   ],
   "outputs": [],
   "metadata": {}
  },
  {
   "cell_type": "code",
   "execution_count": 22,
   "source": [
    "model.compile(optimizer='adam', loss='binary_crossentropy', metrics=['accuracy'])"
   ],
   "outputs": [],
   "metadata": {}
  },
  {
   "cell_type": "code",
   "execution_count": 23,
   "source": [
    "model.summary()"
   ],
   "outputs": [
    {
     "output_type": "stream",
     "name": "stdout",
     "text": [
      "Model: \"sequential\"\n",
      "_________________________________________________________________\n",
      "Layer (type)                 Output Shape              Param #   \n",
      "=================================================================\n",
      "embedding (Embedding)        (None, 16, 100)           13850300  \n",
      "_________________________________________________________________\n",
      "dropout (Dropout)            (None, 16, 100)           0         \n",
      "_________________________________________________________________\n",
      "conv1d (Conv1D)              (None, 12, 64)            32064     \n",
      "_________________________________________________________________\n",
      "max_pooling1d (MaxPooling1D) (None, 3, 64)             0         \n",
      "_________________________________________________________________\n",
      "lstm (LSTM)                  (None, 64)                33024     \n",
      "_________________________________________________________________\n",
      "dense (Dense)                (None, 1)                 65        \n",
      "=================================================================\n",
      "Total params: 13,915,453\n",
      "Trainable params: 65,153\n",
      "Non-trainable params: 13,850,300\n",
      "_________________________________________________________________\n"
     ]
    }
   ],
   "metadata": {}
  },
  {
   "cell_type": "code",
   "execution_count": 24,
   "source": [
    "num_epochs=50\r\n",
    "training_padded = np.array(training_seq)\r\n",
    "training_labels = np.array(training_labels)\r\n",
    "testing_padded = np.array(test_seq)\r\n",
    "testing_labels = np.array(test_labels)"
   ],
   "outputs": [],
   "metadata": {}
  },
  {
   "cell_type": "code",
   "execution_count": null,
   "source": [
    "history = model.fit(training_padded, training_labels, epochs=num_epochs, validation_data=(testing_padded, testing_labels), verbose=2)\r\n"
   ],
   "outputs": [],
   "metadata": {}
  },
  {
   "cell_type": "code",
   "execution_count": null,
   "source": [],
   "outputs": [],
   "metadata": {}
  }
 ],
 "metadata": {
  "kernelspec": {
   "display_name": "Python 3",
   "language": "python",
   "name": "python3"
  },
  "language_info": {
   "codemirror_mode": {
    "name": "ipython",
    "version": 3
   },
   "file_extension": ".py",
   "mimetype": "text/x-python",
   "name": "python",
   "nbconvert_exporter": "python",
   "pygments_lexer": "ipython3",
   "version": "3.7.9"
  }
 },
 "nbformat": 4,
 "nbformat_minor": 4
}