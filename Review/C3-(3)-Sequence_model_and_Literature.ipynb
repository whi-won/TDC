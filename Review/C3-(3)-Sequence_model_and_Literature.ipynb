{
 "cells": [
  {
   "cell_type": "code",
   "execution_count": 12,
   "metadata": {},
   "outputs": [],
   "source": [
    "import tensorflow as tf\n",
    "from tensorflow.keras.layers import Embedding, Dense, Dropout, LSTM, Bidirectional\n",
    "from tensorflow.keras.preprocessing.text import Tokenizer\n",
    "from tensorflow.keras.preprocessing.sequence import pad_sequences\n",
    "from tensorflow.keras import regularizers\n",
    "import tensorflow.keras.utils as ku\n",
    "import numpy as np"
   ]
  },
  {
   "cell_type": "markdown",
   "metadata": {},
   "source": [
    "### Load data"
   ]
  },
  {
   "cell_type": "code",
   "execution_count": 2,
   "metadata": {},
   "outputs": [
    {
     "name": "stdout",
     "output_type": "stream",
     "text": [
      "--2021-01-25 23:57:22--  https://storage.googleapis.com/laurencemoroney-blog.appspot.com/sonnets.txt\n",
      "Resolving storage.googleapis.com (storage.googleapis.com)... 34.64.4.16, 34.64.4.80, 2404:f340:10:1800::2010, ...\n",
      "Connecting to storage.googleapis.com (storage.googleapis.com)|34.64.4.16|:443... connected.\n",
      "HTTP request sent, awaiting response... 200 OK\n",
      "Length: 93578 (91K) [text/plain]\n",
      "Saving to: ‘/tmp/sonnets.txt’\n",
      "\n",
      "/tmp/sonnets.txt    100%[===================>]  91.38K  --.-KB/s    in 0.03s   \n",
      "\n",
      "2021-01-25 23:57:23 (2.56 MB/s) - ‘/tmp/sonnets.txt’ saved [93578/93578]\n",
      "\n"
     ]
    }
   ],
   "source": [
    "tokenizer = Tokenizer()\n",
    "!wget --no-check-certificate \\\n",
    "    https://storage.googleapis.com/laurencemoroney-blog.appspot.com/sonnets.txt \\\n",
    "    -O /tmp/sonnets.txt"
   ]
  },
  {
   "cell_type": "code",
   "execution_count": 3,
   "metadata": {},
   "outputs": [],
   "source": [
    "data = open('/tmp/sonnets.txt').read()\n",
    "corpus = data.lower().split(\"\\n\")"
   ]
  },
  {
   "cell_type": "code",
   "execution_count": 4,
   "metadata": {},
   "outputs": [
    {
     "name": "stdout",
     "output_type": "stream",
     "text": [
      "3211\n"
     ]
    }
   ],
   "source": [
    "tokenizer.fit_on_texts(corpus)\n",
    "total_words = len(tokenizer.word_index) + 1\n",
    "print(total_words)"
   ]
  },
  {
   "cell_type": "code",
   "execution_count": 5,
   "metadata": {},
   "outputs": [],
   "source": [
    "input_sequences = []\n",
    "\n",
    "for line in corpus:\n",
    "    token_list = tokenizer.texts_to_sequences([line])[0]\n",
    "    for i in range(1, len(token_list)):\n",
    "        n_gram_seq = token_list[:i+1]\n",
    "        input_sequences.append(n_gram_seq)"
   ]
  },
  {
   "cell_type": "code",
   "execution_count": 9,
   "metadata": {},
   "outputs": [],
   "source": [
    "max_seq_len = max([len(x) for x in input_sequences])\n",
    "input_sequences = np.array(pad_sequences(input_sequences, maxlen=max_seq_len, padding='pre'))"
   ]
  },
  {
   "cell_type": "code",
   "execution_count": 10,
   "metadata": {},
   "outputs": [],
   "source": [
    "pred, label = input_sequences[:, :-1], input_sequences[:, -1]\n",
    "label = ku.to_categorical(label, num_classes=total_words)"
   ]
  },
  {
   "cell_type": "code",
   "execution_count": 14,
   "metadata": {},
   "outputs": [
    {
     "name": "stdout",
     "output_type": "stream",
     "text": [
      "Model: \"sequential_2\"\n",
      "_________________________________________________________________\n",
      "Layer (type)                 Output Shape              Param #   \n",
      "=================================================================\n",
      "embedding (Embedding)        (None, 10, 100)           321100    \n",
      "_________________________________________________________________\n",
      "bidirectional (Bidirectional (None, 10, 300)           301200    \n",
      "_________________________________________________________________\n",
      "dropout (Dropout)            (None, 10, 300)           0         \n",
      "_________________________________________________________________\n",
      "lstm_1 (LSTM)                (None, 100)               160400    \n",
      "_________________________________________________________________\n",
      "dense (Dense)                (None, 1605)              162105    \n",
      "_________________________________________________________________\n",
      "dense_1 (Dense)              (None, 3211)              5156866   \n",
      "=================================================================\n",
      "Total params: 6,101,671\n",
      "Trainable params: 6,101,671\n",
      "Non-trainable params: 0\n",
      "_________________________________________________________________\n",
      "None\n"
     ]
    }
   ],
   "source": [
    "model = tf.keras.models.Sequential()\n",
    "model.add(Embedding(total_words, 100, input_length=max_seq_len-1))\n",
    "model.add(Bidirectional(LSTM(150, return_sequences=True)))\n",
    "model.add(Dropout(0.2))\n",
    "#model.add(Bidirectional(LSTM(100)))# Another LSTM Layer\n",
    "model.add(LSTM(100))\n",
    "model.add(Dense(total_words/2, activation='relu', kernel_regularizer=regularizers.l2(0.01)))# A Dense Layer including regularizers\n",
    "model.add(Dense(total_words, activation='softmax'))\n",
    "\n",
    "model.compile(optimizer='adam', loss='categorical_crossentropy', metrics=['accuracy']) # Pick a loss function and an optimizer\n",
    "print(model.summary())"
   ]
  },
  {
   "cell_type": "code",
   "execution_count": 15,
   "metadata": {},
   "outputs": [
    {
     "name": "stdout",
     "output_type": "stream",
     "text": [
      "Epoch 1/100\n",
      "484/484 [==============================] - 14s 29ms/step - loss: 6.9143 - accuracy: 0.0188\n",
      "Epoch 2/100\n",
      "484/484 [==============================] - 13s 28ms/step - loss: 6.5047 - accuracy: 0.0217\n",
      "Epoch 3/100\n",
      "484/484 [==============================] - 13s 28ms/step - loss: 6.4043 - accuracy: 0.0255\n",
      "Epoch 4/100\n",
      "484/484 [==============================] - 14s 30ms/step - loss: 6.2782 - accuracy: 0.0292\n",
      "Epoch 5/100\n",
      "484/484 [==============================] - 13s 28ms/step - loss: 6.1920 - accuracy: 0.0319\n",
      "Epoch 6/100\n",
      "484/484 [==============================] - 13s 28ms/step - loss: 6.1230 - accuracy: 0.0380\n",
      "Epoch 7/100\n",
      "484/484 [==============================] - 13s 27ms/step - loss: 6.0504 - accuracy: 0.0407\n",
      "Epoch 8/100\n",
      "484/484 [==============================] - 13s 28ms/step - loss: 5.9784 - accuracy: 0.0455\n",
      "Epoch 9/100\n",
      "484/484 [==============================] - 13s 28ms/step - loss: 5.8889 - accuracy: 0.0513\n",
      "Epoch 10/100\n",
      "484/484 [==============================] - 13s 28ms/step - loss: 5.7850 - accuracy: 0.0576\n",
      "Epoch 11/100\n",
      "484/484 [==============================] - 13s 27ms/step - loss: 5.6867 - accuracy: 0.0614\n",
      "Epoch 12/100\n",
      "484/484 [==============================] - 14s 28ms/step - loss: 5.5908 - accuracy: 0.0662\n",
      "Epoch 13/100\n",
      "484/484 [==============================] - 13s 27ms/step - loss: 5.5049 - accuracy: 0.0708\n",
      "Epoch 14/100\n",
      "484/484 [==============================] - 13s 28ms/step - loss: 5.4282 - accuracy: 0.0751\n",
      "Epoch 15/100\n",
      "484/484 [==============================] - 13s 27ms/step - loss: 5.3454 - accuracy: 0.0777\n",
      "Epoch 16/100\n",
      "484/484 [==============================] - 13s 27ms/step - loss: 5.2699 - accuracy: 0.0845\n",
      "Epoch 17/100\n",
      "484/484 [==============================] - 13s 27ms/step - loss: 5.1922 - accuracy: 0.0869\n",
      "Epoch 18/100\n",
      "484/484 [==============================] - 13s 27ms/step - loss: 5.1120 - accuracy: 0.0924\n",
      "Epoch 19/100\n",
      "484/484 [==============================] - 13s 26ms/step - loss: 5.0366 - accuracy: 0.0981\n",
      "Epoch 20/100\n",
      "484/484 [==============================] - 13s 26ms/step - loss: 4.9493 - accuracy: 0.1043\n",
      "Epoch 21/100\n",
      "484/484 [==============================] - 13s 26ms/step - loss: 4.8675 - accuracy: 0.1090\n",
      "Epoch 22/100\n",
      "484/484 [==============================] - 13s 27ms/step - loss: 4.7818 - accuracy: 0.1171\n",
      "Epoch 23/100\n",
      "484/484 [==============================] - 13s 26ms/step - loss: 4.6942 - accuracy: 0.1240\n",
      "Epoch 24/100\n",
      "484/484 [==============================] - 13s 27ms/step - loss: 4.6099 - accuracy: 0.1296\n",
      "Epoch 25/100\n",
      "484/484 [==============================] - 13s 27ms/step - loss: 4.5256 - accuracy: 0.1396\n",
      "Epoch 26/100\n",
      "484/484 [==============================] - 13s 26ms/step - loss: 4.4376 - accuracy: 0.1501\n",
      "Epoch 27/100\n",
      "484/484 [==============================] - 13s 26ms/step - loss: 4.3596 - accuracy: 0.1559\n",
      "Epoch 28/100\n",
      "484/484 [==============================] - 13s 27ms/step - loss: 4.2726 - accuracy: 0.1674\n",
      "Epoch 29/100\n",
      "484/484 [==============================] - 13s 27ms/step - loss: 4.1919 - accuracy: 0.1754\n",
      "Epoch 30/100\n",
      "484/484 [==============================] - 13s 27ms/step - loss: 4.1101 - accuracy: 0.1903\n",
      "Epoch 31/100\n",
      "484/484 [==============================] - 13s 26ms/step - loss: 4.0372 - accuracy: 0.2032\n",
      "Epoch 32/100\n",
      "484/484 [==============================] - 13s 26ms/step - loss: 3.9613 - accuracy: 0.2143\n",
      "Epoch 33/100\n",
      "484/484 [==============================] - 14s 29ms/step - loss: 3.8843 - accuracy: 0.2305\n",
      "Epoch 34/100\n",
      "484/484 [==============================] - 14s 28ms/step - loss: 3.8159 - accuracy: 0.2372\n",
      "Epoch 35/100\n",
      "484/484 [==============================] - 13s 27ms/step - loss: 3.7405 - accuracy: 0.2564\n",
      "Epoch 36/100\n",
      "484/484 [==============================] - 13s 26ms/step - loss: 3.6717 - accuracy: 0.2670\n",
      "Epoch 37/100\n",
      "484/484 [==============================] - 14s 30ms/step - loss: 3.6069 - accuracy: 0.2817\n",
      "Epoch 38/100\n",
      "484/484 [==============================] - 14s 29ms/step - loss: 3.5423 - accuracy: 0.2928\n",
      "Epoch 39/100\n",
      "484/484 [==============================] - 13s 27ms/step - loss: 3.4823 - accuracy: 0.3016\n",
      "Epoch 40/100\n",
      "484/484 [==============================] - 12s 26ms/step - loss: 3.4146 - accuracy: 0.3224\n",
      "Epoch 41/100\n",
      "484/484 [==============================] - 12s 25ms/step - loss: 3.3464 - accuracy: 0.3310\n",
      "Epoch 42/100\n",
      "484/484 [==============================] - 15s 31ms/step - loss: 3.2889 - accuracy: 0.3486\n",
      "Epoch 43/100\n",
      "484/484 [==============================] - 14s 28ms/step - loss: 3.2396 - accuracy: 0.3576\n",
      "Epoch 44/100\n",
      "484/484 [==============================] - 13s 27ms/step - loss: 3.1707 - accuracy: 0.3729\n",
      "Epoch 45/100\n",
      "484/484 [==============================] - 13s 27ms/step - loss: 3.1095 - accuracy: 0.3865\n",
      "Epoch 46/100\n",
      "484/484 [==============================] - 13s 28ms/step - loss: 3.0582 - accuracy: 0.3979\n",
      "Epoch 47/100\n",
      "484/484 [==============================] - 13s 27ms/step - loss: 3.0056 - accuracy: 0.4070\n",
      "Epoch 48/100\n",
      "484/484 [==============================] - 13s 27ms/step - loss: 2.9574 - accuracy: 0.4198\n",
      "Epoch 49/100\n",
      "484/484 [==============================] - 13s 27ms/step - loss: 2.9121 - accuracy: 0.4295\n",
      "Epoch 50/100\n",
      "484/484 [==============================] - 13s 27ms/step - loss: 2.8608 - accuracy: 0.4407\n",
      "Epoch 51/100\n",
      "484/484 [==============================] - 13s 27ms/step - loss: 2.8001 - accuracy: 0.4521\n",
      "Epoch 52/100\n",
      "484/484 [==============================] - 13s 27ms/step - loss: 2.7545 - accuracy: 0.4664\n",
      "Epoch 53/100\n",
      "484/484 [==============================] - 13s 27ms/step - loss: 2.7042 - accuracy: 0.4790\n",
      "Epoch 54/100\n",
      "484/484 [==============================] - 13s 26ms/step - loss: 2.6692 - accuracy: 0.4847\n",
      "Epoch 55/100\n",
      "484/484 [==============================] - 13s 27ms/step - loss: 2.6188 - accuracy: 0.4953\n",
      "Epoch 56/100\n",
      "484/484 [==============================] - 13s 27ms/step - loss: 2.5744 - accuracy: 0.5043\n",
      "Epoch 57/100\n",
      "484/484 [==============================] - 13s 27ms/step - loss: 2.5257 - accuracy: 0.5179\n",
      "Epoch 58/100\n",
      "484/484 [==============================] - 13s 27ms/step - loss: 2.4911 - accuracy: 0.5250\n",
      "Epoch 59/100\n",
      "484/484 [==============================] - 13s 28ms/step - loss: 2.4640 - accuracy: 0.5273\n",
      "Epoch 60/100\n",
      "484/484 [==============================] - 13s 27ms/step - loss: 2.4059 - accuracy: 0.5450\n",
      "Epoch 61/100\n",
      "484/484 [==============================] - 13s 27ms/step - loss: 2.3686 - accuracy: 0.5501\n",
      "Epoch 62/100\n",
      "484/484 [==============================] - 13s 27ms/step - loss: 2.3434 - accuracy: 0.5579\n",
      "Epoch 63/100\n",
      "484/484 [==============================] - 13s 27ms/step - loss: 2.2970 - accuracy: 0.5634\n",
      "Epoch 64/100\n",
      "484/484 [==============================] - 13s 27ms/step - loss: 2.2754 - accuracy: 0.5711\n",
      "Epoch 65/100\n",
      "484/484 [==============================] - 14s 28ms/step - loss: 2.2502 - accuracy: 0.5766\n",
      "Epoch 66/100\n",
      "484/484 [==============================] - 14s 29ms/step - loss: 2.1939 - accuracy: 0.5877\n",
      "Epoch 67/100\n",
      "484/484 [==============================] - 14s 28ms/step - loss: 2.1572 - accuracy: 0.5947\n",
      "Epoch 68/100\n",
      "484/484 [==============================] - 14s 28ms/step - loss: 2.1383 - accuracy: 0.6032\n",
      "Epoch 69/100\n",
      "484/484 [==============================] - 13s 27ms/step - loss: 2.1177 - accuracy: 0.6062\n",
      "Epoch 70/100\n",
      "484/484 [==============================] - 14s 29ms/step - loss: 2.0676 - accuracy: 0.6123\n",
      "Epoch 71/100\n",
      "484/484 [==============================] - 13s 27ms/step - loss: 2.0433 - accuracy: 0.6220\n",
      "Epoch 72/100\n",
      "484/484 [==============================] - 13s 26ms/step - loss: 2.0149 - accuracy: 0.6281\n",
      "Epoch 73/100\n",
      "484/484 [==============================] - 12s 26ms/step - loss: 1.9834 - accuracy: 0.6363\n",
      "Epoch 74/100\n",
      "484/484 [==============================] - 13s 27ms/step - loss: 1.9749 - accuracy: 0.6375\n",
      "Epoch 75/100\n",
      "484/484 [==============================] - 12s 26ms/step - loss: 1.9407 - accuracy: 0.6456\n",
      "Epoch 76/100\n",
      "484/484 [==============================] - 12s 25ms/step - loss: 1.9214 - accuracy: 0.6506\n",
      "Epoch 77/100\n",
      "484/484 [==============================] - 13s 27ms/step - loss: 1.8930 - accuracy: 0.6525\n",
      "Epoch 78/100\n",
      "484/484 [==============================] - 13s 27ms/step - loss: 1.8557 - accuracy: 0.6608\n",
      "Epoch 79/100\n"
     ]
    },
    {
     "name": "stdout",
     "output_type": "stream",
     "text": [
      "484/484 [==============================] - 13s 27ms/step - loss: 1.8310 - accuracy: 0.6712\n",
      "Epoch 80/100\n",
      "484/484 [==============================] - 14s 28ms/step - loss: 1.8207 - accuracy: 0.6657\n",
      "Epoch 81/100\n",
      "484/484 [==============================] - 14s 29ms/step - loss: 1.7831 - accuracy: 0.6787\n",
      "Epoch 82/100\n",
      "484/484 [==============================] - 15s 30ms/step - loss: 1.7699 - accuracy: 0.6786\n",
      "Epoch 83/100\n",
      "484/484 [==============================] - 13s 28ms/step - loss: 1.7545 - accuracy: 0.6828\n",
      "Epoch 84/100\n",
      "484/484 [==============================] - 12s 26ms/step - loss: 1.7323 - accuracy: 0.6886\n",
      "Epoch 85/100\n",
      "484/484 [==============================] - 12s 26ms/step - loss: 1.6921 - accuracy: 0.7025\n",
      "Epoch 86/100\n",
      "484/484 [==============================] - 14s 29ms/step - loss: 1.6902 - accuracy: 0.6984\n",
      "Epoch 87/100\n",
      "484/484 [==============================] - 13s 27ms/step - loss: 1.6577 - accuracy: 0.7053\n",
      "Epoch 88/100\n",
      "484/484 [==============================] - 13s 27ms/step - loss: 1.6498 - accuracy: 0.7053\n",
      "Epoch 89/100\n",
      "484/484 [==============================] - 13s 28ms/step - loss: 1.6201 - accuracy: 0.7112\n",
      "Epoch 90/100\n",
      "484/484 [==============================] - 14s 28ms/step - loss: 1.6155 - accuracy: 0.7125\n",
      "Epoch 91/100\n",
      "484/484 [==============================] - 14s 28ms/step - loss: 1.6020 - accuracy: 0.7153\n",
      "Epoch 92/100\n",
      "484/484 [==============================] - 14s 29ms/step - loss: 1.5785 - accuracy: 0.7174\n",
      "Epoch 93/100\n",
      "484/484 [==============================] - 15s 31ms/step - loss: 1.5481 - accuracy: 0.7297\n",
      "Epoch 94/100\n",
      "484/484 [==============================] - 14s 28ms/step - loss: 1.5365 - accuracy: 0.7271\n",
      "Epoch 95/100\n",
      "484/484 [==============================] - 15s 30ms/step - loss: 1.5190 - accuracy: 0.7330\n",
      "Epoch 96/100\n",
      "484/484 [==============================] - 15s 30ms/step - loss: 1.5114 - accuracy: 0.7308\n",
      "Epoch 97/100\n",
      "484/484 [==============================] - 15s 30ms/step - loss: 1.4867 - accuracy: 0.7368\n",
      "Epoch 98/100\n",
      "484/484 [==============================] - 14s 28ms/step - loss: 1.4765 - accuracy: 0.7393\n",
      "Epoch 99/100\n",
      "484/484 [==============================] - 14s 30ms/step - loss: 1.4592 - accuracy: 0.7436\n",
      "Epoch 100/100\n",
      "484/484 [==============================] - 13s 28ms/step - loss: 1.4511 - accuracy: 0.7454\n"
     ]
    }
   ],
   "source": [
    "history = model.fit(pred, label, epochs=100, verbose=1)"
   ]
  },
  {
   "cell_type": "code",
   "execution_count": 17,
   "metadata": {},
   "outputs": [
    {
     "data": {
      "image/png": "[encoded data removed]",
      "text/plain": [
       "<Figure size 432x288 with 1 Axes>"
      ]
     },
     "metadata": {
      "needs_background": "light"
     },
     "output_type": "display_data"
    },
    {
     "data": {
      "image/png": "[encoded data removed]",
      "text/plain": [
       "<Figure size 432x288 with 1 Axes>"
      ]
     },
     "metadata": {
      "needs_background": "light"
     },
     "output_type": "display_data"
    }
   ],
   "source": [
    "import matplotlib.pyplot as plt\n",
    "acc = history.history['accuracy']\n",
    "loss = history.history['loss']\n",
    "\n",
    "epochs = range(len(acc))\n",
    "\n",
    "plt.plot(epochs, acc, 'b', label='Training accuracy')\n",
    "plt.title('Training accuracy')\n",
    "\n",
    "plt.figure()\n",
    "\n",
    "plt.plot(epochs, loss, 'b', label='Training Loss')\n",
    "plt.title('Training loss')\n",
    "plt.legend()\n",
    "\n",
    "plt.show()"
   ]
  },
  {
   "cell_type": "code",
   "execution_count": 18,
   "metadata": {},
   "outputs": [
    {
     "name": "stdout",
     "output_type": "stream",
     "text": [
      "WARNING:tensorflow:From <ipython-input-18-931189ac74cb>:7: Sequential.predict_classes (from tensorflow.python.keras.engine.sequential) is deprecated and will be removed after 2021-01-01.\n",
      "Instructions for updating:\n",
      "Please use instead:* `np.argmax(model.predict(x), axis=-1)`,   if your model does multi-class classification   (e.g. if it uses a `softmax` last-layer activation).* `(model.predict(x) > 0.5).astype(\"int32\")`,   if your model does binary classification   (e.g. if it uses a `sigmoid` last-layer activation).\n",
      "Help me Obi Wan Kenobi, you're my only hope so view despair eyes torn tongue ' might true prove lie for me each o'er sight are character than strong delight had arising seen end faith out time out tongue faith out out o'er glory so great pleasure show thine eye will for thee that time of hearsay to sit prove argument despair eye time look time time of all thy will will decay rare prove heart tongue ' o'er prove deep eyes than place is have nature praise ' ill well confined lie to men prove thee you die die lie a dead grow well men grow men shown\n"
     ]
    }
   ],
   "source": [
    "seed_text = \"Help me Obi Wan Kenobi, you're my only hope\"\n",
    "next_words = 100\n",
    "  \n",
    "for _ in range(next_words):\n",
    "    token_list = tokenizer.texts_to_sequences([seed_text])[0]\n",
    "    token_list = pad_sequences([token_list], maxlen=max_seq_len-1, padding='pre')\n",
    "    predicted = model.predict_classes(token_list, verbose=0)\n",
    "    output_word = \"\"\n",
    "    for word, index in tokenizer.word_index.items():\n",
    "        if index == predicted:\n",
    "            output_word = word\n",
    "            break\n",
    "    seed_text += \" \" + output_word\n",
    "print(seed_text)"
   ]
  },
  {
   "cell_type": "code",
   "execution_count": null,
   "metadata": {},
   "outputs": [],
   "source": []
  }
 ],
 "metadata": {
  "kernelspec": {
   "display_name": "Python 3",
   "language": "python",
   "name": "python3"
  },
  "language_info": {
   "codemirror_mode": {
    "name": "ipython",
    "version": 3
   },
   "file_extension": ".py",
   "mimetype": "text/x-python",
   "name": "python",
   "nbconvert_exporter": "python",
   "pygments_lexer": "ipython3",
   "version": "3.7.9"
  }
 },
 "nbformat": 4,
 "nbformat_minor": 4
}
