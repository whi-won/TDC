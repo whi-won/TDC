{
  "nbformat": 4,
  "nbformat_minor": 2,
  "metadata": {
    "accelerator": "GPU",
    "colab": {
      "name": "W4-Sequence_model-Literature-Realdata",
      "provenance": [],
      "collapsed_sections": []
    },
    "kernelspec": {
      "display_name": "Python 3",
      "name": "python3"
    }
  },
  "cells": [
    {
      "cell_type": "markdown",
      "source": [
        "<a href=\"https://colab.research.google.com/github/lmoroney/dlaicourse/blob/master/TensorFlow%20In%20Practice/Course%203%20-%20NLP/Course%203%20-%20Week%204%20-%20Lesson%202%20-%20Notebook.ipynb\" target=\"_parent\"><img src=\"https://colab.research.google.com/assets/colab-badge.svg\" alt=\"Open In Colab\"/></a>"
      ],
      "metadata": {
        "id": "view-in-github"
      }
    },
    {
      "cell_type": "code",
      "execution_count": 1,
      "source": [
        "import tensorflow as tf\r\n",
        "\r\n",
        "from tensorflow.keras.preprocessing.sequence import pad_sequences\r\n",
        "from tensorflow.keras.layers import Embedding, LSTM, Dense, Bidirectional\r\n",
        "from tensorflow.keras.preprocessing.text import Tokenizer\r\n",
        "from tensorflow.keras.models import Sequential\r\n",
        "from tensorflow.keras.optimizers import Adam\r\n",
        "import numpy as np "
      ],
      "outputs": [],
      "metadata": {
        "id": "BOwsuGQQY9OL"
      }
    },
    {
      "cell_type": "code",
      "execution_count": 2,
      "source": [
        "!wget --no-check-certificate \\\r\n",
        "    https://storage.googleapis.com/laurencemoroney-blog.appspot.com/irish-lyrics-eof.txt \\\r\n",
        "    -O /tmp/irish-lyrics-eof.txt"
      ],
      "outputs": [
        {
          "output_type": "stream",
          "name": "stdout",
          "text": [
            "--2021-01-19 16:47:45--  https://storage.googleapis.com/laurencemoroney-blog.appspot.com/irish-lyrics-eof.txt\n",
            "Resolving storage.googleapis.com (storage.googleapis.com)... 74.125.20.128, 74.125.28.128, 74.125.142.128, ...\n",
            "Connecting to storage.googleapis.com (storage.googleapis.com)|74.125.20.128|:443... connected.\n",
            "HTTP request sent, awaiting response... 200 OK\n",
            "Length: 68970 (67K) [text/plain]\n",
            "Saving to: ‘/tmp/irish-lyrics-eof.txt’\n",
            "\n",
            "\r          /tmp/iris   0%[                    ]       0  --.-KB/s               \r/tmp/irish-lyrics-e 100%[===================>]  67.35K  --.-KB/s    in 0.001s  \n",
            "\n",
            "2021-01-19 16:47:45 (110 MB/s) - ‘/tmp/irish-lyrics-eof.txt’ saved [68970/68970]\n",
            "\n"
          ]
        }
      ],
      "metadata": {
        "id": "pylt5qZYsWPh",
        "colab": {
          "base_uri": "https://localhost:8080/"
        },
        "outputId": "028f5294-3874-48af-f792-0557dcdaad71"
      }
    },
    {
      "cell_type": "markdown",
      "source": [
        "## Load data\n",
        "데이터 구조를 살펴보면 알겠지만 문장과 문장 사이는 엔터로 구분되어 있음."
      ],
      "metadata": {
        "id": "nBJfeMJojGdp"
      }
    },
    {
      "cell_type": "code",
      "execution_count": null,
      "source": [
        "tokenizer = Tokenizer()\r\n",
        "\r\n",
        "data = open('/tmp/irish-lyrics-eof.txt').read() # 이제 데이터를 하드코딩하는게 아니라 읽어올거임\r\n",
        "\r\n",
        "corpus = data.lower().split(\"\\n\") # 엔터를 기준으로 나눠서 corpus 생성\r\n",
        "\r\n",
        "tokenizer.fit_on_texts(corpus)\r\n",
        "total_words = len(tokenizer.word_index) + 1\r\n",
        "\r\n",
        "print(tokenizer.word_index) # Total number of unique word in this corpus\r\n",
        "print(total_words)\r\n"
      ],
      "outputs": [],
      "metadata": {
        "id": "PRnDnCW-Z7qv",
        "colab": {
          "base_uri": "https://localhost:8080/"
        },
        "outputId": "5ebe370b-c6c4-4dd8-8f02-659d2b11a6bd"
      }
    },
    {
      "cell_type": "markdown",
      "source": [
        "## Corpus를 training data로 만들기"
      ],
      "metadata": {
        "id": "RClfxmf3jgNp"
      }
    },
    {
      "cell_type": "code",
      "execution_count": 5,
      "source": [
        "input_sequences = []\r\n",
        "for line in corpus:\r\n",
        "  # Then for each line in the corpus, we'll generate a token list using the tokenizers, texts to sequences method.\r\n",
        "  # 이렇게 하면 line of text가 그 줄의 각 단어를 나타내는 token list로 반환됨.\r\n",
        "\ttoken_list = tokenizer.texts_to_sequences([line])[0] \r\n",
        "\tfor i in range(1, len(token_list)):\r\n",
        "\t\tn_gram_sequence = token_list[:i+1]\r\n",
        "\t\tinput_sequences.append(n_gram_sequence) # 어떤 문장(line)에 대한 input sequence는 line의 token list를 지나오면서 하나씩 추가된다.\r\n",
        "\r\n",
        "# 따라서 어떤 문장(line)의 모든 단어의 token을 갖고 있는 입력 sequence는 맨 마지막 sequence인, input sequences 중 가장 긴 길이를 갖고 있는 sequence일 것이다.\r\n",
        "max_sequence_len = max([len(x) for x in input_sequences])\r\n",
        "\r\n",
        "# pad sequences : 가장 길이가 긴 sequence를 찾았으면 패딩하여 모든 sequence의 길이를 맞춘다. 이 때, 라벨을 쉽게 추출할 수 있도록 *PRE* 패딩한다.\r\n",
        "input_sequences = np.array(pad_sequences(input_sequences, maxlen=max_sequence_len, padding='pre'))\r\n",
        "\r\n",
        "# 한 문장이 토큰이 하나씩 추가되며 표현되었으므로, 마지막 문자(token)를 제외한 모든 문자를 Input X로 가져가고, 마지막 문자를 Label Y로 가져가게 한다.\r\n",
        " # 슬라이싱 범위 주의\r\n",
        "xs = input_sequences[:,:-1] # [전체, 마지막 하나 빼고 전체]\r\n",
        "labels = input_sequences[:,-1] # [전체, 마지막 하나]\r\n",
        "ys = tf.keras.utils.to_categorical(labels, num_classes=total_words)"
      ],
      "outputs": [],
      "metadata": {
        "id": "soPGVheskaQP"
      }
    },
    {
      "cell_type": "code",
      "execution_count": 6,
      "source": [
        "print(tokenizer.word_index['in'])\r\n",
        "print(tokenizer.word_index['the'])\r\n",
        "print(tokenizer.word_index['town'])\r\n",
        "print(tokenizer.word_index['of'])\r\n",
        "print(tokenizer.word_index['athy'])\r\n",
        "print(tokenizer.word_index['one'])\r\n",
        "print(tokenizer.word_index['jeremy'])\r\n",
        "print(tokenizer.word_index['lanigan'])"
      ],
      "outputs": [
        {
          "output_type": "stream",
          "name": "stdout",
          "text": [
            "8\n",
            "1\n",
            "71\n",
            "6\n",
            "713\n",
            "39\n",
            "1790\n",
            "1791\n"
          ]
        }
      ],
      "metadata": {
        "id": "pJtwVB2NbOAP",
        "colab": {
          "base_uri": "https://localhost:8080/"
        },
        "outputId": "7ba50248-16d6-4582-dd9c-deb1de9895ef"
      }
    },
    {
      "cell_type": "code",
      "execution_count": 7,
      "source": [
        "print(xs[6])"
      ],
      "outputs": [
        {
          "output_type": "stream",
          "name": "stdout",
          "text": [
            "[0 0 0 0 0 0 0 0 0 0 0 0 0 0 2]\n"
          ]
        }
      ],
      "metadata": {
        "id": "49Cv68JOakwv",
        "colab": {
          "base_uri": "https://localhost:8080/"
        },
        "outputId": "feb20145-8905-476d-cfad-046b2c92b1cb"
      }
    },
    {
      "cell_type": "code",
      "execution_count": 8,
      "source": [
        "print(ys[6])"
      ],
      "outputs": [
        {
          "output_type": "stream",
          "name": "stdout",
          "text": [
            "[0. 0. 0. ... 0. 0. 0.]\n"
          ]
        }
      ],
      "metadata": {
        "id": "iY-jwvfgbEF8",
        "colab": {
          "base_uri": "https://localhost:8080/"
        },
        "outputId": "3eafa9e1-b43b-477e-8241-bba75fd763bd"
      }
    },
    {
      "cell_type": "code",
      "execution_count": 9,
      "source": [
        "print(xs[5])\r\n",
        "print(ys[5])"
      ],
      "outputs": [
        {
          "output_type": "stream",
          "name": "stdout",
          "text": [
            "[   0    0    0    0    0    0    0    0    0   51   12   96 1217   48\n",
            "    2]\n",
            "[0. 0. 0. ... 0. 0. 0.]\n"
          ]
        }
      ],
      "metadata": {
        "id": "wtzlUMYadhKt",
        "colab": {
          "base_uri": "https://localhost:8080/"
        },
        "outputId": "5d61e01c-6570-421a-fc52-cf54d9bac818"
      }
    },
    {
      "cell_type": "code",
      "execution_count": null,
      "source": [
        "print(tokenizer.word_index)"
      ],
      "outputs": [],
      "metadata": {
        "id": "H4myRpB1c4Gg",
        "colab": {
          "base_uri": "https://localhost:8080/"
        },
        "outputId": "3ac24593-b56c-4f0f-bf86-f6f81a07deef"
      }
    },
    {
      "cell_type": "code",
      "execution_count": 11,
      "source": [
        "model = Sequential()\r\n",
        "model.add(Embedding(total_words, 100, input_length=max_sequence_len-1))\r\n",
        "model.add(Bidirectional(LSTM(150)))\r\n",
        "model.add(Dense(total_words, activation='softmax'))\r\n",
        "adam = Adam(lr=0.01)\r\n",
        "model.compile(loss='categorical_crossentropy', optimizer=adam, metrics=['accuracy'])\r\n",
        "#earlystop = EarlyStopping(monitor='val_loss', min_delta=0, patience=5, verbose=0, mode='auto')\r\n",
        "history = model.fit(xs, ys, epochs=100, verbose=1)\r\n",
        "#print model.summary()\r\n",
        "print(model)\r\n"
      ],
      "outputs": [
        {
          "output_type": "stream",
          "name": "stdout",
          "text": [
            "Epoch 1/100\n",
            "377/377 [==============================] - 13s 10ms/step - loss: 6.8250 - accuracy: 0.0635\n",
            "Epoch 2/100\n",
            "377/377 [==============================] - 4s 9ms/step - loss: 5.7158 - accuracy: 0.1111\n",
            "Epoch 3/100\n",
            "377/377 [==============================] - 4s 10ms/step - loss: 4.7627 - accuracy: 0.1745\n",
            "Epoch 4/100\n",
            "377/377 [==============================] - 4s 9ms/step - loss: 3.7858 - accuracy: 0.2534\n",
            "Epoch 5/100\n",
            "377/377 [==============================] - 3s 9ms/step - loss: 2.8675 - accuracy: 0.3818\n",
            "Epoch 6/100\n",
            "377/377 [==============================] - 4s 10ms/step - loss: 2.2695 - accuracy: 0.4863\n",
            "Epoch 7/100\n",
            "377/377 [==============================] - 3s 9ms/step - loss: 1.7781 - accuracy: 0.5819\n",
            "Epoch 8/100\n",
            "377/377 [==============================] - 4s 10ms/step - loss: 1.4477 - accuracy: 0.6602\n",
            "Epoch 9/100\n",
            "377/377 [==============================] - 3s 9ms/step - loss: 1.2478 - accuracy: 0.7055\n",
            "Epoch 10/100\n",
            "377/377 [==============================] - 3s 9ms/step - loss: 1.0951 - accuracy: 0.7358\n",
            "Epoch 11/100\n",
            "377/377 [==============================] - 3s 9ms/step - loss: 0.9904 - accuracy: 0.7605\n",
            "Epoch 12/100\n",
            "377/377 [==============================] - 3s 9ms/step - loss: 0.9746 - accuracy: 0.7589\n",
            "Epoch 13/100\n",
            "377/377 [==============================] - 3s 9ms/step - loss: 0.9731 - accuracy: 0.7581\n",
            "Epoch 14/100\n",
            "377/377 [==============================] - 3s 9ms/step - loss: 1.0122 - accuracy: 0.7410\n",
            "Epoch 15/100\n",
            "377/377 [==============================] - 3s 9ms/step - loss: 0.9813 - accuracy: 0.7461\n",
            "Epoch 16/100\n",
            "377/377 [==============================] - 4s 9ms/step - loss: 0.9437 - accuracy: 0.7585\n",
            "Epoch 17/100\n",
            "377/377 [==============================] - 3s 9ms/step - loss: 0.9317 - accuracy: 0.7572\n",
            "Epoch 18/100\n",
            "377/377 [==============================] - 3s 9ms/step - loss: 0.8644 - accuracy: 0.7789\n",
            "Epoch 19/100\n",
            "377/377 [==============================] - 3s 9ms/step - loss: 0.8545 - accuracy: 0.7808\n",
            "Epoch 20/100\n",
            "377/377 [==============================] - 3s 9ms/step - loss: 0.8186 - accuracy: 0.7871\n",
            "Epoch 21/100\n",
            "377/377 [==============================] - 4s 10ms/step - loss: 0.8224 - accuracy: 0.7916\n",
            "Epoch 22/100\n",
            "377/377 [==============================] - 4s 9ms/step - loss: 0.8192 - accuracy: 0.7889\n",
            "Epoch 23/100\n",
            "377/377 [==============================] - 3s 9ms/step - loss: 0.8004 - accuracy: 0.7895\n",
            "Epoch 24/100\n",
            "377/377 [==============================] - 4s 9ms/step - loss: 0.8469 - accuracy: 0.7783\n",
            "Epoch 25/100\n",
            "377/377 [==============================] - 4s 9ms/step - loss: 1.0398 - accuracy: 0.7320\n",
            "Epoch 26/100\n",
            "377/377 [==============================] - 3s 9ms/step - loss: 1.0697 - accuracy: 0.7181\n",
            "Epoch 27/100\n",
            "377/377 [==============================] - 3s 9ms/step - loss: 0.9201 - accuracy: 0.7546\n",
            "Epoch 28/100\n",
            "377/377 [==============================] - 3s 9ms/step - loss: 0.8346 - accuracy: 0.7748\n",
            "Epoch 29/100\n",
            "377/377 [==============================] - 4s 10ms/step - loss: 0.7742 - accuracy: 0.7966\n",
            "Epoch 30/100\n",
            "377/377 [==============================] - 3s 9ms/step - loss: 0.7133 - accuracy: 0.8130\n",
            "Epoch 31/100\n",
            "377/377 [==============================] - 3s 9ms/step - loss: 0.6960 - accuracy: 0.8169\n",
            "Epoch 32/100\n",
            "377/377 [==============================] - 3s 9ms/step - loss: 0.6691 - accuracy: 0.8226\n",
            "Epoch 33/100\n",
            "377/377 [==============================] - 3s 9ms/step - loss: 0.7936 - accuracy: 0.7869\n",
            "Epoch 34/100\n",
            "377/377 [==============================] - 4s 9ms/step - loss: 0.9511 - accuracy: 0.7433\n",
            "Epoch 35/100\n",
            "377/377 [==============================] - 3s 9ms/step - loss: 1.0066 - accuracy: 0.7284\n",
            "Epoch 36/100\n",
            "377/377 [==============================] - 3s 9ms/step - loss: 0.9433 - accuracy: 0.7521\n",
            "Epoch 37/100\n",
            "377/377 [==============================] - 3s 9ms/step - loss: 0.8341 - accuracy: 0.7750\n",
            "Epoch 38/100\n",
            "377/377 [==============================] - 4s 9ms/step - loss: 0.8119 - accuracy: 0.7831\n",
            "Epoch 39/100\n",
            "377/377 [==============================] - 4s 9ms/step - loss: 0.7664 - accuracy: 0.7984\n",
            "Epoch 40/100\n",
            "377/377 [==============================] - 4s 9ms/step - loss: 0.7759 - accuracy: 0.7903\n",
            "Epoch 41/100\n",
            "377/377 [==============================] - 3s 9ms/step - loss: 0.7663 - accuracy: 0.7927\n",
            "Epoch 42/100\n",
            "377/377 [==============================] - 3s 9ms/step - loss: 0.7422 - accuracy: 0.8000\n",
            "Epoch 43/100\n",
            "377/377 [==============================] - 3s 9ms/step - loss: 0.7825 - accuracy: 0.7926\n",
            "Epoch 44/100\n",
            "377/377 [==============================] - 3s 9ms/step - loss: 0.7899 - accuracy: 0.7884\n",
            "Epoch 45/100\n",
            "377/377 [==============================] - 4s 9ms/step - loss: 0.8607 - accuracy: 0.7679\n",
            "Epoch 46/100\n",
            "377/377 [==============================] - 3s 9ms/step - loss: 0.8876 - accuracy: 0.7559\n",
            "Epoch 47/100\n",
            "377/377 [==============================] - 3s 9ms/step - loss: 0.8263 - accuracy: 0.7727\n",
            "Epoch 48/100\n",
            "377/377 [==============================] - 3s 9ms/step - loss: 0.7691 - accuracy: 0.7949\n",
            "Epoch 49/100\n",
            "377/377 [==============================] - 3s 9ms/step - loss: 0.7062 - accuracy: 0.8095\n",
            "Epoch 50/100\n",
            "377/377 [==============================] - 3s 9ms/step - loss: 0.6822 - accuracy: 0.8185\n",
            "Epoch 51/100\n",
            "377/377 [==============================] - 4s 10ms/step - loss: 0.7091 - accuracy: 0.8069\n",
            "Epoch 52/100\n",
            "377/377 [==============================] - 3s 9ms/step - loss: 0.6946 - accuracy: 0.8100\n",
            "Epoch 53/100\n",
            "377/377 [==============================] - 3s 9ms/step - loss: 0.7468 - accuracy: 0.7967\n",
            "Epoch 54/100\n",
            "377/377 [==============================] - 4s 10ms/step - loss: 0.8058 - accuracy: 0.7825\n",
            "Epoch 55/100\n",
            "377/377 [==============================] - 3s 9ms/step - loss: 0.8801 - accuracy: 0.7687\n",
            "Epoch 56/100\n",
            "377/377 [==============================] - 4s 9ms/step - loss: 0.8392 - accuracy: 0.7725\n",
            "Epoch 57/100\n",
            "377/377 [==============================] - 4s 10ms/step - loss: 0.8129 - accuracy: 0.7774\n",
            "Epoch 58/100\n",
            "377/377 [==============================] - 3s 9ms/step - loss: 0.7698 - accuracy: 0.7907\n",
            "Epoch 59/100\n",
            "377/377 [==============================] - 4s 9ms/step - loss: 0.7488 - accuracy: 0.7980\n",
            "Epoch 60/100\n",
            "377/377 [==============================] - 4s 10ms/step - loss: 0.7008 - accuracy: 0.8128\n",
            "Epoch 61/100\n",
            "377/377 [==============================] - 4s 10ms/step - loss: 0.7369 - accuracy: 0.8045\n",
            "Epoch 62/100\n",
            "377/377 [==============================] - 4s 10ms/step - loss: 0.7853 - accuracy: 0.7895\n",
            "Epoch 63/100\n",
            "377/377 [==============================] - 3s 9ms/step - loss: 0.8106 - accuracy: 0.7798\n",
            "Epoch 64/100\n",
            "377/377 [==============================] - 3s 9ms/step - loss: 0.8112 - accuracy: 0.7822\n",
            "Epoch 65/100\n",
            "377/377 [==============================] - 3s 9ms/step - loss: 0.7449 - accuracy: 0.7949\n",
            "Epoch 66/100\n",
            "377/377 [==============================] - 4s 9ms/step - loss: 0.8199 - accuracy: 0.7801\n",
            "Epoch 67/100\n",
            "377/377 [==============================] - 4s 9ms/step - loss: 0.8294 - accuracy: 0.7798\n",
            "Epoch 68/100\n",
            "377/377 [==============================] - 4s 10ms/step - loss: 0.8623 - accuracy: 0.7806\n",
            "Epoch 69/100\n",
            "377/377 [==============================] - 4s 10ms/step - loss: 0.8153 - accuracy: 0.7811\n",
            "Epoch 70/100\n",
            "377/377 [==============================] - 3s 9ms/step - loss: 0.7976 - accuracy: 0.7899\n",
            "Epoch 71/100\n",
            "377/377 [==============================] - 4s 9ms/step - loss: 0.7510 - accuracy: 0.7926\n",
            "Epoch 72/100\n",
            "377/377 [==============================] - 4s 9ms/step - loss: 0.7362 - accuracy: 0.8051\n",
            "Epoch 73/100\n",
            "377/377 [==============================] - 4s 10ms/step - loss: 0.8304 - accuracy: 0.7841\n",
            "Epoch 74/100\n",
            "377/377 [==============================] - 4s 9ms/step - loss: 0.7747 - accuracy: 0.7945\n",
            "Epoch 75/100\n",
            "377/377 [==============================] - 3s 9ms/step - loss: 0.7797 - accuracy: 0.7931\n",
            "Epoch 76/100\n",
            "377/377 [==============================] - 4s 9ms/step - loss: 0.7486 - accuracy: 0.7994\n",
            "Epoch 77/100\n",
            "377/377 [==============================] - 4s 9ms/step - loss: 0.7558 - accuracy: 0.7988\n",
            "Epoch 78/100\n",
            "377/377 [==============================] - 4s 9ms/step - loss: 0.7417 - accuracy: 0.7991\n",
            "Epoch 79/100\n",
            "377/377 [==============================] - 4s 9ms/step - loss: 0.7731 - accuracy: 0.7944\n",
            "Epoch 80/100\n",
            "377/377 [==============================] - 4s 10ms/step - loss: 0.7396 - accuracy: 0.7999\n",
            "Epoch 81/100\n",
            "377/377 [==============================] - 4s 10ms/step - loss: 0.7550 - accuracy: 0.7995\n",
            "Epoch 82/100\n",
            "377/377 [==============================] - 4s 10ms/step - loss: 0.7490 - accuracy: 0.7986\n",
            "Epoch 83/100\n",
            "377/377 [==============================] - 3s 9ms/step - loss: 0.7148 - accuracy: 0.8090\n",
            "Epoch 84/100\n",
            "377/377 [==============================] - 3s 9ms/step - loss: 0.7547 - accuracy: 0.8025\n",
            "Epoch 85/100\n",
            "377/377 [==============================] - 3s 9ms/step - loss: 0.7707 - accuracy: 0.7957\n",
            "Epoch 86/100\n",
            "377/377 [==============================] - 3s 9ms/step - loss: 0.7497 - accuracy: 0.7975\n",
            "Epoch 87/100\n",
            "377/377 [==============================] - 3s 9ms/step - loss: 0.7897 - accuracy: 0.7868\n",
            "Epoch 88/100\n",
            "377/377 [==============================] - 4s 10ms/step - loss: 0.7440 - accuracy: 0.7982\n",
            "Epoch 89/100\n",
            "377/377 [==============================] - 4s 10ms/step - loss: 0.7629 - accuracy: 0.7955\n",
            "Epoch 90/100\n",
            "377/377 [==============================] - 4s 10ms/step - loss: 0.8084 - accuracy: 0.7872\n",
            "Epoch 91/100\n",
            "377/377 [==============================] - 3s 9ms/step - loss: 0.7721 - accuracy: 0.7930\n",
            "Epoch 92/100\n",
            "377/377 [==============================] - 3s 9ms/step - loss: 0.7757 - accuracy: 0.7964\n",
            "Epoch 93/100\n",
            "377/377 [==============================] - 4s 10ms/step - loss: 0.7315 - accuracy: 0.8040\n",
            "Epoch 94/100\n",
            "377/377 [==============================] - 4s 9ms/step - loss: 0.7351 - accuracy: 0.8028\n",
            "Epoch 95/100\n",
            "377/377 [==============================] - 3s 9ms/step - loss: 0.7247 - accuracy: 0.8044\n",
            "Epoch 96/100\n",
            "377/377 [==============================] - 3s 9ms/step - loss: 0.7553 - accuracy: 0.7971\n",
            "Epoch 97/100\n",
            "377/377 [==============================] - 3s 9ms/step - loss: 0.7567 - accuracy: 0.7980\n",
            "Epoch 98/100\n",
            "377/377 [==============================] - 4s 10ms/step - loss: 0.7558 - accuracy: 0.7952\n",
            "Epoch 99/100\n",
            "377/377 [==============================] - 4s 10ms/step - loss: 0.7187 - accuracy: 0.8043\n",
            "Epoch 100/100\n",
            "377/377 [==============================] - 4s 9ms/step - loss: 0.7099 - accuracy: 0.8066\n",
            "<tensorflow.python.keras.engine.sequential.Sequential object at 0x7f0687b1df28>\n"
          ]
        }
      ],
      "metadata": {
        "id": "w9vH8Y59ajYL",
        "colab": {
          "base_uri": "https://localhost:8080/"
        },
        "outputId": "8d7f47a3-1b28-4f48-d1ab-82e1be758a3e"
      }
    },
    {
      "cell_type": "code",
      "execution_count": 12,
      "source": [
        "import matplotlib.pyplot as plt\r\n",
        "\r\n",
        "\r\n",
        "def plot_graphs(history, string):\r\n",
        "  plt.plot(history.history[string])\r\n",
        "  plt.xlabel(\"Epochs\")\r\n",
        "  plt.ylabel(string)\r\n",
        "  plt.show()"
      ],
      "outputs": [],
      "metadata": {
        "id": "3YXGelKThoTT"
      }
    },
    {
      "cell_type": "code",
      "execution_count": 13,
      "source": [
        "plot_graphs(history, 'accuracy')\r\n"
      ],
      "outputs": [
        {
          "output_type": "display_data",
          "data": {
            "image/png": "[encoded data removed]",
            "text/plain": [
              "<Figure size 432x288 with 1 Axes>"
            ]
          },
          "metadata": {
            "tags": [],
            "needs_background": "light"
          }
        }
      ],
      "metadata": {
        "id": "poeprYK8h-c7",
        "colab": {
          "base_uri": "https://localhost:8080/",
          "height": 279
        },
        "outputId": "fd5181ca-beff-4869-dbc6-4950a8f58f3b"
      }
    },
    {
      "cell_type": "markdown",
      "source": [
        "## Predicting a word\n",
        "Let's take a look at how to get a prediction for a word and how to **generate new text** based on those predictions."
      ],
      "metadata": {
        "id": "184p5FKHhfUv"
      }
    },
    {
      "cell_type": "code",
      "execution_count": 14,
      "source": [
        "seed_text = \"I've got a bad feeling about this\"\r\n",
        "next_words = 100 # next 100 words를 예측하고 싶다.\r\n",
        "  \r\n",
        "for _ in range(next_words):\r\n",
        "\ttoken_list = tokenizer.texts_to_sequences([seed_text])[0] # 토크나이저를 이용하여 시퀀스 만들기 this code will tokenizer that for me using the text to sequences method on the tokenizer.\r\n",
        "\ttoken_list = pad_sequences([token_list], maxlen=max_sequence_len-1, padding='pre')\r\n",
        "\tpredicted = model.predict_classes(token_list, verbose=0) # 모델에 전달하여 다음에 올 확률이 가장 높은 단어의 토큰을 얻을 수 있다. This is will give us the token of the word most likely to be the next one in the sequence\r\n",
        "\toutput_word = \"\"\r\n",
        "\tfor word, index in tokenizer.word_index.items():\r\n",
        "\t\tif index == predicted: # 토큰을 다시 단어로 바꾼다.\r\n",
        "\t\t\toutput_word = word\r\n",
        "\t\t\tbreak\r\n",
        "\tseed_text += \" \" + output_word\r\n",
        "print(seed_text)"
      ],
      "outputs": [
        {
          "output_type": "stream",
          "name": "stderr",
          "text": [
            "/usr/local/lib/python3.6/dist-packages/tensorflow/python/keras/engine/sequential.py:450: UserWarning: `model.predict_classes()` is deprecated and will be removed after 2021-01-01. Please use instead:* `np.argmax(model.predict(x), axis=-1)`,   if your model does multi-class classification   (e.g. if it uses a `softmax` last-layer activation).* `(model.predict(x) > 0.5).astype(\"int32\")`,   if your model does binary classification   (e.g. if it uses a `sigmoid` last-layer activation).\n",
            "  warnings.warn('`model.predict_classes()` is deprecated and '\n"
          ]
        },
        {
          "output_type": "stream",
          "name": "stdout",
          "text": [
            "I've got a bad feeling about this that we have taken go to the salley gardens with little snow eyes with lanigans ball or all over each one gone and wines of the day the pipes are calling white friendly rising water of erin across youll see dublin gone and well he had cold love seen a thing the old woman and times more gone by gone by as snow and snow eyes loud and clear as the rose that art sinking funds was night come to find me gone and gone and for me as one dear kissed me darling mother dear dear ye look so\n"
          ]
        }
      ],
      "metadata": {
        "id": "6Vc6PHgxa6Hm",
        "colab": {
          "base_uri": "https://localhost:8080/"
        },
        "outputId": "b4337a91-f632-4757-c7a5-b1709be5addb"
      }
    },
    {
      "cell_type": "markdown",
      "source": [
        "참고로 문장이 길어질수록 예측 문장은 횡설수설해진다!\n",
        "\n",
        "이거를 방지(?)하기 위해서는 아주아주 큰 데이터를 넣으면 좀 나아진다."
      ],
      "metadata": {
        "id": "xU2tRs77icLJ"
      }
    },
    {
      "cell_type": "markdown",
      "source": [
        "I've got a bad feeling about this that we have taken go to the salley gardens with little snow eyes with lanigans ball or all over each one gone and wines of the day the pipes are calling white friendly rising water of erin across youll see dublin gone and well he had cold love seen a thing the old woman and times more gone by gone by as snow and snow eyes loud and clear as the rose that art sinking funds was night come to find me gone and gone and for me as one dear kissed me darling mother dear dear ye look so\n",
        "\n",
        "오 좀 나아졌나?"
      ],
      "metadata": {
        "id": "wWwsNpzNtvHa"
      }
    },
    {
      "cell_type": "code",
      "execution_count": null,
      "source": [],
      "outputs": [],
      "metadata": {
        "id": "N5nNSboKifwy"
      }
    }
  ]
}