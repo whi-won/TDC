{
  "nbformat": 4,
  "nbformat_minor": 2,
  "metadata": {
    "colab": {
      "name": "W1-Sentiment_in_Text-Exercise",
      "provenance": []
    },
    "kernelspec": {
      "display_name": "Python 3",
      "name": "python3"
    }
  },
  "cells": [
    {
      "cell_type": "code",
      "execution_count": 1,
      "source": [
        "!wget --no-check-certificate \\\r\n",
        "    https://storage.googleapis.com/laurencemoroney-blog.appspot.com/bbc-text.csv \\\r\n",
        "    -O /tmp/bbc-text.csv\r\n",
        "\r\n",
        "  \r\n",
        "import csv\r\n",
        "from tensorflow.keras.preprocessing.text import Tokenizer\r\n",
        "from tensorflow.keras.preprocessing.sequence import pad_sequences\r\n"
      ],
      "outputs": [
        {
          "output_type": "stream",
          "name": "stdout",
          "text": [
            "--2021-01-16 17:25:24--  https://storage.googleapis.com/laurencemoroney-blog.appspot.com/bbc-text.csv\n",
            "Resolving storage.googleapis.com (storage.googleapis.com)... 74.125.20.128, 74.125.28.128, 74.125.142.128, ...\n",
            "Connecting to storage.googleapis.com (storage.googleapis.com)|74.125.20.128|:443... connected.\n",
            "HTTP request sent, awaiting response... 200 OK\n",
            "Length: 5057493 (4.8M) [application/octet-stream]\n",
            "Saving to: ‘/tmp/bbc-text.csv’\n",
            "\n",
            "/tmp/bbc-text.csv   100%[===================>]   4.82M  --.-KB/s    in 0.05s   \n",
            "\n",
            "2021-01-16 17:25:24 (106 MB/s) - ‘/tmp/bbc-text.csv’ saved [5057493/5057493]\n",
            "\n"
          ]
        }
      ],
      "metadata": {
        "id": "zrZevCPJ92HG",
        "colab": {
          "base_uri": "https://localhost:8080/"
        },
        "outputId": "acae55f9-d246-4a7c-d71b-808b82ed5296"
      }
    },
    {
      "cell_type": "markdown",
      "source": [
        "## Stopwords 설정\n",
        "직접 하는게 아니라 아래 링크에서 가져옴"
      ],
      "metadata": {
        "id": "Kgz5cr0mOuur"
      }
    },
    {
      "cell_type": "code",
      "execution_count": 2,
      "source": [
        "#Stopwords list from https://github.com/Yoast/YoastSEO.js/blob/develop/src/config/stopwords.js\r\n",
        "# Convert it to a Python list and paste it here\r\n",
        "stopwords = [ \"a\", \"about\", \"above\", \"after\", \"again\", \"against\", \"all\", \"am\", \"an\", \"and\", \"any\", \"are\", \"as\", \"at\", \"be\", \"because\", \"been\", \"before\", \"being\", \"below\", \"between\", \"both\", \"but\", \"by\", \"could\", \"did\", \"do\", \"does\", \"doing\", \"down\", \"during\", \"each\", \"few\", \"for\", \"from\", \"further\", \"had\", \"has\", \"have\", \"having\", \"he\", \"he'd\", \"he'll\", \"he's\", \"her\", \"here\", \"here's\", \"hers\", \"herself\", \"him\", \"himself\", \"his\", \"how\", \"how's\", \"i\", \"i'd\", \"i'll\", \"i'm\", \"i've\", \"if\", \"in\", \"into\", \"is\", \"it\", \"it's\", \"its\", \"itself\", \"let's\", \"me\", \"more\", \"most\", \"my\", \"myself\", \"nor\", \"of\", \"on\", \"once\", \"only\", \"or\", \"other\", \"ought\", \"our\", \"ours\", \"ourselves\", \"out\", \"over\", \"own\", \"same\", \"she\", \"she'd\", \"she'll\", \"she's\", \"should\", \"so\", \"some\", \"such\", \"than\", \"that\", \"that's\", \"the\", \"their\", \"theirs\", \"them\", \"themselves\", \"then\", \"there\", \"there's\", \"these\", \"they\", \"they'd\", \"they'll\", \"they're\", \"they've\", \"this\", \"those\", \"through\", \"to\", \"too\", \"under\", \"until\", \"up\", \"very\", \"was\", \"we\", \"we'd\", \"we'll\", \"we're\", \"we've\", \"were\", \"what\", \"what's\", \"when\", \"when's\", \"where\", \"where's\", \"which\", \"while\", \"who\", \"who's\", \"whom\", \"why\", \"why's\", \"with\", \"would\", \"you\", \"you'd\", \"you'll\", \"you're\", \"you've\", \"your\", \"yours\", \"yourself\", \"yourselves\" ]"
      ],
      "outputs": [],
      "metadata": {
        "id": "PmYId8AYOr9J"
      }
    },
    {
      "cell_type": "code",
      "execution_count": null,
      "source": [
        "sentences = []\r\n",
        "labels = []\r\n",
        "with open(\"/tmp/bbc-text.csv\", 'r') as csvfile:\r\n",
        "    reader = csv.reader(csvfile, delimiter=',')\r\n",
        "    next(reader)\r\n",
        "\r\n",
        "    for i in reader:\r\n",
        "      # test\r\n",
        "      # print(i[0]) # This is a header, so I remove this using next(reader)\r\n",
        "      labels.append(i[0])\r\n",
        "      sentence = i[1]\r\n",
        "      for word in stopwords:\r\n",
        "        token = \" \" + word + \" \"\r\n",
        "        sentence = sentence.replace(token, \" \") #stopwords 없애기\r\n",
        "        sentence = sentence.replace(\"  \", \" \") #stopwords를 없애면서 띄어쓰기 두 칸이 된 거 한 칸으로 줄이기\r\n",
        "      sentences.append(sentence)\r\n",
        "    \r\n",
        "\r\n",
        "print(len(sentences))\r\n",
        "print(sentences[0])\r\n",
        "\r\n",
        "#Expected output\r\n",
        "# 2225\r\n",
        "# tv future hands viewers home theatre systems plasma high-definition tvs digital video recorders moving living room way people watch tv will radically different five years time. according expert panel gathered annual consumer electronics show las vegas discuss new technologies will impact one favourite pastimes. us leading trend programmes content will delivered viewers via home networks cable satellite telecoms companies broadband service providers front rooms portable devices. one talked-about technologies ces digital personal video recorders (dvr pvr). set-top boxes like us s tivo uk s sky+ system allow people record store play pause forward wind tv programmes want. essentially technology allows much personalised tv. also built-in high-definition tv sets big business japan us slower take off europe lack high-definition programming. not can people forward wind adverts can also forget abiding network channel schedules putting together a-la-carte entertainment. us networks cable satellite companies worried means terms advertising revenues well brand identity viewer loyalty channels. although us leads technology moment also concern raised europe particularly growing uptake services like sky+. happens today will see nine months years time uk adam hume bbc broadcast s futurologist told bbc news website. likes bbc no issues lost advertising revenue yet. pressing issue moment commercial uk broadcasters brand loyalty important everyone. will talking content brands rather network brands said tim hanlon brand communications firm starcom mediavest. reality broadband connections anybody can producer content. added: challenge now hard promote programme much choice. means said stacey jolna senior vice president tv guide tv group way people find content want watch simplified tv viewers. means networks us terms channels take leaf google s book search engine future instead scheduler help people find want watch. kind channel model might work younger ipod generation used taking control gadgets play them. might not suit everyone panel recognised. older generations comfortable familiar schedules channel brands know getting. perhaps not want much choice put hands mr hanlon suggested. end kids just diapers pushing buttons already - everything possible available said mr hanlon. ultimately consumer will tell market want. 50 000 new gadgets technologies showcased ces many enhancing tv-watching experience. high-definition tv sets everywhere many new models lcd (liquid crystal display) tvs launched dvr capability built instead external boxes. one example launched show humax s 26-inch lcd tv 80-hour tivo dvr dvd recorder. one us s biggest satellite tv companies directtv even launched branded dvr show 100-hours recording capability instant replay search function. set can pause rewind tv 90 hours. microsoft chief bill gates announced pre-show keynote speech partnership tivo called tivotogo means people can play recorded programmes windows pcs mobile devices. reflect increasing trend freeing multimedia people can watch want want."
      ],
      "outputs": [],
      "metadata": {
        "id": "1rmYBjsyCv3K",
        "colab": {
          "base_uri": "https://localhost:8080/"
        },
        "outputId": "d52c27d4-b088-4520-d086-d05cb891f688"
      }
    },
    {
      "cell_type": "markdown",
      "source": [
        "## Fit sentence\n",
        "sentence를 key: work, value: token for that word인 dictonary(corpus dictionary?)로 fit하기."
      ],
      "metadata": {
        "id": "X5qOqvj3Q90W"
      }
    },
    {
      "cell_type": "code",
      "execution_count": 8,
      "source": [
        "tokenizer = Tokenizer(oov_token=\"<OOV>\") #Instantiate, num_words는 처리 안 해도 괜찮나?\r\n",
        "tokenizer.fit_on_texts(sentences)\r\n",
        "word_index = tokenizer.word_index\r\n",
        "print(len(word_index))\r\n",
        "# Expected output\r\n",
        "# 29714"
      ],
      "outputs": [
        {
          "output_type": "stream",
          "name": "stdout",
          "text": [
            "29714\n"
          ]
        }
      ],
      "metadata": {
        "id": "9LhzBBgSC3S5",
        "colab": {
          "base_uri": "https://localhost:8080/"
        },
        "outputId": "8c0499ae-a9ac-4257-9c41-96b9c091de06"
      }
    },
    {
      "cell_type": "markdown",
      "source": [
        "## Text to sequence\n",
        "* Make sequence\n",
        "* Post Padding"
      ],
      "metadata": {
        "id": "FaRfz5OuRT3I"
      }
    },
    {
      "cell_type": "code",
      "execution_count": 9,
      "source": [
        "sequences = tokenizer.texts_to_sequences(sentences)\r\n",
        "padded = pad_sequences(sequences, maxlen=None, padding='post')\r\n",
        "print(padded[0])\r\n",
        "print(padded.shape)\r\n",
        "\r\n",
        "# Expected output\r\n",
        "# [  96  176 1158 ...    0    0    0]\r\n",
        "# (2225, 2442)"
      ],
      "outputs": [
        {
          "output_type": "stream",
          "name": "stdout",
          "text": [
            "[  96  176 1158 ...    0    0    0]\n",
            "(2225, 2442)\n"
          ]
        }
      ],
      "metadata": {
        "id": "1Gr3dbQfC5VR",
        "colab": {
          "base_uri": "https://localhost:8080/"
        },
        "outputId": "223920a7-1927-438d-bd82-80236a75dcb3"
      }
    },
    {
      "cell_type": "markdown",
      "source": [
        "## Label tokenizing\n",
        "Sentence만 tokenize 처리 하지 말고, label에도 해줘야함!!!"
      ],
      "metadata": {
        "id": "tv4ElkO4Rw8Z"
      }
    },
    {
      "cell_type": "code",
      "execution_count": null,
      "source": [
        "label_tokenizer = Tokenizer()\r\n",
        "label_tokenizer.fit_on_texts(labels)\r\n",
        "label_word_index = label_tokenizer.word_index\r\n",
        "label_sequence = label_tokenizer.texts_to_sequences(labels)\r\n",
        "\r\n",
        "print(label_sequence)\r\n",
        "print(label_word_index)\r\n"
      ],
      "outputs": [],
      "metadata": {
        "id": "fZufOahzC6yx",
        "colab": {
          "base_uri": "https://localhost:8080/"
        },
        "outputId": "e89ebb7e-de83-4f8f-9e08-01003963af35"
      }
    },
    {
      "cell_type": "code",
      "execution_count": null,
      "source": [],
      "outputs": [],
      "metadata": {
        "id": "sooVEdHCSMqy"
      }
    }
  ]
}