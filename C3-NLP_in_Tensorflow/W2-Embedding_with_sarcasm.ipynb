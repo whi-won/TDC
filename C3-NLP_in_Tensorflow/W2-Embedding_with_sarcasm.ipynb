{
 "cells": [
  {
   "cell_type": "markdown",
   "metadata": {
    "id": "6slQAw120qUI"
   },
   "source": [
    "Environment check : Should run on 2.x"
   ]
  },
  {
   "cell_type": "code",
   "execution_count": 2,
   "metadata": {
    "id": "4gs9htvM7n_x"
   },
   "outputs": [],
   "source": [
    "# Run this to ensure TensorFlow 2.x is used\n",
    "try:\n",
    "  # %tensorflow_version only exists in Colab.\n",
    "  %tensorflow_version 2.x\n",
    "except Exception:\n",
    "  print(\"version error\")\n",
    "  pass"
   ]
  },
  {
   "cell_type": "code",
   "execution_count": 3,
   "metadata": {
    "id": "XYYDvoskkE61"
   },
   "outputs": [],
   "source": [
    "import json\n",
    "import tensorflow as tf\n",
    "\n",
    "from tensorflow.keras.preprocessing.text import Tokenizer\n",
    "from tensorflow.keras.preprocessing.sequence import pad_sequences"
   ]
  },
  {
   "cell_type": "markdown",
   "metadata": {
    "id": "CHieVHnn1IK4"
   },
   "source": [
    "### Set hyperparameter\n",
    "하이퍼 파라미터를 변수로 설정하여 이 값을 변경하면서 모델을 훈련시키면서 결과값을 보는 연습을 하라."
   ]
  },
  {
   "cell_type": "code",
   "execution_count": 7,
   "metadata": {
    "id": "0eJSTTYnkJQd"
   },
   "outputs": [],
   "source": [
    "vocab_size = 10000\n",
    "embedding_dim = 16\n",
    "max_length = 100\n",
    "trunc_type='post'\n",
    "padding_type='post'\n",
    "oov_tok = \"<OOV>\"\n",
    "training_size = 20000\n"
   ]
  },
  {
   "cell_type": "markdown",
   "metadata": {
    "id": "UuWbY5Dy04hx"
   },
   "source": [
    "### Load data\n",
    "Course 3에서 달라진 점은, `.csv`와 `.json` 등 여러 포맷의 파일을 직접 입출력받는 부분이다."
   ]
  },
  {
   "cell_type": "code",
   "execution_count": 4,
   "metadata": {
    "colab": {
     "base_uri": "https://localhost:8080/"
    },
    "id": "BQVuQrZNkPn9",
    "outputId": "12c57391-f9d4-4c80-b2c1-e915a04ef497"
   },
   "outputs": [
    {
     "name": "stdout",
     "output_type": "stream",
     "text": [
      "--2021-01-18 14:10:31--  https://storage.googleapis.com/laurencemoroney-blog.appspot.com/sarcasm.json\n",
      "Resolving storage.googleapis.com (storage.googleapis.com)... 142.250.73.208, 172.217.5.240, 172.217.7.144, ...\n",
      "Connecting to storage.googleapis.com (storage.googleapis.com)|142.250.73.208|:443... connected.\n",
      "HTTP request sent, awaiting response... 200 OK\n",
      "Length: 5643545 (5.4M) [application/json]\n",
      "Saving to: ‘/tmp/sarcasm.json’\n",
      "\n",
      "\r",
      "/tmp/sarcasm.json     0%[                    ]       0  --.-KB/s               \r",
      "/tmp/sarcasm.json   100%[===================>]   5.38M  --.-KB/s    in 0.05s   \n",
      "\n",
      "2021-01-18 14:10:31 (107 MB/s) - ‘/tmp/sarcasm.json’ saved [5643545/5643545]\n",
      "\n"
     ]
    }
   ],
   "source": [
    "!wget --no-check-certificate \\\n",
    "    https://storage.googleapis.com/laurencemoroney-blog.appspot.com/sarcasm.json \\\n",
    "    -O /tmp/sarcasm.json\n"
   ]
  },
  {
   "cell_type": "code",
   "execution_count": 5,
   "metadata": {
    "id": "oaLaaqhNkUPd"
   },
   "outputs": [],
   "source": [
    "with open(\"/tmp/sarcasm.json\", 'r') as f:\n",
    "    datastore = json.load(f)\n",
    "\n",
    "sentences = []\n",
    "labels = []\n",
    "\n",
    "for item in datastore:\n",
    "    sentences.append(item['headline'])\n",
    "    labels.append(item['is_sarcastic'])"
   ]
  },
  {
   "cell_type": "markdown",
   "metadata": {
    "id": "u9qIfXzy1WED"
   },
   "source": [
    "### Split data"
   ]
  },
  {
   "cell_type": "code",
   "execution_count": 8,
   "metadata": {
    "id": "S1sD-7v0kYWk"
   },
   "outputs": [],
   "source": [
    "training_sentences = sentences[0:training_size]\n",
    "testing_sentences = sentences[training_size:]\n",
    "training_labels = labels[0:training_size]\n",
    "testing_labels = labels[training_size:]"
   ]
  },
  {
   "cell_type": "markdown",
   "metadata": {
    "id": "KArDoMSl1fE5"
   },
   "source": [
    "### Tokenize and Modeling"
   ]
  },
  {
   "cell_type": "code",
   "execution_count": 9,
   "metadata": {
    "id": "3u8UB0MCkZ5N"
   },
   "outputs": [],
   "source": [
    "tokenizer = Tokenizer(num_words=vocab_size, oov_token=oov_tok)\n",
    "tokenizer.fit_on_texts(training_sentences)\n",
    "\n",
    "word_index = tokenizer.word_index\n",
    "\n",
    "training_sequences = tokenizer.texts_to_sequences(training_sentences)\n",
    "training_padded = pad_sequences(training_sequences, maxlen=max_length, padding=padding_type, truncating=trunc_type)\n",
    "\n",
    "testing_sequences = tokenizer.texts_to_sequences(testing_sentences)\n",
    "testing_padded = pad_sequences(testing_sequences, maxlen=max_length, padding=padding_type, truncating=trunc_type)"
   ]
  },
  {
   "cell_type": "code",
   "execution_count": 10,
   "metadata": {
    "id": "GrAlWBKf99Ya"
   },
   "outputs": [],
   "source": [
    "# Need this block to get it to work with TensorFlow 2.x\n",
    "import numpy as np\n",
    "training_padded = np.array(training_padded)\n",
    "training_labels = np.array(training_labels)\n",
    "testing_padded = np.array(testing_padded)\n",
    "testing_labels = np.array(testing_labels)"
   ]
  },
  {
   "cell_type": "code",
   "execution_count": 11,
   "metadata": {
    "id": "FufaT4vlkiDE"
   },
   "outputs": [],
   "source": [
    "model = tf.keras.Sequential([\n",
    "    tf.keras.layers.Embedding(vocab_size, embedding_dim, input_length=max_length), #임베딩 레이어 추가\n",
    "    tf.keras.layers.GlobalAveragePooling1D(), #Flatten보다 GlobalAveragePooling1D 사용하기\n",
    "    tf.keras.layers.Dense(24, activation='relu'),\n",
    "    tf.keras.layers.Dense(1, activation='sigmoid')\n",
    "])\n",
    "model.compile(loss='binary_crossentropy',optimizer='adam',metrics=['accuracy'])"
   ]
  },
  {
   "cell_type": "code",
   "execution_count": 12,
   "metadata": {
    "colab": {
     "base_uri": "https://localhost:8080/"
    },
    "id": "XfDt1hmYkiys",
    "outputId": "2ff3d27b-19a0-4ea6-9061-2d63c8b984f7"
   },
   "outputs": [
    {
     "name": "stdout",
     "output_type": "stream",
     "text": [
      "Model: \"sequential\"\n",
      "_________________________________________________________________\n",
      "Layer (type)                 Output Shape              Param #   \n",
      "=================================================================\n",
      "embedding (Embedding)        (None, 100, 16)           160000    \n",
      "_________________________________________________________________\n",
      "global_average_pooling1d (Gl (None, 16)                0         \n",
      "_________________________________________________________________\n",
      "dense (Dense)                (None, 24)                408       \n",
      "_________________________________________________________________\n",
      "dense_1 (Dense)              (None, 1)                 25        \n",
      "=================================================================\n",
      "Total params: 160,433\n",
      "Trainable params: 160,433\n",
      "Non-trainable params: 0\n",
      "_________________________________________________________________\n"
     ]
    }
   ],
   "source": [
    "model.summary()\n"
   ]
  },
  {
   "cell_type": "markdown",
   "metadata": {
    "id": "uEwK3wdp12bd"
   },
   "source": [
    "### Train and Evaluate"
   ]
  },
  {
   "cell_type": "code",
   "execution_count": 13,
   "metadata": {
    "colab": {
     "base_uri": "https://localhost:8080/"
    },
    "id": "2DTKQFf1kkyc",
    "outputId": "57f0c644-bf3f-4e66-d80b-6762c5c61174"
   },
   "outputs": [
    {
     "name": "stdout",
     "output_type": "stream",
     "text": [
      "Epoch 1/30\n",
      "625/625 - 5s - loss: 0.6627 - accuracy: 0.5939 - val_loss: 0.5853 - val_accuracy: 0.6701\n",
      "Epoch 2/30\n",
      "625/625 - 2s - loss: 0.4448 - accuracy: 0.8271 - val_loss: 0.3930 - val_accuracy: 0.8346\n",
      "Epoch 3/30\n",
      "625/625 - 2s - loss: 0.3212 - accuracy: 0.8743 - val_loss: 0.3572 - val_accuracy: 0.8495\n",
      "Epoch 4/30\n",
      "625/625 - 2s - loss: 0.2690 - accuracy: 0.8952 - val_loss: 0.3465 - val_accuracy: 0.8553\n",
      "Epoch 5/30\n",
      "625/625 - 2s - loss: 0.2337 - accuracy: 0.9091 - val_loss: 0.3410 - val_accuracy: 0.8578\n",
      "Epoch 6/30\n",
      "625/625 - 2s - loss: 0.2052 - accuracy: 0.9219 - val_loss: 0.3473 - val_accuracy: 0.8518\n",
      "Epoch 7/30\n",
      "625/625 - 2s - loss: 0.1843 - accuracy: 0.9304 - val_loss: 0.3541 - val_accuracy: 0.8538\n",
      "Epoch 8/30\n",
      "625/625 - 2s - loss: 0.1663 - accuracy: 0.9379 - val_loss: 0.3714 - val_accuracy: 0.8501\n",
      "Epoch 9/30\n",
      "625/625 - 2s - loss: 0.1486 - accuracy: 0.9462 - val_loss: 0.3795 - val_accuracy: 0.8547\n",
      "Epoch 10/30\n",
      "625/625 - 2s - loss: 0.1355 - accuracy: 0.9527 - val_loss: 0.3975 - val_accuracy: 0.8512\n",
      "Epoch 11/30\n",
      "625/625 - 2s - loss: 0.1253 - accuracy: 0.9561 - val_loss: 0.4156 - val_accuracy: 0.8492\n",
      "Epoch 12/30\n",
      "625/625 - 2s - loss: 0.1147 - accuracy: 0.9604 - val_loss: 0.4451 - val_accuracy: 0.8441\n",
      "Epoch 13/30\n",
      "625/625 - 2s - loss: 0.1042 - accuracy: 0.9647 - val_loss: 0.4583 - val_accuracy: 0.8451\n",
      "Epoch 14/30\n",
      "625/625 - 2s - loss: 0.0955 - accuracy: 0.9677 - val_loss: 0.4873 - val_accuracy: 0.8396\n",
      "Epoch 15/30\n",
      "625/625 - 2s - loss: 0.0885 - accuracy: 0.9714 - val_loss: 0.5022 - val_accuracy: 0.8433\n",
      "Epoch 16/30\n",
      "625/625 - 2s - loss: 0.0828 - accuracy: 0.9733 - val_loss: 0.5314 - val_accuracy: 0.8404\n",
      "Epoch 17/30\n",
      "625/625 - 2s - loss: 0.0757 - accuracy: 0.9753 - val_loss: 0.5605 - val_accuracy: 0.8371\n",
      "Epoch 18/30\n",
      "625/625 - 2s - loss: 0.0695 - accuracy: 0.9778 - val_loss: 0.5855 - val_accuracy: 0.8356\n",
      "Epoch 19/30\n",
      "625/625 - 2s - loss: 0.0649 - accuracy: 0.9793 - val_loss: 0.6114 - val_accuracy: 0.8341\n",
      "Epoch 20/30\n",
      "625/625 - 2s - loss: 0.0604 - accuracy: 0.9807 - val_loss: 0.6477 - val_accuracy: 0.8304\n",
      "Epoch 21/30\n",
      "625/625 - 2s - loss: 0.0556 - accuracy: 0.9827 - val_loss: 0.6927 - val_accuracy: 0.8287\n",
      "Epoch 22/30\n",
      "625/625 - 2s - loss: 0.0532 - accuracy: 0.9839 - val_loss: 0.7577 - val_accuracy: 0.8226\n",
      "Epoch 23/30\n",
      "625/625 - 2s - loss: 0.0475 - accuracy: 0.9857 - val_loss: 0.7470 - val_accuracy: 0.8237\n",
      "Epoch 24/30\n",
      "625/625 - 2s - loss: 0.0458 - accuracy: 0.9861 - val_loss: 0.7762 - val_accuracy: 0.8237\n",
      "Epoch 25/30\n",
      "625/625 - 2s - loss: 0.0408 - accuracy: 0.9886 - val_loss: 0.8024 - val_accuracy: 0.8234\n",
      "Epoch 26/30\n",
      "625/625 - 2s - loss: 0.0384 - accuracy: 0.9891 - val_loss: 0.8396 - val_accuracy: 0.8208\n",
      "Epoch 27/30\n",
      "625/625 - 2s - loss: 0.0349 - accuracy: 0.9903 - val_loss: 0.8663 - val_accuracy: 0.8223\n",
      "Epoch 28/30\n",
      "625/625 - 2s - loss: 0.0334 - accuracy: 0.9906 - val_loss: 0.9036 - val_accuracy: 0.8205\n",
      "Epoch 29/30\n",
      "625/625 - 2s - loss: 0.0309 - accuracy: 0.9915 - val_loss: 0.9442 - val_accuracy: 0.8182\n",
      "Epoch 30/30\n",
      "625/625 - 2s - loss: 0.0284 - accuracy: 0.9924 - val_loss: 0.9711 - val_accuracy: 0.8156\n"
     ]
    }
   ],
   "source": [
    "num_epochs = 30\n",
    "history = model.fit(training_padded, training_labels, epochs=num_epochs, validation_data=(testing_padded, testing_labels), verbose=2)"
   ]
  },
  {
   "cell_type": "code",
   "execution_count": 14,
   "metadata": {
    "colab": {
     "base_uri": "https://localhost:8080/",
     "height": 542
    },
    "id": "2HYfBKXjkmU8",
    "outputId": "2f662ccd-d8cf-43fc-ad56-7fc73b31a4a6"
   },
   "outputs": [
    {
     "data": {
      "image/png": "[encoded data removed]",
      "text/plain": [
       "<Figure size 432x288 with 1 Axes>"
      ]
     },
     "metadata": {
      "needs_background": "light",
      "tags": []
     },
     "output_type": "display_data"
    },
    {
     "data": {
      "image/png": "[encoded data removed]",
      "text/plain": [
       "<Figure size 432x288 with 1 Axes>"
      ]
     },
     "metadata": {
      "needs_background": "light",
      "tags": []
     },
     "output_type": "display_data"
    }
   ],
   "source": [
    "import matplotlib.pyplot as plt\n",
    "\n",
    "\n",
    "def plot_graphs(history, string):\n",
    "  plt.plot(history.history[string])\n",
    "  plt.plot(history.history['val_'+string])\n",
    "  plt.xlabel(\"Epochs\")\n",
    "  plt.ylabel(string)\n",
    "  plt.legend([string, 'val_'+string])\n",
    "  plt.show()\n",
    "  \n",
    "plot_graphs(history, \"accuracy\")\n",
    "plot_graphs(history, \"loss\")"
   ]
  },
  {
   "cell_type": "markdown",
   "metadata": {
    "id": "g8EOcO1f2cSJ"
   },
   "source": [
    "Validatio loss는 오히려 늘어나고 있다."
   ]
  },
  {
   "cell_type": "code",
   "execution_count": 15,
   "metadata": {
    "colab": {
     "base_uri": "https://localhost:8080/"
    },
    "id": "7SBdAZAenvzL",
    "outputId": "612d0d16-3387-4da0-db7e-bcc29fcacc87"
   },
   "outputs": [
    {
     "name": "stdout",
     "output_type": "stream",
     "text": [
      "former <OOV> store clerk sues over secret 'black <OOV> for minority shoppers ? ? ? ? ? ? ? ? ? ? ? ? ? ? ? ? ? ? ? ? ? ? ? ? ? ? ? ? ? ? ? ? ? ? ? ? ? ? ? ? ? ? ? ? ? ? ? ? ? ? ? ? ? ? ? ? ? ? ? ? ? ? ? ? ? ? ? ? ? ? ? ? ? ? ? ? ? ? ? ? ? ? ? ? ? ? ? ?\n",
      "mom starting to fear son's web series closest thing she will have to grandchild\n",
      "1\n"
     ]
    }
   ],
   "source": [
    "reverse_word_index = dict([(value, key) for (key, value) in word_index.items()])\n",
    "\n",
    "def decode_sentence(text):\n",
    "    return ' '.join([reverse_word_index.get(i, '?') for i in text])\n",
    "\n",
    "print(decode_sentence(training_padded[0]))\n",
    "print(training_sentences[2])\n",
    "print(labels[2])"
   ]
  },
  {
   "cell_type": "code",
   "execution_count": 16,
   "metadata": {
    "colab": {
     "base_uri": "https://localhost:8080/"
    },
    "id": "c9MqihtEkzQ9",
    "outputId": "a603f2e8-710f-4b8c-af8c-e33124538601"
   },
   "outputs": [
    {
     "name": "stdout",
     "output_type": "stream",
     "text": [
      "(10000, 16)\n"
     ]
    }
   ],
   "source": [
    "e = model.layers[0]\n",
    "weights = e.get_weights()[0]\n",
    "print(weights.shape) # shape: (vocab_size, embedding_dim)\n"
   ]
  },
  {
   "cell_type": "markdown",
   "metadata": {
    "id": "1Dv4uDZl2ohT"
   },
   "source": [
    "### Visualization\n",
    "projector.tensorflow.org에서 직접 보기"
   ]
  },
  {
   "cell_type": "code",
   "execution_count": 17,
   "metadata": {
    "id": "LoBXVffknldU"
   },
   "outputs": [],
   "source": [
    "import io\n",
    "\n",
    "out_v = io.open('vecs.tsv', 'w', encoding='utf-8')\n",
    "out_m = io.open('meta.tsv', 'w', encoding='utf-8')\n",
    "for word_num in range(1, vocab_size):\n",
    "  word = reverse_word_index[word_num]\n",
    "  embeddings = weights[word_num]\n",
    "  out_m.write(word + \"\\n\")\n",
    "  out_v.write('\\t'.join([str(x) for x in embeddings]) + \"\\n\")\n",
    "out_v.close()\n",
    "out_m.close()"
   ]
  },
  {
   "cell_type": "code",
   "execution_count": 18,
   "metadata": {
    "colab": {
     "base_uri": "https://localhost:8080/",
     "height": 17
    },
    "id": "U4eZ5HtVnnEE",
    "outputId": "5c052b21-04e0-42e9-a7c8-1900714340a9"
   },
   "outputs": [
    {
     "data": {
      "application/javascript": [
       "\n",
       "    async function download(id, filename, size) {\n",
       "      if (!google.colab.kernel.accessAllowed) {\n",
       "        return;\n",
       "      }\n",
       "      const div = document.createElement('div');\n",
       "      const label = document.createElement('label');\n",
       "      label.textContent = `Downloading \"${filename}\": `;\n",
       "      div.appendChild(label);\n",
       "      const progress = document.createElement('progress');\n",
       "      progress.max = size;\n",
       "      div.appendChild(progress);\n",
       "      document.body.appendChild(div);\n",
       "\n",
       "      const buffers = [];\n",
       "      let downloaded = 0;\n",
       "\n",
       "      const channel = await google.colab.kernel.comms.open(id);\n",
       "      // Send a message to notify the kernel that we're ready.\n",
       "      channel.send({})\n",
       "\n",
       "      for await (const message of channel.messages) {\n",
       "        // Send a message to notify the kernel that we're ready.\n",
       "        channel.send({})\n",
       "        if (message.buffers) {\n",
       "          for (const buffer of message.buffers) {\n",
       "            buffers.push(buffer);\n",
       "            downloaded += buffer.byteLength;\n",
       "            progress.value = downloaded;\n",
       "          }\n",
       "        }\n",
       "      }\n",
       "      const blob = new Blob(buffers, {type: 'application/binary'});\n",
       "      const a = document.createElement('a');\n",
       "      a.href = window.URL.createObjectURL(blob);\n",
       "      a.download = filename;\n",
       "      div.appendChild(a);\n",
       "      a.click();\n",
       "      div.remove();\n",
       "    }\n",
       "  "
      ],
      "text/plain": [
       "<IPython.core.display.Javascript object>"
      ]
     },
     "metadata": {
      "tags": []
     },
     "output_type": "display_data"
    },
    {
     "data": {
      "application/javascript": [
       "download(\"download_d6f1ccaf-a1e0-4a04-a3da-eddcc21b9ba0\", \"vecs.tsv\", 1808306)"
      ],
      "text/plain": [
       "<IPython.core.display.Javascript object>"
      ]
     },
     "metadata": {
      "tags": []
     },
     "output_type": "display_data"
    },
    {
     "data": {
      "application/javascript": [
       "\n",
       "    async function download(id, filename, size) {\n",
       "      if (!google.colab.kernel.accessAllowed) {\n",
       "        return;\n",
       "      }\n",
       "      const div = document.createElement('div');\n",
       "      const label = document.createElement('label');\n",
       "      label.textContent = `Downloading \"${filename}\": `;\n",
       "      div.appendChild(label);\n",
       "      const progress = document.createElement('progress');\n",
       "      progress.max = size;\n",
       "      div.appendChild(progress);\n",
       "      document.body.appendChild(div);\n",
       "\n",
       "      const buffers = [];\n",
       "      let downloaded = 0;\n",
       "\n",
       "      const channel = await google.colab.kernel.comms.open(id);\n",
       "      // Send a message to notify the kernel that we're ready.\n",
       "      channel.send({})\n",
       "\n",
       "      for await (const message of channel.messages) {\n",
       "        // Send a message to notify the kernel that we're ready.\n",
       "        channel.send({})\n",
       "        if (message.buffers) {\n",
       "          for (const buffer of message.buffers) {\n",
       "            buffers.push(buffer);\n",
       "            downloaded += buffer.byteLength;\n",
       "            progress.value = downloaded;\n",
       "          }\n",
       "        }\n",
       "      }\n",
       "      const blob = new Blob(buffers, {type: 'application/binary'});\n",
       "      const a = document.createElement('a');\n",
       "      a.href = window.URL.createObjectURL(blob);\n",
       "      a.download = filename;\n",
       "      div.appendChild(a);\n",
       "      a.click();\n",
       "      div.remove();\n",
       "    }\n",
       "  "
      ],
      "text/plain": [
       "<IPython.core.display.Javascript object>"
      ]
     },
     "metadata": {
      "tags": []
     },
     "output_type": "display_data"
    },
    {
     "data": {
      "application/javascript": [
       "download(\"download_6101ecab-bfb5-4a1e-8ea0-920e6a9ef9ee\", \"meta.tsv\", 75974)"
      ],
      "text/plain": [
       "<IPython.core.display.Javascript object>"
      ]
     },
     "metadata": {
      "tags": []
     },
     "output_type": "display_data"
    }
   ],
   "source": [
    "try:\n",
    "  from google.colab import files\n",
    "except ImportError:\n",
    "  pass\n",
    "else:\n",
    "  files.download('vecs.tsv')\n",
    "  files.download('meta.tsv')"
   ]
  },
  {
   "cell_type": "code",
   "execution_count": 19,
   "metadata": {
    "colab": {
     "base_uri": "https://localhost:8080/"
    },
    "id": "cG8-ArY-qDcz",
    "outputId": "7200bb99-81c0-44f9-d96e-e97f5be320bd"
   },
   "outputs": [
    {
     "name": "stdout",
     "output_type": "stream",
     "text": [
      "[[9.277494e-01]\n",
      " [3.609151e-05]]\n"
     ]
    }
   ],
   "source": [
    "sentence = [\"granny starting to fear spiders in the garden might be real\", \"game of thrones season finale showing this sunday night\"]\n",
    "sequences = tokenizer.texts_to_sequences(sentence)\n",
    "padded = pad_sequences(sequences, maxlen=max_length, padding=padding_type, truncating=trunc_type)\n",
    "print(model.predict(padded))"
   ]
  },
  {
   "cell_type": "markdown",
   "metadata": {
    "id": "R_bWuCjB3Cg1"
   },
   "source": [
    "역시 정확도가 낮아서 그런가 projector로 보면 하나도 잘 분류된 것 같지 않아보인다. 뭔가 되게 오밀조밀하게 모여있음.."
   ]
  },
  {
   "cell_type": "code",
   "execution_count": null,
   "metadata": {
    "id": "3xiqsrMr2wx6"
   },
   "outputs": [],
   "source": []
  }
 ],
 "metadata": {
  "accelerator": "GPU",
  "colab": {
   "collapsed_sections": [],
   "name": "W2-Embedding_with_sarcasm",
   "provenance": []
  },
  "kernelspec": {
   "display_name": "Python 3",
   "language": "python",
   "name": "python3"
  },
  "language_info": {
   "codemirror_mode": {
    "name": "ipython",
    "version": 3
   },
   "file_extension": ".py",
   "mimetype": "text/x-python",
   "name": "python",
   "nbconvert_exporter": "python",
   "pygments_lexer": "ipython3",
   "version": "3.7.9"
  }
 },
 "nbformat": 4,
 "nbformat_minor": 1
}
