{
  "nbformat": 4,
  "nbformat_minor": 0,
  "metadata": {
    "accelerator": "GPU",
    "colab": {
      "name": "W3-Sequence_model-Exercise",
      "provenance": [],
      "collapsed_sections": []
    },
    "kernelspec": {
      "display_name": "Python 3",
      "name": "python3"
    }
  },
  "cells": [
    {
      "cell_type": "code",
      "metadata": {
        "id": "hmA6EzkQJ5jt"
      },
      "source": [
        "import json\n",
        "import tensorflow as tf\n",
        "import csv\n",
        "import random\n",
        "import numpy as np\n",
        "\n",
        "from tensorflow.keras.preprocessing.text import Tokenizer\n",
        "from tensorflow.keras.preprocessing.sequence import pad_sequences\n",
        "from tensorflow.keras.utils import to_categorical\n",
        "from tensorflow.keras import regularizers\n",
        "\n",
        "\n",
        "embedding_dim = 100\n",
        "max_length = 16\n",
        "trunc_type='post'\n",
        "padding_type='post'\n",
        "oov_tok = \"<OOV>\"\n",
        "#Your dataset size here. Experiment using smaller values (i.e. 16000), but don't forget to train on at least 160000 to see the best effects\n",
        "training_size=160000\n",
        "test_portion=.1\n",
        "\n",
        "corpus = []\n"
      ],
      "execution_count": 15,
      "outputs": []
    },
    {
      "cell_type": "code",
      "metadata": {
        "colab": {
          "base_uri": "https://localhost:8080/"
        },
        "id": "bM0l_dORKqE0",
        "outputId": "287ad7c3-c5d1-45a8-89d5-a84fb8c88b85"
      },
      "source": [
        "# Note that I cleaned the Stanford dataset to remove LATIN1 encoding to make it easier for Python CSV reader\n",
        "# You can do that yourself with:\n",
        "# iconv -f LATIN1 -t UTF8 training.1600000.processed.noemoticon.csv -o training_cleaned.csv\n",
        "# I then hosted it on my site to make it easier to use in this notebook\n",
        "\n",
        "!wget --no-check-certificate \\\n",
        "    https://storage.googleapis.com/laurencemoroney-blog.appspot.com/training_cleaned.csv \\\n",
        "    -O /tmp/training_cleaned.csv\n",
        "\n",
        "num_sentences = 0\n",
        "\n",
        "with open(\"/tmp/training_cleaned.csv\") as csvfile:\n",
        "    reader = csv.reader(csvfile, delimiter=',')\n",
        "    for row in reader:\n",
        "      # Your Code here. Create list items where the first item is the text, found in row[5], and the second is the label. Note that the label is a '0' or a '4' in the text. When it's the former, make\n",
        "      # your label to be 0, otherwise 1. Keep a count of the number of sentences in num_sentences\n",
        "      # 1. create list items, found in row[5]\n",
        "      # 2. text = 0 -> set label 0 or text = 4 -> set label 1\n",
        "      # 3. count the number or sentences\n",
        "        list_item=[]\n",
        "        # YOUR CODE HERE\n",
        "        list_item.append(row[5])\n",
        "        tmp_label = row[0] # 대충 프린트해봤더니 라벨이 대부분 0이네\n",
        "\n",
        "        if tmp_label == '0':\n",
        "          list_item.append(0)\n",
        "        else:\n",
        "          list_item.append(1)\n",
        "        \n",
        "\n",
        "        num_sentences = num_sentences + 1\n",
        "        corpus.append(list_item)\n"
      ],
      "execution_count": 16,
      "outputs": [
        {
          "output_type": "stream",
          "text": [
            "--2021-01-18 17:32:54--  https://storage.googleapis.com/laurencemoroney-blog.appspot.com/training_cleaned.csv\n",
            "Resolving storage.googleapis.com (storage.googleapis.com)... 64.233.188.128, 64.233.189.128, 108.177.97.128, ...\n",
            "Connecting to storage.googleapis.com (storage.googleapis.com)|64.233.188.128|:443... connected.\n",
            "HTTP request sent, awaiting response... 200 OK\n",
            "Length: 238942690 (228M) [application/octet-stream]\n",
            "Saving to: ‘/tmp/training_cleaned.csv’\n",
            "\n",
            "/tmp/training_clean 100%[===================>] 227.87M   218MB/s    in 1.0s    \n",
            "\n",
            "2021-01-18 17:32:55 (218 MB/s) - ‘/tmp/training_cleaned.csv’ saved [238942690/238942690]\n",
            "\n"
          ],
          "name": "stdout"
        }
      ]
    },
    {
      "cell_type": "code",
      "metadata": {
        "colab": {
          "base_uri": "https://localhost:8080/"
        },
        "id": "3kxblBUjEUX-",
        "outputId": "f8097ed6-48ea-4e84-f808-aa6f63d2b143"
      },
      "source": [
        "print(num_sentences)\n",
        "print(len(corpus))\n",
        "print(corpus[1])\n",
        "\n",
        "# Expected Output:\n",
        "# 1600000\n",
        "# 1600000\n",
        "# [\"is upset that he can't update his Facebook by texting it... and might cry as a result  School today also. Blah!\", 0]"
      ],
      "execution_count": 17,
      "outputs": [
        {
          "output_type": "stream",
          "text": [
            "1600000\n",
            "1600000\n",
            "[\"is upset that he can't update his Facebook by texting it... and might cry as a result  School today also. Blah!\", 0]\n"
          ],
          "name": "stdout"
        }
      ]
    },
    {
      "cell_type": "code",
      "metadata": {
        "id": "ohOGz24lsNAD",
        "colab": {
          "base_uri": "https://localhost:8080/"
        },
        "outputId": "d56be523-eea3-40a9-d056-e608eed201ba"
      },
      "source": [
        "sentences=[]\n",
        "labels=[]\n",
        "random.shuffle(corpus)\n",
        "for x in range(training_size):\n",
        "    sentences.append(corpus[x][0]) #iloc이나 loc 쓸 수 있나? 활용법 공부하기!\n",
        "    labels.append(corpus[x][1])\n",
        "\n",
        "\n",
        "tokenizer = Tokenizer()\n",
        "tokenizer.fit_on_texts(sentences)\n",
        "\n",
        "word_index = tokenizer.word_index\n",
        "vocab_size=len(word_index)\n",
        "print(vocab_size)\n",
        "\n",
        "sequences = tokenizer.texts_to_sequences(sentences)\n",
        "padded = pad_sequences(sequences, maxlen=max_length, padding=padding_type, truncating=trunc_type)\n",
        "\n",
        "split = int(test_portion * training_size)\n",
        "\n",
        "test_sequences = padded[0:split]\n",
        "training_sequences = padded[split:training_size]\n",
        "test_labels = labels[0:split]\n",
        "training_labels = labels[split:training_size]"
      ],
      "execution_count": 18,
      "outputs": [
        {
          "output_type": "stream",
          "text": [
            "138673\n"
          ],
          "name": "stdout"
        }
      ]
    },
    {
      "cell_type": "code",
      "metadata": {
        "colab": {
          "base_uri": "https://localhost:8080/"
        },
        "id": "gIrtRem1En3N",
        "outputId": "53958731-ffda-486f-a32a-1d3d5e90462c"
      },
      "source": [
        "print(vocab_size)\n",
        "print(word_index['i'])\n",
        "# Expected Output\n",
        "# 138858\n",
        "# 1"
      ],
      "execution_count": 19,
      "outputs": [
        {
          "output_type": "stream",
          "text": [
            "138673\n",
            "1\n"
          ],
          "name": "stdout"
        }
      ]
    },
    {
      "cell_type": "code",
      "metadata": {
        "colab": {
          "base_uri": "https://localhost:8080/"
        },
        "id": "C1zdgJkusRh0",
        "outputId": "81318010-4177-4950-a60c-b045fcea8647"
      },
      "source": [
        "# Note this is the 100 dimension version of GloVe from Stanford\n",
        "# I unzipped and hosted it on my site to make this notebook easier\n",
        "!wget --no-check-certificate \\\n",
        "    https://storage.googleapis.com/laurencemoroney-blog.appspot.com/glove.6B.100d.txt \\\n",
        "    -O /tmp/glove.6B.100d.txt\n",
        "embeddings_index = {};\n",
        "with open('/tmp/glove.6B.100d.txt') as f:\n",
        "    for line in f:\n",
        "        values = line.split();\n",
        "        word = values[0];\n",
        "        coefs = np.asarray(values[1:], dtype='float32');\n",
        "        embeddings_index[word] = coefs;\n",
        "\n",
        "embeddings_matrix = np.zeros((vocab_size+1, embedding_dim));\n",
        "for word, i in word_index.items():\n",
        "    embedding_vector = embeddings_index.get(word);\n",
        "    if embedding_vector is not None:\n",
        "        embeddings_matrix[i] = embedding_vector;"
      ],
      "execution_count": 20,
      "outputs": [
        {
          "output_type": "stream",
          "text": [
            "--2021-01-18 17:35:30--  https://storage.googleapis.com/laurencemoroney-blog.appspot.com/glove.6B.100d.txt\n",
            "Resolving storage.googleapis.com (storage.googleapis.com)... 64.233.189.128, 108.177.97.128, 74.125.203.128, ...\n",
            "Connecting to storage.googleapis.com (storage.googleapis.com)|64.233.189.128|:443... connected.\n",
            "HTTP request sent, awaiting response... 200 OK\n",
            "Length: 347116733 (331M) [text/plain]\n",
            "Saving to: ‘/tmp/glove.6B.100d.txt’\n",
            "\n",
            "/tmp/glove.6B.100d. 100%[===================>] 331.04M  27.7MB/s    in 13s     \n",
            "\n",
            "2021-01-18 17:35:45 (25.2 MB/s) - ‘/tmp/glove.6B.100d.txt’ saved [347116733/347116733]\n",
            "\n"
          ],
          "name": "stdout"
        }
      ]
    },
    {
      "cell_type": "code",
      "metadata": {
        "colab": {
          "base_uri": "https://localhost:8080/"
        },
        "id": "71NLk_lpFLNt",
        "outputId": "58cd66ae-a601-47b9-bbc7-c357d0913a5d"
      },
      "source": [
        "print(len(embeddings_matrix))\n",
        "# Expected Output\n",
        "# 138859"
      ],
      "execution_count": 21,
      "outputs": [
        {
          "output_type": "stream",
          "text": [
            "138674\n"
          ],
          "name": "stdout"
        }
      ]
    },
    {
      "cell_type": "code",
      "metadata": {
        "id": "iKKvbuEBOGFz",
        "colab": {
          "base_uri": "https://localhost:8080/"
        },
        "outputId": "78665f4c-ad50-46cf-cebc-7678a5da22f6"
      },
      "source": [
        "model = tf.keras.Sequential([\n",
        "    tf.keras.layers.Embedding(vocab_size+1, embedding_dim, input_length=max_length, weights=[embeddings_matrix], trainable=False),\n",
        "    # YOUR CODE HERE - experiment with combining different types, such as convolutions and LSTMs\n",
        "    tf.keras.layers.Dropout(0.2),\n",
        "    tf.keras.layers.Conv1D(64, 5, activation='relu'),\n",
        "    tf.keras.layers.MaxPooling1D(pool_size=4), #GlobalAveragePooling1D를 쓰라고 배웠는데 이거 쓰면 에러남\n",
        "    tf.keras.layers.LSTM(64),\n",
        "    tf.keras.layers.Dense(1, activation='sigmoid')\n",
        "])\n",
        "model.compile(optimizer='adam',\n",
        "              loss='binary_crossentropy',\n",
        "              metrics=['accuracy'])\n",
        "model.summary()\n",
        "\n",
        "num_epochs = 50\n",
        "\n",
        "# ValueError: Failed to find data adapter that can handle input: <class 'numpy.ndarray'>, (<class 'list'> containing values of types {\"<class 'int'>\"})\n",
        "# history = model.fit(training_sequences, training_labels, epochs=num_epochs, validation_data=(test_sequences, test_labels), verbose=2)\n",
        "# 이거 웃긴게 history는 내가 쓰는거 아니고 주어진건데 주어진 코드에 오류가 있으면 어쩌라는거야\n",
        "\n",
        "training_padded = np.array(training_sequences)\n",
        "training_labels = np.array(training_labels)\n",
        "testing_padded = np.array(test_sequences)\n",
        "testing_labels = np.array(test_labels)\n",
        "\n",
        "history = model.fit(training_padded, training_labels, epochs=num_epochs, validation_data=(testing_padded, testing_labels), verbose=2)\n",
        "\n",
        "\n",
        "print(\"Training Complete\")\n"
      ],
      "execution_count": 23,
      "outputs": [
        {
          "output_type": "stream",
          "text": [
            "Model: \"sequential_4\"\n",
            "_________________________________________________________________\n",
            "Layer (type)                 Output Shape              Param #   \n",
            "=================================================================\n",
            "embedding_4 (Embedding)      (None, 16, 100)           13867400  \n",
            "_________________________________________________________________\n",
            "dropout_2 (Dropout)          (None, 16, 100)           0         \n",
            "_________________________________________________________________\n",
            "conv1d_4 (Conv1D)            (None, 12, 64)            32064     \n",
            "_________________________________________________________________\n",
            "max_pooling1d_3 (MaxPooling1 (None, 3, 64)             0         \n",
            "_________________________________________________________________\n",
            "lstm_4 (LSTM)                (None, 64)                33024     \n",
            "_________________________________________________________________\n",
            "dense_4 (Dense)              (None, 1)                 65        \n",
            "=================================================================\n",
            "Total params: 13,932,553\n",
            "Trainable params: 65,153\n",
            "Non-trainable params: 13,867,400\n",
            "_________________________________________________________________\n",
            "Epoch 1/50\n",
            "4500/4500 - 26s - loss: 0.5659 - accuracy: 0.6997 - val_loss: 0.5202 - val_accuracy: 0.7379\n",
            "Epoch 2/50\n",
            "4500/4500 - 18s - loss: 0.5264 - accuracy: 0.7330 - val_loss: 0.5103 - val_accuracy: 0.7476\n",
            "Epoch 3/50\n",
            "4500/4500 - 17s - loss: 0.5099 - accuracy: 0.7451 - val_loss: 0.4956 - val_accuracy: 0.7551\n",
            "Epoch 4/50\n",
            "4500/4500 - 17s - loss: 0.4994 - accuracy: 0.7510 - val_loss: 0.5176 - val_accuracy: 0.7401\n",
            "Epoch 5/50\n",
            "4500/4500 - 17s - loss: 0.4909 - accuracy: 0.7583 - val_loss: 0.4937 - val_accuracy: 0.7559\n",
            "Epoch 6/50\n",
            "4500/4500 - 17s - loss: 0.4839 - accuracy: 0.7616 - val_loss: 0.4958 - val_accuracy: 0.7541\n",
            "Epoch 7/50\n",
            "4500/4500 - 17s - loss: 0.4777 - accuracy: 0.7658 - val_loss: 0.4971 - val_accuracy: 0.7534\n",
            "Epoch 8/50\n",
            "4500/4500 - 17s - loss: 0.4730 - accuracy: 0.7684 - val_loss: 0.4910 - val_accuracy: 0.7587\n",
            "Epoch 9/50\n",
            "4500/4500 - 18s - loss: 0.4682 - accuracy: 0.7725 - val_loss: 0.4970 - val_accuracy: 0.7538\n",
            "Epoch 10/50\n",
            "4500/4500 - 17s - loss: 0.4647 - accuracy: 0.7741 - val_loss: 0.4959 - val_accuracy: 0.7574\n",
            "Epoch 11/50\n",
            "4500/4500 - 17s - loss: 0.4615 - accuracy: 0.7763 - val_loss: 0.4978 - val_accuracy: 0.7542\n",
            "Epoch 12/50\n",
            "4500/4500 - 17s - loss: 0.4581 - accuracy: 0.7769 - val_loss: 0.5031 - val_accuracy: 0.7498\n",
            "Epoch 13/50\n",
            "4500/4500 - 17s - loss: 0.4559 - accuracy: 0.7793 - val_loss: 0.5088 - val_accuracy: 0.7520\n",
            "Epoch 14/50\n",
            "4500/4500 - 17s - loss: 0.4538 - accuracy: 0.7808 - val_loss: 0.5019 - val_accuracy: 0.7544\n",
            "Epoch 15/50\n",
            "4500/4500 - 17s - loss: 0.4521 - accuracy: 0.7823 - val_loss: 0.5038 - val_accuracy: 0.7539\n",
            "Epoch 16/50\n",
            "4500/4500 - 17s - loss: 0.4492 - accuracy: 0.7832 - val_loss: 0.4995 - val_accuracy: 0.7545\n",
            "Epoch 17/50\n",
            "4500/4500 - 17s - loss: 0.4469 - accuracy: 0.7850 - val_loss: 0.5033 - val_accuracy: 0.7518\n",
            "Epoch 18/50\n",
            "4500/4500 - 17s - loss: 0.4467 - accuracy: 0.7842 - val_loss: 0.4994 - val_accuracy: 0.7579\n",
            "Epoch 19/50\n",
            "4500/4500 - 17s - loss: 0.4444 - accuracy: 0.7855 - val_loss: 0.5015 - val_accuracy: 0.7539\n",
            "Epoch 20/50\n",
            "4500/4500 - 18s - loss: 0.4452 - accuracy: 0.7857 - val_loss: 0.5050 - val_accuracy: 0.7544\n",
            "Epoch 21/50\n",
            "4500/4500 - 17s - loss: 0.4440 - accuracy: 0.7869 - val_loss: 0.5049 - val_accuracy: 0.7476\n",
            "Epoch 22/50\n",
            "4500/4500 - 18s - loss: 0.4416 - accuracy: 0.7877 - val_loss: 0.5118 - val_accuracy: 0.7534\n",
            "Epoch 23/50\n",
            "4500/4500 - 18s - loss: 0.4399 - accuracy: 0.7893 - val_loss: 0.5098 - val_accuracy: 0.7499\n",
            "Epoch 24/50\n",
            "4500/4500 - 17s - loss: 0.4381 - accuracy: 0.7893 - val_loss: 0.5093 - val_accuracy: 0.7513\n",
            "Epoch 25/50\n",
            "4500/4500 - 17s - loss: 0.4388 - accuracy: 0.7895 - val_loss: 0.5049 - val_accuracy: 0.7504\n",
            "Epoch 26/50\n",
            "4500/4500 - 17s - loss: 0.4361 - accuracy: 0.7909 - val_loss: 0.5144 - val_accuracy: 0.7485\n",
            "Epoch 27/50\n",
            "4500/4500 - 18s - loss: 0.4377 - accuracy: 0.7905 - val_loss: 0.5129 - val_accuracy: 0.7471\n",
            "Epoch 28/50\n",
            "4500/4500 - 17s - loss: 0.4361 - accuracy: 0.7916 - val_loss: 0.5087 - val_accuracy: 0.7492\n",
            "Epoch 29/50\n",
            "4500/4500 - 17s - loss: 0.4356 - accuracy: 0.7926 - val_loss: 0.5123 - val_accuracy: 0.7481\n",
            "Epoch 30/50\n",
            "4500/4500 - 17s - loss: 0.4343 - accuracy: 0.7927 - val_loss: 0.5151 - val_accuracy: 0.7524\n",
            "Epoch 31/50\n",
            "4500/4500 - 18s - loss: 0.4341 - accuracy: 0.7921 - val_loss: 0.5156 - val_accuracy: 0.7504\n",
            "Epoch 32/50\n",
            "4500/4500 - 18s - loss: 0.4334 - accuracy: 0.7937 - val_loss: 0.5131 - val_accuracy: 0.7508\n",
            "Epoch 33/50\n",
            "4500/4500 - 18s - loss: 0.4338 - accuracy: 0.7929 - val_loss: 0.5134 - val_accuracy: 0.7516\n",
            "Epoch 34/50\n",
            "4500/4500 - 18s - loss: 0.4336 - accuracy: 0.7928 - val_loss: 0.5115 - val_accuracy: 0.7509\n",
            "Epoch 35/50\n",
            "4500/4500 - 17s - loss: 0.4313 - accuracy: 0.7948 - val_loss: 0.5185 - val_accuracy: 0.7524\n",
            "Epoch 36/50\n",
            "4500/4500 - 17s - loss: 0.4314 - accuracy: 0.7946 - val_loss: 0.5167 - val_accuracy: 0.7529\n",
            "Epoch 37/50\n",
            "4500/4500 - 17s - loss: 0.4316 - accuracy: 0.7941 - val_loss: 0.5142 - val_accuracy: 0.7525\n",
            "Epoch 38/50\n",
            "4500/4500 - 18s - loss: 0.4317 - accuracy: 0.7935 - val_loss: 0.5136 - val_accuracy: 0.7534\n",
            "Epoch 39/50\n",
            "4500/4500 - 17s - loss: 0.4319 - accuracy: 0.7928 - val_loss: 0.5119 - val_accuracy: 0.7500\n",
            "Epoch 40/50\n",
            "4500/4500 - 17s - loss: 0.4309 - accuracy: 0.7953 - val_loss: 0.5190 - val_accuracy: 0.7486\n",
            "Epoch 41/50\n",
            "4500/4500 - 17s - loss: 0.4297 - accuracy: 0.7948 - val_loss: 0.5149 - val_accuracy: 0.7511\n",
            "Epoch 42/50\n",
            "4500/4500 - 17s - loss: 0.4299 - accuracy: 0.7945 - val_loss: 0.5130 - val_accuracy: 0.7483\n",
            "Epoch 43/50\n",
            "4500/4500 - 18s - loss: 0.4294 - accuracy: 0.7950 - val_loss: 0.5142 - val_accuracy: 0.7519\n",
            "Epoch 44/50\n",
            "4500/4500 - 18s - loss: 0.4288 - accuracy: 0.7960 - val_loss: 0.5173 - val_accuracy: 0.7476\n",
            "Epoch 45/50\n",
            "4500/4500 - 17s - loss: 0.4283 - accuracy: 0.7967 - val_loss: 0.5107 - val_accuracy: 0.7501\n",
            "Epoch 46/50\n",
            "4500/4500 - 17s - loss: 0.4304 - accuracy: 0.7947 - val_loss: 0.5128 - val_accuracy: 0.7544\n",
            "Epoch 47/50\n",
            "4500/4500 - 17s - loss: 0.4280 - accuracy: 0.7962 - val_loss: 0.5164 - val_accuracy: 0.7532\n",
            "Epoch 48/50\n",
            "4500/4500 - 17s - loss: 0.4281 - accuracy: 0.7959 - val_loss: 0.5140 - val_accuracy: 0.7537\n",
            "Epoch 49/50\n",
            "4500/4500 - 17s - loss: 0.4266 - accuracy: 0.7973 - val_loss: 0.5143 - val_accuracy: 0.7538\n",
            "Epoch 50/50\n",
            "4500/4500 - 17s - loss: 0.4291 - accuracy: 0.7963 - val_loss: 0.5154 - val_accuracy: 0.7529\n",
            "Training Complete\n"
          ],
          "name": "stdout"
        }
      ]
    },
    {
      "cell_type": "code",
      "metadata": {
        "id": "qxju4ItJKO8F",
        "colab": {
          "base_uri": "https://localhost:8080/",
          "height": 609
        },
        "outputId": "5eb95644-170d-4de0-a85c-c44ce0ba38d2"
      },
      "source": [
        "import matplotlib.image  as mpimg\n",
        "import matplotlib.pyplot as plt\n",
        "\n",
        "#-----------------------------------------------------------\n",
        "# Retrieve a list of list results on training and test data\n",
        "# sets for each training epoch\n",
        "#-----------------------------------------------------------\n",
        "acc=history.history['accuracy']\n",
        "val_acc=history.history['val_accuracy']\n",
        "loss=history.history['loss']\n",
        "val_loss=history.history['val_loss']\n",
        "\n",
        "epochs=range(len(acc)) # Get number of epochs\n",
        "\n",
        "#------------------------------------------------\n",
        "# Plot training and validation accuracy per epoch\n",
        "#------------------------------------------------\n",
        "plt.plot(epochs, acc, 'r')\n",
        "plt.plot(epochs, val_acc, 'b')\n",
        "plt.title('Training and validation accuracy')\n",
        "plt.xlabel(\"Epochs\")\n",
        "plt.ylabel(\"Accuracy\")\n",
        "plt.legend([\"Accuracy\", \"Validation Accuracy\"])\n",
        "\n",
        "plt.figure()\n",
        "\n",
        "#------------------------------------------------\n",
        "# Plot training and validation loss per epoch\n",
        "#------------------------------------------------\n",
        "plt.plot(epochs, loss, 'r')\n",
        "plt.plot(epochs, val_loss, 'b')\n",
        "plt.title('Training and validation loss')\n",
        "plt.xlabel(\"Epochs\")\n",
        "plt.ylabel(\"Loss\")\n",
        "plt.legend([\"Loss\", \"Validation Loss\"])\n",
        "\n",
        "plt.figure()\n",
        "\n",
        "\n",
        "# Expected Output\n",
        "# A chart where the validation loss does not increase sharply!"
      ],
      "execution_count": 24,
      "outputs": [
        {
          "output_type": "execute_result",
          "data": {
            "text/plain": [
              "<Figure size 432x288 with 0 Axes>"
            ]
          },
          "metadata": {
            "tags": []
          },
          "execution_count": 24
        },
        {
          "output_type": "display_data",
          "data": {
            "image/png": "[encoded data removed]",
            "text/plain": [
              "<Figure size 432x288 with 1 Axes>"
            ]
          },
          "metadata": {
            "tags": [],
            "needs_background": "light"
          }
        },
        {
          "output_type": "display_data",
          "data": {
            "image/png": "[encoded data removed]",
            "text/plain": [
              "<Figure size 432x288 with 1 Axes>"
            ]
          },
          "metadata": {
            "tags": [],
            "needs_background": "light"
          }
        },
        {
          "output_type": "display_data",
          "data": {
            "text/plain": [
              "<Figure size 432x288 with 0 Axes>"
            ]
          },
          "metadata": {
            "tags": []
          }
        }
      ]
    },
    {
      "cell_type": "code",
      "metadata": {
        "id": "barPZbZyg6Nv"
      },
      "source": [
        ""
      ],
      "execution_count": null,
      "outputs": []
    }
  ]
}