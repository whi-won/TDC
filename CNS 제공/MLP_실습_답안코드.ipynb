{
  "nbformat": 4,
  "nbformat_minor": 0,
  "metadata": {
    "colab": {
      "name": "MLP_실습_답안코드.ipynb",
      "provenance": [],
      "collapsed_sections": []
    },
    "kernelspec": {
      "name": "python3",
      "display_name": "Python 3"
    },
    "accelerator": "GPU"
  },
  "cells": [
    {
      "cell_type": "markdown",
      "metadata": {
        "id": "pgSX3nyA2M4D"
      },
      "source": [
        "# Multi Layer Perceptron 실습\n",
        "\n",
        "앞서 살펴본 예제를 바탕으로, 실제로 코드를 작성하는 실습을 진행합니다."
      ]
    },
    {
      "cell_type": "markdown",
      "metadata": {
        "id": "e_n7CHEf11A8"
      },
      "source": [
        "## 데이터 준비\n",
        "\n",
        "MNIST 데이터셋을 로드합니다.\n",
        "\n",
        "MNIST 데이터셋은 0 ~ 9의 손글씨 숫자를 모은 데이터셋으로, 28x28 크기의 이미지들로 구성되어 있습니다.\n",
        "\n",
        "데이터는 내부적으로 train과 test로 각각 나뉘어 있습니다.\n",
        "\n",
        "데이터를 로드한 후, 0 ~ 255로 된 int 값에서 0 ~ 1의 float 값으로 각 샘플들의 범위를 조정합니다."
      ]
    },
    {
      "cell_type": "code",
      "metadata": {
        "id": "jn_VU22_1yZF"
      },
      "source": [
        "import tensorflow as tf\n",
        "\n",
        "mnist = tf.keras.datasets.mnist\n",
        "\n",
        "(x_train, y_train), (x_test, y_test) = mnist.load_data()\n",
        "x_train, x_test = x_train / 255.0, x_test / 255.0"
      ],
      "execution_count": null,
      "outputs": []
    },
    {
      "cell_type": "markdown",
      "metadata": {
        "id": "78oPLiSFLl9y"
      },
      "source": [
        "## 로드한 데이터 확인\n",
        "\n",
        "로드한 데이터의 형태를 확인해봅니다.\n",
        "\n",
        "x_train은 (60000, 28, 28)의 shape를 가지는 numpy array입니다.\n",
        "\n",
        "즉, 28 x 28 크기의 이미지 6만장입니다.\n",
        "\n",
        "y_train은 (60000,)의 shape를 가지는 numpy array입니다.\n",
        "\n",
        "실제 값을 보면, 0 ~ 9 의 label을 나타냄을 알 수 있습니다."
      ]
    },
    {
      "cell_type": "code",
      "metadata": {
        "id": "-qZqnO3XLeNU"
      },
      "source": [
        "print(type(x_train))\n",
        "print(x_train.shape)\n",
        "print(type(y_train))\n",
        "print(y_train.shape)\n",
        "print(y_train[:20])"
      ],
      "execution_count": null,
      "outputs": []
    },
    {
      "cell_type": "markdown",
      "metadata": {
        "id": "gIr1rXZp2ymI"
      },
      "source": [
        "## **MISSION: 네트워크 정의 및 학습**\n",
        "\n",
        "##**예시 답안**\n",
        "\n",
        "Flatten을 통해 1차원으로 데이터를 펼친 후, 128개의 node를 가진 hidden layer 하나를 추가했습니다.\n",
        "\n",
        "해당 layer에는 50%의 dropout을 적용했습니다.\n",
        "\n",
        "학습에 사용한 MNIST 데이터는 10개의 class를 가지므로\n",
        "\n",
        "최종 output layer의 node 수를 10개로 설정합니다.\n",
        "\n",
        "Hidden layer의 activation function은 ReLU로, output layer의 activation function은 softmax로 설정합니다.\n",
        "\n",
        "<br>\n",
        "\n",
        "model.compile을 통해 모델을 컴파일합니다.\n",
        "\n",
        "Iris 예제와 마찬가지로 optimizer는 adam을 사용합니다.\n",
        "\n",
        "위에서 확인한 결과 label이 정수 형태이므로 loss로 sparse_categorical_crossentropy를 사용합니다.\n",
        "\n",
        "<br>\n",
        "\n",
        "model.fit을 통해 학습을 진행합니다."
      ]
    },
    {
      "cell_type": "code",
      "metadata": {
        "id": "VImHxICX2jHD"
      },
      "source": [
        "model = tf.keras.models.Sequential([\n",
        "  tf.keras.layers.Flatten(input_shape=(28, 28)),\n",
        "  tf.keras.layers.Dense(128, activation='relu'),\n",
        "  tf.keras.layers.Dropout(0.50),\n",
        "  tf.keras.layers.Dense(10, activation='softmax')\n",
        "])\n",
        "\n",
        "model.compile(optimizer='adam', loss='sparse_categorical_crossentropy', metrics=['accuracy'])\n",
        "model.fit(x_train, y_train, epochs=5)"
      ],
      "execution_count": null,
      "outputs": []
    },
    {
      "cell_type": "markdown",
      "metadata": {
        "id": "nlesfCRINh9A"
      },
      "source": [
        "## 모델 평가\n",
        "\n",
        "evaluate 함수에 평가용 데이터와 label을 전달하여 평가를 진행합니다.\n",
        "\n",
        "Loss와 accuracy가 표시됩니다.\n",
        "\n",
        "위 실습을 정상적으로 완성했다면, 90% 이상의 정확도를 보일 것입니다."
      ]
    },
    {
      "cell_type": "code",
      "metadata": {
        "id": "OjPom7Y1KTV5"
      },
      "source": [
        "model.evaluate(x_test,  y_test)"
      ],
      "execution_count": null,
      "outputs": []
    }
  ]
}