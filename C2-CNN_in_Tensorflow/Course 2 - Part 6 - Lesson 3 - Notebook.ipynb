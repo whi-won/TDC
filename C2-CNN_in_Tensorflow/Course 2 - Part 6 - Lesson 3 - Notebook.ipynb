{
  "cells": [
    {
      "cell_type": "code",
      "execution_count": null,
      "source": [
        "import os\r\n",
        "\r\n",
        "from tensorflow.keras import layers\r\n",
        "from tensorflow.keras import Model\r\n",
        "!wget --no-check-certificate \\\r\n",
        "    https://storage.googleapis.com/mledu-datasets/inception_v3_weights_tf_dim_ordering_tf_kernels_notop.h5 \\\r\n",
        "    -O /tmp/inception_v3_weights_tf_dim_ordering_tf_kernels_notop.h5\r\n",
        "  \r\n",
        "from tensorflow.keras.applications.inception_v3 import InceptionV3\r\n",
        "\r\n",
        "local_weights_file = '/tmp/inception_v3_weights_tf_dim_ordering_tf_kernels_notop.h5'\r\n",
        "\r\n",
        "pre_trained_model = InceptionV3(input_shape = (150, 150, 3), \r\n",
        "                                include_top = False, \r\n",
        "                                weights = None)\r\n",
        "\r\n",
        "pre_trained_model.load_weights(local_weights_file)\r\n",
        "\r\n",
        "for layer in pre_trained_model.layers:\r\n",
        "  layer.trainable = False\r\n",
        "  \r\n",
        "# pre_trained_model.summary()\r\n",
        "\r\n",
        "last_layer = pre_trained_model.get_layer('mixed7')\r\n",
        "print('last layer output shape: ', last_layer.output_shape)\r\n",
        "last_output = last_layer.output"
      ],
      "outputs": [],
      "metadata": {
        "colab": {},
        "colab_type": "code",
        "id": "1xJZ5glPPCRz"
      }
    },
    {
      "cell_type": "code",
      "execution_count": null,
      "source": [
        "from tensorflow.keras.optimizers import RMSprop\r\n",
        "\r\n",
        "# Flatten the output layer to 1 dimension\r\n",
        "x = layers.Flatten()(last_output)\r\n",
        "# Add a fully connected layer with 1,024 hidden units and ReLU activation\r\n",
        "x = layers.Dense(1024, activation='relu')(x)\r\n",
        "# Add a dropout rate of 0.2\r\n",
        "x = layers.Dropout(0.2)(x)                  \r\n",
        "# Add a final sigmoid layer for classification\r\n",
        "x = layers.Dense  (1, activation='sigmoid')(x)           \r\n",
        "\r\n",
        "model = Model( pre_trained_model.input, x) \r\n",
        "\r\n",
        "model.compile(optimizer = RMSprop(lr=0.0001), \r\n",
        "              loss = 'binary_crossentropy', \r\n",
        "              metrics = ['accuracy'])\r\n"
      ],
      "outputs": [],
      "metadata": {
        "colab": {},
        "colab_type": "code",
        "id": "BMXb913pbvFg"
      }
    },
    {
      "cell_type": "code",
      "execution_count": null,
      "source": [
        "!wget --no-check-certificate \\\r\n",
        "        https://storage.googleapis.com/mledu-datasets/cats_and_dogs_filtered.zip \\\r\n",
        "       -O /tmp/cats_and_dogs_filtered.zip\r\n",
        "\r\n",
        "from tensorflow.keras.preprocessing.image import ImageDataGenerator\r\n",
        "\r\n",
        "import os\r\n",
        "import zipfile\r\n",
        "\r\n",
        "local_zip = '//tmp/cats_and_dogs_filtered.zip'\r\n",
        "\r\n",
        "zip_ref = zipfile.ZipFile(local_zip, 'r')\r\n",
        "\r\n",
        "zip_ref.extractall('/tmp')\r\n",
        "zip_ref.close()\r\n",
        "\r\n",
        "# Define our example directories and files\r\n",
        "base_dir = '/tmp/cats_and_dogs_filtered'\r\n",
        "\r\n",
        "train_dir = os.path.join( base_dir, 'train')\r\n",
        "validation_dir = os.path.join( base_dir, 'validation')\r\n",
        "\r\n",
        "\r\n",
        "train_cats_dir = os.path.join(train_dir, 'cats') # Directory with our training cat pictures\r\n",
        "train_dogs_dir = os.path.join(train_dir, 'dogs') # Directory with our training dog pictures\r\n",
        "validation_cats_dir = os.path.join(validation_dir, 'cats') # Directory with our validation cat pictures\r\n",
        "validation_dogs_dir = os.path.join(validation_dir, 'dogs')# Directory with our validation dog pictures\r\n",
        "\r\n",
        "train_cat_fnames = os.listdir(train_cats_dir)\r\n",
        "train_dog_fnames = os.listdir(train_dogs_dir)\r\n",
        "\r\n",
        "# Add our data-augmentation parameters to ImageDataGenerator\r\n",
        "train_datagen = ImageDataGenerator(rescale = 1./255.,\r\n",
        "                                   rotation_range = 40,\r\n",
        "                                   width_shift_range = 0.2,\r\n",
        "                                   height_shift_range = 0.2,\r\n",
        "                                   shear_range = 0.2,\r\n",
        "                                   zoom_range = 0.2,\r\n",
        "                                   horizontal_flip = True)\r\n",
        "\r\n",
        "# Note that the validation data should not be augmented!\r\n",
        "test_datagen = ImageDataGenerator( rescale = 1.0/255. )\r\n",
        "\r\n",
        "# Flow training images in batches of 20 using train_datagen generator\r\n",
        "train_generator = train_datagen.flow_from_directory(train_dir,\r\n",
        "                                                    batch_size = 20,\r\n",
        "                                                    class_mode = 'binary', \r\n",
        "                                                    target_size = (150, 150))     \r\n",
        "\r\n",
        "# Flow validation images in batches of 20 using test_datagen generator\r\n",
        "validation_generator =  test_datagen.flow_from_directory( validation_dir,\r\n",
        "                                                          batch_size  = 20,\r\n",
        "                                                          class_mode  = 'binary', \r\n",
        "                                                          target_size = (150, 150))"
      ],
      "outputs": [],
      "metadata": {
        "colab": {},
        "colab_type": "code",
        "id": "O4s8HckqGlnb"
      }
    },
    {
      "cell_type": "code",
      "execution_count": null,
      "source": [
        "history = model.fit(\n",
        "            train_generator,\n",
        "            validation_data = validation_generator,\n",
        "            steps_per_epoch = 100,\n",
        "            epochs = 20,\n",
        "            validation_steps = 50,\n",
        "            verbose = 2)"
      ],
      "outputs": [],
      "metadata": {
        "colab": {},
        "colab_type": "code",
        "id": "Blhq2MAUeyGA"
      }
    },
    {
      "cell_type": "code",
      "execution_count": null,
      "source": [
        "import matplotlib.pyplot as plt\n",
        "acc = history.history['accuracy']\n",
        "val_acc = history.history['val_accuracy']\n",
        "loss = history.history['loss']\n",
        "val_loss = history.history['val_loss']\n",
        "\n",
        "epochs = range(len(acc))\n",
        "\n",
        "plt.plot(epochs, acc, 'r', label='Training accuracy')\n",
        "plt.plot(epochs, val_acc, 'b', label='Validation accuracy')\n",
        "plt.title('Training and validation accuracy')\n",
        "plt.legend(loc=0)\n",
        "plt.figure()\n",
        "\n",
        "\n",
        "plt.show()"
      ],
      "outputs": [],
      "metadata": {
        "colab": {},
        "colab_type": "code",
        "id": "C2Fp6Se9rKuL"
      }
    }
  ],
  "metadata": {
    "accelerator": "GPU",
    "colab": {
      "collapsed_sections": [],
      "include_colab_link": true,
      "name": "Course 2 - Part 6 - Lesson 3 - Notebook.ipynb",
      "provenance": [],
      "toc_visible": true
    },
    "kernelspec": {
      "display_name": "Python 3",
      "name": "python3"
    }
  },
  "nbformat": 4,
  "nbformat_minor": 2
}