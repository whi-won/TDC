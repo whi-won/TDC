{
  "nbformat": 4,
  "nbformat_minor": 2,
  "metadata": {
    "accelerator": "GPU",
    "colab": {
      "name": "Course 2 - Part 6 - Lesson 3 - Notebook.ipynb",
      "provenance": [],
      "collapsed_sections": [],
      "include_colab_link": true
    },
    "kernelspec": {
      "display_name": "Python 3",
      "name": "python3"
    }
  },
  "cells": [
    {
      "cell_type": "markdown",
      "source": [
        "<a href=\"https://colab.research.google.com/github/whi-won/TDC/blob/main/C2-CNN_in_Tensorflow/Course%202%20-%20Part%206%20-%20Lesson%203%20-%20Notebook.ipynb\" target=\"_parent\"><img src=\"https://colab.research.google.com/assets/colab-badge.svg\" alt=\"Open In Colab\"/></a>"
      ],
      "metadata": {
        "id": "view-in-github",
        "colab_type": "text"
      }
    },
    {
      "cell_type": "code",
      "execution_count": 1,
      "source": [
        "import os\r\n",
        "\r\n",
        "from tensorflow.keras import layers\r\n",
        "from tensorflow.keras import Model\r\n",
        "!wget --no-check-certificate \\\r\n",
        "    https://storage.googleapis.com/mledu-datasets/inception_v3_weights_tf_dim_ordering_tf_kernels_notop.h5 \\\r\n",
        "    -O /tmp/inception_v3_weights_tf_dim_ordering_tf_kernels_notop.h5\r\n",
        "  \r\n",
        "from tensorflow.keras.applications.inception_v3 import InceptionV3\r\n",
        "\r\n",
        "local_weights_file = '/tmp/inception_v3_weights_tf_dim_ordering_tf_kernels_notop.h5'\r\n",
        "\r\n",
        "pre_trained_model = InceptionV3(input_shape = (150, 150, 3), \r\n",
        "                                include_top = False, \r\n",
        "                                weights = None)\r\n",
        "\r\n",
        "pre_trained_model.load_weights(local_weights_file)\r\n",
        "\r\n",
        "for layer in pre_trained_model.layers:\r\n",
        "  layer.trainable = False\r\n",
        "  \r\n",
        "# pre_trained_model.summary()\r\n",
        "\r\n",
        "last_layer = pre_trained_model.get_layer('mixed7')\r\n",
        "print('last layer output shape: ', last_layer.output_shape)\r\n",
        "last_output = last_layer.output"
      ],
      "outputs": [
        {
          "output_type": "stream",
          "name": "stdout",
          "text": [
            "--2021-09-19 07:11:24--  https://storage.googleapis.com/mledu-datasets/inception_v3_weights_tf_dim_ordering_tf_kernels_notop.h5\n",
            "Resolving storage.googleapis.com (storage.googleapis.com)... 64.233.166.128, 74.125.133.128, 74.125.140.128, ...\n",
            "Connecting to storage.googleapis.com (storage.googleapis.com)|64.233.166.128|:443... connected.\n",
            "HTTP request sent, awaiting response... 200 OK\n",
            "Length: 87910968 (84M) [application/x-hdf]\n",
            "Saving to: ‘/tmp/inception_v3_weights_tf_dim_ordering_tf_kernels_notop.h5’\n",
            "\n",
            "/tmp/inception_v3_w 100%[===================>]  83.84M  40.3MB/s    in 2.1s    \n",
            "\n",
            "2021-09-19 07:11:27 (40.3 MB/s) - ‘/tmp/inception_v3_weights_tf_dim_ordering_tf_kernels_notop.h5’ saved [87910968/87910968]\n",
            "\n",
            "last layer output shape:  (None, 7, 7, 768)\n"
          ]
        }
      ],
      "metadata": {
        "colab": {
          "base_uri": "https://localhost:8080/"
        },
        "id": "1xJZ5glPPCRz",
        "outputId": "859dcb78-96fb-4ff7-9796-84f012acbdd1"
      }
    },
    {
      "cell_type": "code",
      "execution_count": 2,
      "source": [
        "from tensorflow.keras.optimizers import RMSprop\r\n",
        "\r\n",
        "# Flatten the output layer to 1 dimension\r\n",
        "x = layers.Flatten()(last_output)\r\n",
        "# Add a fully connected layer with 1,024 hidden units and ReLU activation\r\n",
        "x = layers.Dense(1024, activation='relu')(x)\r\n",
        "# Add a dropout rate of 0.2\r\n",
        "x = layers.Dropout(0.2)(x)                  \r\n",
        "# Add a final sigmoid layer for classification\r\n",
        "x = layers.Dense  (1, activation='sigmoid')(x)           \r\n",
        "\r\n",
        "model = Model( pre_trained_model.input, x) \r\n",
        "\r\n",
        "model.compile(optimizer = RMSprop(lr=0.0001), \r\n",
        "              loss = 'binary_crossentropy', \r\n",
        "              metrics = ['accuracy'])\r\n"
      ],
      "outputs": [
        {
          "output_type": "stream",
          "name": "stderr",
          "text": [
            "/usr/local/lib/python3.7/dist-packages/keras/optimizer_v2/optimizer_v2.py:356: UserWarning: The `lr` argument is deprecated, use `learning_rate` instead.\n",
            "  \"The `lr` argument is deprecated, use `learning_rate` instead.\")\n"
          ]
        }
      ],
      "metadata": {
        "colab": {
          "base_uri": "https://localhost:8080/"
        },
        "id": "BMXb913pbvFg",
        "outputId": "c09bfb9c-615b-422a-fae1-18a2d1c9eb09"
      }
    },
    {
      "cell_type": "code",
      "execution_count": 3,
      "source": [
        "!wget --no-check-certificate \\\r\n",
        "        https://storage.googleapis.com/mledu-datasets/cats_and_dogs_filtered.zip \\\r\n",
        "       -O /tmp/cats_and_dogs_filtered.zip\r\n",
        "\r\n",
        "from tensorflow.keras.preprocessing.image import ImageDataGenerator\r\n",
        "\r\n",
        "import os\r\n",
        "import zipfile\r\n",
        "\r\n",
        "local_zip = '//tmp/cats_and_dogs_filtered.zip'\r\n",
        "\r\n",
        "zip_ref = zipfile.ZipFile(local_zip, 'r')\r\n",
        "\r\n",
        "zip_ref.extractall('/tmp')\r\n",
        "zip_ref.close()\r\n",
        "\r\n",
        "# Define our example directories and files\r\n",
        "base_dir = '/tmp/cats_and_dogs_filtered'\r\n",
        "\r\n",
        "train_dir = os.path.join( base_dir, 'train')\r\n",
        "validation_dir = os.path.join( base_dir, 'validation')\r\n",
        "\r\n",
        "\r\n",
        "train_cats_dir = os.path.join(train_dir, 'cats') # Directory with our training cat pictures\r\n",
        "train_dogs_dir = os.path.join(train_dir, 'dogs') # Directory with our training dog pictures\r\n",
        "validation_cats_dir = os.path.join(validation_dir, 'cats') # Directory with our validation cat pictures\r\n",
        "validation_dogs_dir = os.path.join(validation_dir, 'dogs')# Directory with our validation dog pictures\r\n",
        "\r\n",
        "train_cat_fnames = os.listdir(train_cats_dir)\r\n",
        "train_dog_fnames = os.listdir(train_dogs_dir)\r\n",
        "\r\n",
        "# Add our data-augmentation parameters to ImageDataGenerator\r\n",
        "train_datagen = ImageDataGenerator(rescale = 1./255.,\r\n",
        "                                   rotation_range = 40,\r\n",
        "                                   width_shift_range = 0.2,\r\n",
        "                                   height_shift_range = 0.2,\r\n",
        "                                   shear_range = 0.2,\r\n",
        "                                   zoom_range = 0.2,\r\n",
        "                                   horizontal_flip = True)\r\n",
        "\r\n",
        "# Note that the validation data should not be augmented!\r\n",
        "test_datagen = ImageDataGenerator( rescale = 1.0/255. )\r\n",
        "\r\n",
        "# Flow training images in batches of 20 using train_datagen generator\r\n",
        "train_generator = train_datagen.flow_from_directory(train_dir,\r\n",
        "                                                    batch_size = 20,\r\n",
        "                                                    class_mode = 'binary', \r\n",
        "                                                    target_size = (150, 150))     \r\n",
        "\r\n",
        "# Flow validation images in batches of 20 using test_datagen generator\r\n",
        "validation_generator =  test_datagen.flow_from_directory( validation_dir,\r\n",
        "                                                          batch_size  = 20,\r\n",
        "                                                          class_mode  = 'binary', \r\n",
        "                                                          target_size = (150, 150))"
      ],
      "outputs": [
        {
          "output_type": "stream",
          "name": "stdout",
          "text": [
            "--2021-09-19 07:16:10--  https://storage.googleapis.com/mledu-datasets/cats_and_dogs_filtered.zip\n",
            "Resolving storage.googleapis.com (storage.googleapis.com)... 74.125.140.128, 108.177.15.128, 173.194.76.128, ...\n",
            "Connecting to storage.googleapis.com (storage.googleapis.com)|74.125.140.128|:443... connected.\n",
            "HTTP request sent, awaiting response... 200 OK\n",
            "Length: 68606236 (65M) [application/zip]\n",
            "Saving to: ‘/tmp/cats_and_dogs_filtered.zip’\n",
            "\n",
            "/tmp/cats_and_dogs_ 100%[===================>]  65.43M  60.1MB/s    in 1.1s    \n",
            "\n",
            "2021-09-19 07:16:12 (60.1 MB/s) - ‘/tmp/cats_and_dogs_filtered.zip’ saved [68606236/68606236]\n",
            "\n",
            "Found 2000 images belonging to 2 classes.\n",
            "Found 1000 images belonging to 2 classes.\n"
          ]
        }
      ],
      "metadata": {
        "colab": {
          "base_uri": "https://localhost:8080/"
        },
        "id": "O4s8HckqGlnb",
        "outputId": "fd2c6654-fdee-4db8-f420-24100e7853c2"
      }
    },
    {
      "cell_type": "code",
      "execution_count": 4,
      "source": [
        "history = model.fit(\r\n",
        "            train_generator,\r\n",
        "            validation_data = validation_generator,\r\n",
        "            steps_per_epoch = 100, \r\n",
        "            epochs = 20,\r\n",
        "            validation_steps = 50,\r\n",
        "            verbose = 2)"
      ],
      "outputs": [
        {
          "output_type": "stream",
          "name": "stdout",
          "text": [
            "Epoch 1/20\n",
            "100/100 - 58s - loss: 0.3302 - accuracy: 0.8710 - val_loss: 0.1065 - val_accuracy: 0.9570\n",
            "Epoch 2/20\n",
            "100/100 - 22s - loss: 0.2287 - accuracy: 0.9185 - val_loss: 0.1161 - val_accuracy: 0.9610\n",
            "Epoch 3/20\n",
            "100/100 - 22s - loss: 0.2078 - accuracy: 0.9285 - val_loss: 0.2327 - val_accuracy: 0.9230\n",
            "Epoch 4/20\n",
            "100/100 - 22s - loss: 0.1757 - accuracy: 0.9300 - val_loss: 0.0955 - val_accuracy: 0.9680\n",
            "Epoch 5/20\n",
            "100/100 - 22s - loss: 0.1757 - accuracy: 0.9410 - val_loss: 0.1018 - val_accuracy: 0.9690\n",
            "Epoch 6/20\n",
            "100/100 - 22s - loss: 0.1843 - accuracy: 0.9405 - val_loss: 0.1128 - val_accuracy: 0.9630\n",
            "Epoch 7/20\n",
            "100/100 - 22s - loss: 0.1879 - accuracy: 0.9285 - val_loss: 0.1231 - val_accuracy: 0.9670\n",
            "Epoch 8/20\n",
            "100/100 - 23s - loss: 0.1797 - accuracy: 0.9380 - val_loss: 0.1246 - val_accuracy: 0.9600\n",
            "Epoch 9/20\n",
            "100/100 - 22s - loss: 0.1594 - accuracy: 0.9450 - val_loss: 0.1004 - val_accuracy: 0.9700\n",
            "Epoch 10/20\n",
            "100/100 - 22s - loss: 0.1440 - accuracy: 0.9525 - val_loss: 0.0994 - val_accuracy: 0.9630\n",
            "Epoch 11/20\n",
            "100/100 - 21s - loss: 0.1514 - accuracy: 0.9425 - val_loss: 0.1412 - val_accuracy: 0.9590\n",
            "Epoch 12/20\n",
            "100/100 - 22s - loss: 0.1422 - accuracy: 0.9530 - val_loss: 0.1243 - val_accuracy: 0.9610\n",
            "Epoch 13/20\n",
            "100/100 - 22s - loss: 0.1646 - accuracy: 0.9435 - val_loss: 0.1044 - val_accuracy: 0.9670\n",
            "Epoch 14/20\n",
            "100/100 - 22s - loss: 0.1385 - accuracy: 0.9500 - val_loss: 0.1150 - val_accuracy: 0.9680\n",
            "Epoch 15/20\n",
            "100/100 - 23s - loss: 0.1529 - accuracy: 0.9495 - val_loss: 0.1155 - val_accuracy: 0.9660\n",
            "Epoch 16/20\n",
            "100/100 - 22s - loss: 0.1602 - accuracy: 0.9505 - val_loss: 0.0989 - val_accuracy: 0.9650\n",
            "Epoch 17/20\n",
            "100/100 - 22s - loss: 0.1243 - accuracy: 0.9565 - val_loss: 0.1281 - val_accuracy: 0.9680\n",
            "Epoch 18/20\n",
            "100/100 - 22s - loss: 0.1295 - accuracy: 0.9565 - val_loss: 0.1187 - val_accuracy: 0.9740\n",
            "Epoch 19/20\n",
            "100/100 - 22s - loss: 0.1226 - accuracy: 0.9560 - val_loss: 0.1808 - val_accuracy: 0.9550\n",
            "Epoch 20/20\n",
            "100/100 - 22s - loss: 0.1417 - accuracy: 0.9535 - val_loss: 0.1491 - val_accuracy: 0.9570\n"
          ]
        }
      ],
      "metadata": {
        "colab": {
          "base_uri": "https://localhost:8080/"
        },
        "id": "Blhq2MAUeyGA",
        "outputId": "4964be8e-9e8e-4952-f376-f471cffb5c78"
      }
    },
    {
      "cell_type": "code",
      "execution_count": 5,
      "source": [
        "import matplotlib.pyplot as plt\r\n",
        "acc = history.history['accuracy']\r\n",
        "val_acc = history.history['val_accuracy']\r\n",
        "loss = history.history['loss']\r\n",
        "val_loss = history.history['val_loss']\r\n",
        "\r\n",
        "epochs = range(len(acc))\r\n",
        "\r\n",
        "plt.plot(epochs, acc, 'r', label='Training accuracy')\r\n",
        "plt.plot(epochs, val_acc, 'b', label='Validation accuracy')\r\n",
        "plt.title('Training and validation accuracy')\r\n",
        "plt.legend(loc=0)\r\n",
        "plt.figure()\r\n",
        "\r\n",
        "\r\n",
        "plt.show()"
      ],
      "outputs": [
        {
          "output_type": "display_data",
          "data": {
            "image/png": "[encoded data removed]",
            "text/plain": [
              "<Figure size 432x288 with 1 Axes>"
            ]
          },
          "metadata": {
            "needs_background": "light"
          }
        },
        {
          "output_type": "display_data",
          "data": {
            "text/plain": [
              "<Figure size 432x288 with 0 Axes>"
            ]
          },
          "metadata": {}
        }
      ],
      "metadata": {
        "colab": {
          "base_uri": "https://localhost:8080/",
          "height": 299
        },
        "id": "C2Fp6Se9rKuL",
        "outputId": "d799811a-f0f4-4641-8ce2-82dc54c7b7c5"
      }
    }
  ]
}