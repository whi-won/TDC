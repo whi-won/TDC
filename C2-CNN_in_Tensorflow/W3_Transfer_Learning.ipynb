{
 "cells": [
  {
   "cell_type": "markdown",
   "source": [
    "## Transfer Learning on CatsVsDogs\n",
    "* Inception mode\n",
    "* Dropout"
   ],
   "metadata": {
    "id": "n4NcYU5FChh0"
   }
  },
  {
   "cell_type": "markdown",
   "source": [
    "### 1. Download the weights for a pre-trained inception network"
   ],
   "metadata": {
    "id": "i57QZOhnCp4h"
   }
  },
  {
   "cell_type": "code",
   "execution_count": null,
   "source": [
    "import os\r\n",
    "\r\n",
    "from tensorflow.keras import layers\r\n",
    "from tensorflow.keras import Model\r\n",
    "!wget --no-check-certificate \\\r\n",
    "    https://storage.googleapis.com/mledu-datasets/inception_v3_weights_tf_dim_ordering_tf_kernels_notop.h5 \\\r\n",
    "    -O /tmp/inception_v3_weights_tf_dim_ordering_tf_kernels_notop.h5\r\n",
    "\r\n",
    "\r\n",
    "from tensorflow.keras.applications.inception_v3 import InceptionV3\r\n",
    "\r\n",
    "local_weights_file = '/tmp/inception_v3_weights_tf_dim_ordering_tf_kernels_notop.h5'"
   ],
   "outputs": [],
   "metadata": {
    "colab": {
     "base_uri": "https://localhost:8080/"
    },
    "id": "1xJZ5glPPCRz",
    "outputId": "d2f44af6-fb15-4b81-da67-0edfb4022125"
   }
  },
  {
   "cell_type": "markdown",
   "source": [
    "### 2. Instantiates a new instance of it using those weights."
   ],
   "metadata": {
    "id": "Mqx6XlM9Cwhx"
   }
  },
  {
   "cell_type": "code",
   "execution_count": null,
   "source": [
    "pre_trained_model = InceptionV3(input_shape = (150, 150, 3), \r\n",
    "                                include_top = False, \r\n",
    "                                weights = None)\r\n",
    "\r\n",
    "pre_trained_model.load_weights(local_weights_file)"
   ],
   "outputs": [],
   "metadata": {
    "id": "yVTESCsbCvop"
   }
  },
  {
   "cell_type": "markdown",
   "source": [
    "### 3. Freeze model layers"
   ],
   "metadata": {
    "id": "MkooVf2VDTXq"
   }
  },
  {
   "cell_type": "code",
   "execution_count": null,
   "source": [
    "for layer in pre_trained_model.layers:\r\n",
    "  layer.trainable = False\r\n",
    "  \r\n",
    "# pre_trained_model.summary()\r\n"
   ],
   "outputs": [],
   "metadata": {
    "id": "26UoJ9_XDQIG"
   }
  },
  {
   "cell_type": "markdown",
   "source": [
    "### 4. 마지막 레이어에 my DNN 추가\n",
    "1. last layer 뽑기\n",
    "2. DNN 구조 추가하기 : `Functional APIs`\n",
    "  * dropout 추가할 것."
   ],
   "metadata": {
    "id": "rVEzo0RkDYLh"
   }
  },
  {
   "cell_type": "code",
   "execution_count": null,
   "source": [
    "last_layer = pre_trained_model.get_layer('mixed7')\r\n",
    "print('last layer output shape: ', last_layer.output_shape)\r\n",
    "last_output = last_layer.output\r\n",
    "\r\n",
    "\r\n",
    "from tensorflow.keras.optimizers import RMSprop\r\n",
    "\r\n",
    "x = layers.Flatten()(last_output)\r\n",
    "x = layers.Dense(1024, activation='relu')(x)\r\n",
    "x = layers.Dropout(0.2)(x)                  \r\n",
    "x = layers.Dense  (1, activation='sigmoid')(x)           \r\n",
    "\r\n",
    "model = Model( pre_trained_model.input, x) \r\n",
    "\r\n",
    "model.compile(optimizer = RMSprop(lr=0.0001), \r\n",
    "              loss = 'binary_crossentropy', \r\n",
    "              metrics = ['accuracy'])\r\n"
   ],
   "outputs": [
    {
     "output_type": "stream",
     "name": "stdout",
     "text": [
      "last layer output shape:  (None, 7, 7, 768)\n"
     ]
    }
   ],
   "metadata": {
    "colab": {
     "base_uri": "https://localhost:8080/"
    },
    "id": "BMXb913pbvFg",
    "outputId": "7fca5e8a-79c9-46c4-8b51-95da1a21b550"
   }
  },
  {
   "cell_type": "markdown",
   "source": [
    "### 5. Cats vs Dogs 데이터셋 Classification\n",
    "* ImageDataGenerator"
   ],
   "metadata": {
    "id": "5vxCjcH-D6zh"
   }
  },
  {
   "cell_type": "code",
   "execution_count": null,
   "source": [
    "!wget --no-check-certificate \\\r\n",
    "        https://storage.googleapis.com/mledu-datasets/cats_and_dogs_filtered.zip \\\r\n",
    "       -O /tmp/cats_and_dogs_filtered.zip\r\n",
    "\r\n",
    "from tensorflow.keras.preprocessing.image import ImageDataGenerator\r\n",
    "\r\n",
    "import os\r\n",
    "import zipfile\r\n",
    "\r\n",
    "local_zip = '//tmp/cats_and_dogs_filtered.zip'\r\n",
    "\r\n",
    "zip_ref = zipfile.ZipFile(local_zip, 'r')\r\n",
    "\r\n",
    "zip_ref.extractall('/tmp')\r\n",
    "zip_ref.close()\r\n",
    "\r\n",
    "# Define our example directories and files\r\n",
    "base_dir = '/tmp/cats_and_dogs_filtered'\r\n",
    "\r\n",
    "train_dir = os.path.join( base_dir, 'train')\r\n",
    "validation_dir = os.path.join( base_dir, 'validation')\r\n",
    "\r\n",
    "\r\n",
    "train_cats_dir = os.path.join(train_dir, 'cats') # Directory with our training cat pictures\r\n",
    "train_dogs_dir = os.path.join(train_dir, 'dogs') # Directory with our training dog pictures\r\n",
    "validation_cats_dir = os.path.join(validation_dir, 'cats') # Directory with our validation cat pictures\r\n",
    "validation_dogs_dir = os.path.join(validation_dir, 'dogs')# Directory with our validation dog pictures\r\n",
    "\r\n",
    "train_cat_fnames = os.listdir(train_cats_dir)\r\n",
    "train_dog_fnames = os.listdir(train_dogs_dir)\r\n",
    "\r\n",
    "# Add our data-augmentation parameters to ImageDataGenerator\r\n",
    "train_datagen = ImageDataGenerator(rescale = 1./255.,\r\n",
    "                                   rotation_range = 40,\r\n",
    "                                   width_shift_range = 0.2,\r\n",
    "                                   height_shift_range = 0.2,\r\n",
    "                                   shear_range = 0.2,\r\n",
    "                                   zoom_range = 0.2,\r\n",
    "                                   horizontal_flip = True)\r\n",
    "\r\n",
    "# Note that the validation data should not be augmented!\r\n",
    "test_datagen = ImageDataGenerator( rescale = 1.0/255. )\r\n",
    "\r\n",
    "# Flow training images in batches of 20 using train_datagen generator\r\n",
    "train_generator = train_datagen.flow_from_directory(train_dir,\r\n",
    "                                                    batch_size = 20,\r\n",
    "                                                    class_mode = 'binary', \r\n",
    "                                                    target_size = (150, 150))     \r\n",
    "\r\n",
    "# Flow validation images in batches of 20 using test_datagen generator\r\n",
    "validation_generator =  test_datagen.flow_from_directory( validation_dir,\r\n",
    "                                                          batch_size  = 20,\r\n",
    "                                                          class_mode  = 'binary', \r\n",
    "                                                          target_size = (150, 150))"
   ],
   "outputs": [
    {
     "output_type": "stream",
     "name": "stdout",
     "text": [
      "--2021-01-16 07:19:38--  https://storage.googleapis.com/mledu-datasets/cats_and_dogs_filtered.zip\n",
      "Resolving storage.googleapis.com (storage.googleapis.com)... 142.250.31.128, 172.253.115.128, 142.250.73.208, ...\n",
      "Connecting to storage.googleapis.com (storage.googleapis.com)|142.250.31.128|:443... connected.\n",
      "HTTP request sent, awaiting response... 200 OK\n",
      "Length: 68606236 (65M) [application/zip]\n",
      "Saving to: ‘/tmp/cats_and_dogs_filtered.zip’\n",
      "\n",
      "/tmp/cats_and_dogs_ 100%[===================>]  65.43M   154MB/s    in 0.4s    \n",
      "\n",
      "2021-01-16 07:19:39 (154 MB/s) - ‘/tmp/cats_and_dogs_filtered.zip’ saved [68606236/68606236]\n",
      "\n",
      "Found 2000 images belonging to 2 classes.\n",
      "Found 1000 images belonging to 2 classes.\n"
     ]
    }
   ],
   "metadata": {
    "colab": {
     "base_uri": "https://localhost:8080/"
    },
    "id": "O4s8HckqGlnb",
    "outputId": "006a70d1-969b-440e-85f6-1683f73cf1a2"
   }
  },
  {
   "cell_type": "code",
   "execution_count": null,
   "source": [
    "history = model.fit(\n",
    "            train_generator,\n",
    "            validation_data = validation_generator,\n",
    "            steps_per_epoch = 100, # tdata size = batch * steps_per_epoch\n",
    "            epochs = 20,\n",
    "            validation_steps = 50, # validation data size = batch * validation_steps\n",
    "            verbose = 2)"
   ],
   "outputs": [
    {
     "output_type": "stream",
     "name": "stdout",
     "text": [
      "Epoch 1/20\n",
      "100/100 - 27s - loss: 0.3227 - accuracy: 0.8690 - val_loss: 0.1883 - val_accuracy: 0.9310\n",
      "Epoch 2/20\n",
      "100/100 - 17s - loss: 0.2277 - accuracy: 0.9080 - val_loss: 0.1375 - val_accuracy: 0.9440\n",
      "Epoch 3/20\n",
      "100/100 - 17s - loss: 0.1913 - accuracy: 0.9325 - val_loss: 0.0987 - val_accuracy: 0.9650\n",
      "Epoch 4/20\n",
      "100/100 - 17s - loss: 0.1872 - accuracy: 0.9340 - val_loss: 0.1101 - val_accuracy: 0.9640\n",
      "Epoch 5/20\n",
      "100/100 - 17s - loss: 0.2054 - accuracy: 0.9255 - val_loss: 0.0947 - val_accuracy: 0.9660\n",
      "Epoch 6/20\n",
      "100/100 - 17s - loss: 0.1928 - accuracy: 0.9290 - val_loss: 0.1123 - val_accuracy: 0.9650\n",
      "Epoch 7/20\n",
      "100/100 - 17s - loss: 0.1617 - accuracy: 0.9405 - val_loss: 0.1458 - val_accuracy: 0.9560\n",
      "Epoch 8/20\n",
      "100/100 - 17s - loss: 0.1654 - accuracy: 0.9405 - val_loss: 0.2345 - val_accuracy: 0.9340\n",
      "Epoch 9/20\n",
      "100/100 - 17s - loss: 0.1859 - accuracy: 0.9405 - val_loss: 0.1114 - val_accuracy: 0.9670\n",
      "Epoch 10/20\n",
      "100/100 - 17s - loss: 0.1705 - accuracy: 0.9385 - val_loss: 0.1315 - val_accuracy: 0.9640\n",
      "Epoch 11/20\n",
      "100/100 - 17s - loss: 0.1552 - accuracy: 0.9460 - val_loss: 0.1671 - val_accuracy: 0.9580\n",
      "Epoch 12/20\n",
      "100/100 - 17s - loss: 0.1595 - accuracy: 0.9495 - val_loss: 0.1017 - val_accuracy: 0.9710\n",
      "Epoch 13/20\n",
      "100/100 - 17s - loss: 0.1464 - accuracy: 0.9470 - val_loss: 0.1099 - val_accuracy: 0.9710\n",
      "Epoch 14/20\n",
      "100/100 - 17s - loss: 0.1343 - accuracy: 0.9530 - val_loss: 0.1777 - val_accuracy: 0.9540\n",
      "Epoch 15/20\n",
      "100/100 - 17s - loss: 0.1315 - accuracy: 0.9545 - val_loss: 0.0998 - val_accuracy: 0.9720\n",
      "Epoch 16/20\n",
      "100/100 - 17s - loss: 0.1274 - accuracy: 0.9550 - val_loss: 0.1071 - val_accuracy: 0.9760\n",
      "Epoch 17/20\n",
      "100/100 - 17s - loss: 0.1545 - accuracy: 0.9555 - val_loss: 0.1035 - val_accuracy: 0.9680\n",
      "Epoch 18/20\n",
      "100/100 - 17s - loss: 0.1197 - accuracy: 0.9545 - val_loss: 0.1951 - val_accuracy: 0.9450\n",
      "Epoch 19/20\n",
      "100/100 - 17s - loss: 0.1304 - accuracy: 0.9580 - val_loss: 0.1234 - val_accuracy: 0.9700\n",
      "Epoch 20/20\n",
      "100/100 - 17s - loss: 0.1373 - accuracy: 0.9520 - val_loss: 0.1378 - val_accuracy: 0.9640\n"
     ]
    }
   ],
   "metadata": {
    "colab": {
     "base_uri": "https://localhost:8080/"
    },
    "id": "Blhq2MAUeyGA",
    "outputId": "8f0dd569-cba7-4969-a60b-f3f0b6e9bf5e"
   }
  },
  {
   "cell_type": "code",
   "execution_count": null,
   "source": [
    "import matplotlib.pyplot as plt\n",
    "acc = history.history['accuracy']\n",
    "val_acc = history.history['val_accuracy']\n",
    "loss = history.history['loss']\n",
    "val_loss = history.history['val_loss']\n",
    "\n",
    "epochs = range(len(acc))\n",
    "\n",
    "plt.plot(epochs, acc, 'r', label='Training accuracy')\n",
    "plt.plot(epochs, val_acc, 'b', label='Validation accuracy')\n",
    "plt.title('Training and validation accuracy')\n",
    "plt.legend(loc=0)\n",
    "plt.figure()\n",
    "\n",
    "\n",
    "plt.show()"
   ],
   "outputs": [
    {
     "output_type": "display_data",
     "data": {
      "image/png": "[encoded data removed]",
      "text/plain": [
       "<Figure size 432x288 with 1 Axes>"
      ]
     },
     "metadata": {
      "needs_background": "light",
      "tags": []
     }
    },
    {
     "output_type": "display_data",
     "data": {
      "text/plain": [
       "<Figure size 432x288 with 0 Axes>"
      ]
     },
     "metadata": {
      "tags": []
     }
    }
   ],
   "metadata": {
    "colab": {
     "base_uri": "https://localhost:8080/",
     "height": 299
    },
    "id": "C2Fp6Se9rKuL",
    "outputId": "1c8d9fad-9d1f-48bd-d64a-78c20865550c"
   }
  },
  {
   "cell_type": "code",
   "execution_count": null,
   "source": [],
   "outputs": [],
   "metadata": {
    "id": "Lj_ra6juEHcg"
   }
  }
 ],
 "metadata": {
  "accelerator": "GPU",
  "colab": {
   "collapsed_sections": [],
   "name": "W3-Transfer_Learning",
   "provenance": []
  },
  "kernelspec": {
   "display_name": "Python 3",
   "language": "python",
   "name": "python3"
  },
  "language_info": {
   "codemirror_mode": {
    "name": "ipython",
    "version": 3
   },
   "file_extension": ".py",
   "mimetype": "text/x-python",
   "name": "python",
   "nbconvert_exporter": "python",
   "pygments_lexer": "ipython3",
   "version": "3.7.9"
  }
 },
 "nbformat": 4,
 "nbformat_minor": 1
}