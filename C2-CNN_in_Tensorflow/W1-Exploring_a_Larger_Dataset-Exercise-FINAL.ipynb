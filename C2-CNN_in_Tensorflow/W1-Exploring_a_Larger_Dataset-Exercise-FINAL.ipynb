{
 "cells": [
  {
   "cell_type": "code",
   "execution_count": 2,
   "source": [
    "# ATTENTION: Please do not alter any of the provided code in the exercise. Only add your own code where indicated\r\n",
    "# ATTENTION: Please do not add or remove any cells in the exercise. The grader will check specific cells based on the cell position.\r\n",
    "# ATTENTION: Please use the provided epoch values when training.\r\n",
    "\r\n",
    "# In this exercise you will train a CNN on the FULL Cats-v-dogs dataset\r\n",
    "# This will require you doing a lot of data preprocessing because\r\n",
    "# the dataset isn't split into training and validation for you\r\n",
    "# This code block has all the required inputs\r\n",
    "import os\r\n",
    "import zipfile\r\n",
    "import random\r\n",
    "import tensorflow as tf\r\n",
    "import shutil\r\n",
    "from tensorflow.keras.optimizers import RMSprop\r\n",
    "from tensorflow.keras.preprocessing.image import ImageDataGenerator\r\n",
    "from shutil import copyfile\r\n",
    "from os import getcwd"
   ],
   "outputs": [],
   "metadata": {
    "colab": {},
    "colab_type": "code",
    "id": "dn-6c02VmqiN"
   }
  },
  {
   "cell_type": "code",
   "execution_count": 3,
   "source": [
    "path_cats_and_dogs = f\"{getcwd()}/../tmp2/cats-and-dogs.zip\"\r\n",
    "shutil.rmtree('/tmp')\r\n",
    "\r\n",
    "local_zip = path_cats_and_dogs\r\n",
    "zip_ref = zipfile.ZipFile(local_zip, 'r')\r\n",
    "zip_ref.extractall('/tmp')\r\n",
    "zip_ref.close()"
   ],
   "outputs": [],
   "metadata": {
    "colab": {},
    "colab_type": "code",
    "id": "3sd9dQWa23aj"
   }
  },
  {
   "cell_type": "code",
   "execution_count": 4,
   "source": [
    "print(len(os.listdir('/tmp/PetImages/Cat/')))\r\n",
    "print(len(os.listdir('/tmp/PetImages/Dog/')))\r\n",
    "\r\n",
    "# Expected Output:\r\n",
    "# 1500\r\n",
    "# 1500"
   ],
   "outputs": [
    {
     "output_type": "stream",
     "name": "stdout",
     "text": [
      "1500\n",
      "1500\n"
     ]
    }
   ],
   "metadata": {
    "colab": {},
    "colab_type": "code",
    "id": "gi3yD62a6X3S"
   }
  },
  {
   "cell_type": "code",
   "execution_count": 5,
   "source": [
    "# Use os.mkdir to create your directories\r\n",
    "# You will need a directory for cats-v-dogs, and subdirectories for training\r\n",
    "# and testing. These in turn will need subdirectories for 'cats' and 'dogs'\r\n",
    "try:\r\n",
    "    os.mkdir('/tmp/cats-v-dogs')\r\n",
    "    os.mkdir('/tmp/cats-v-dogs/training')\r\n",
    "    os.mkdir('/tmp/cats-v-dogs/testing')\r\n",
    "    os.mkdir('/tmp/cats-v-dogs/training/cats')\r\n",
    "    os.mkdir('/tmp/cats-v-dogs/training/dogs')\r\n",
    "    os.mkdir('/tmp/cats-v-dogs/testing/cats')\r\n",
    "    os.mkdir('/tmp/cats-v-dogs/testing/dogs')\r\n",
    "except OSError:\r\n",
    "    print('error')\r\n",
    "    pass"
   ],
   "outputs": [],
   "metadata": {
    "colab": {},
    "colab_type": "code",
    "id": "F-QkLjxpmyK2"
   }
  },
  {
   "cell_type": "code",
   "execution_count": 6,
   "source": [
    "# Write a python function called split_data which takes\r\n",
    "# a SOURCE directory containing the files\r\n",
    "# a TRAINING directory that a portion of the files will be copied to\r\n",
    "# a TESTING directory that a portion of the files will be copie to\r\n",
    "# a SPLIT SIZE to determine the portion\r\n",
    "# The files should also be randomized, so that the training set is a random\r\n",
    "# X% of the files, and the test set is the remaining files\r\n",
    "# SO, for example, if SOURCE is PetImages/Cat, and SPLIT SIZE is .9\r\n",
    "# Then 90% of the images in PetImages/Cat will be copied to the TRAINING dir\r\n",
    "# and 10% of the images will be copied to the TESTING dir\r\n",
    "# Also -- All images should be checked, and if they have a zero file length,\r\n",
    "# they will not be copied over\r\n",
    "#\r\n",
    "# os.listdir(DIRECTORY) gives you a listing of the contents of that directory\r\n",
    "# os.path.getsize(PATH) gives you the size of the file\r\n",
    "# copyfile(source, destination) copies a file from source to destination\r\n",
    "# random.sample(list, len(list)) shuffles a list\r\n",
    "def split_data(SOURCE, TRAINING, TESTING, SPLIT_SIZE):\r\n",
    "    # YOUR CODE STARTS HERE\r\n",
    "    files = []\r\n",
    "    print('original dataset length', len(os.listdir(SOURCE)))\r\n",
    "    \r\n",
    "    # 3. All images should be checked\r\n",
    "    for filename in os.listdir(SOURCE):\r\n",
    "        is_file = SOURCE + filename\r\n",
    "        \r\n",
    "        if os.path.getsize(is_file)>0:\r\n",
    "            # bug 발견....\r\n",
    "            #files.append(is_file)\r\n",
    "            files.append(filename)\r\n",
    "        else:\r\n",
    "            print(filename + \" is zero length!!\")\r\n",
    "        \r\n",
    "    # 1. Train - Test image split\r\n",
    "    # 1.1 Get amount of image using portion\r\n",
    "    training_list_len = int(len(files) * SPLIT_SIZE)\r\n",
    "    testing_list_len = int(len(files) - training_list_len)\r\n",
    "    print('split', training_list_len, testing_list_len)\r\n",
    "    \r\n",
    "    # 2. shuffle하기 -> shuffle한 리스트에서 이미지를 카피할 수 있도록\r\n",
    "    shuffled_dataset = random.sample(files, len(files))\r\n",
    "    \r\n",
    "    # 1.2 Divide training and testing image from shuffeld dataset\r\n",
    "    training_dataset = shuffled_dataset[:training_list_len]\r\n",
    "    testing_dataset = shuffled_dataset[-testing_list_len:]\r\n",
    "    print(\"shuffle\", len(training_dataset), len(testing_dataset))\r\n",
    "    \r\n",
    "    # 1.3 Copy data to TRAINING and TESTING each (using copyfile)\r\n",
    "    for filename in training_dataset:        \r\n",
    "        tmp  = SOURCE + filename        \r\n",
    "        dst = TRAINING + filename\r\n",
    "        copyfile(tmp, dst)\r\n",
    "        \r\n",
    "    for filename in testing_dataset:\r\n",
    "        tmp = SOURCE + filename\r\n",
    "        dst = TESTING + filename\r\n",
    "        copyfile(tmp, dst)\r\n",
    "        \r\n",
    "    # YOUR CODE ENDS HERE\r\n",
    "\r\n",
    "\r\n",
    "CAT_SOURCE_DIR = \"/tmp/PetImages/Cat/\"\r\n",
    "TRAINING_CATS_DIR = \"/tmp/cats-v-dogs/training/cats/\"\r\n",
    "TESTING_CATS_DIR = \"/tmp/cats-v-dogs/testing/cats/\"\r\n",
    "DOG_SOURCE_DIR = \"/tmp/PetImages/Dog/\"\r\n",
    "TRAINING_DOGS_DIR = \"/tmp/cats-v-dogs/training/dogs/\"\r\n",
    "TESTING_DOGS_DIR = \"/tmp/cats-v-dogs/testing/dogs/\"\r\n",
    "\r\n",
    "split_size = .9\r\n",
    "split_data(CAT_SOURCE_DIR, TRAINING_CATS_DIR, TESTING_CATS_DIR, split_size)\r\n",
    "split_data(DOG_SOURCE_DIR, TRAINING_DOGS_DIR, TESTING_DOGS_DIR, split_size)"
   ],
   "outputs": [
    {
     "output_type": "stream",
     "name": "stdout",
     "text": [
      "original dataset length 1500\n",
      "split 1350 150\n",
      "shuffle 1350 150\n",
      "original dataset length 1500\n",
      "split 1350 150\n",
      "shuffle 1350 150\n"
     ]
    }
   ],
   "metadata": {
    "colab": {},
    "colab_type": "code",
    "id": "zvSODo0f9LaU"
   }
  },
  {
   "cell_type": "code",
   "execution_count": 7,
   "source": [
    "print(len(os.listdir('/tmp/cats-v-dogs/training/cats/')))\r\n",
    "print(len(os.listdir('/tmp/cats-v-dogs/training/dogs/')))\r\n",
    "print(len(os.listdir('/tmp/cats-v-dogs/testing/cats/')))\r\n",
    "print(len(os.listdir('/tmp/cats-v-dogs/testing/dogs/')))\r\n",
    "\r\n",
    "# Expected output:\r\n",
    "# 1350\r\n",
    "# 1350\r\n",
    "# 150\r\n",
    "# 150"
   ],
   "outputs": [
    {
     "output_type": "stream",
     "name": "stdout",
     "text": [
      "1350\n",
      "1350\n",
      "150\n",
      "150\n"
     ]
    }
   ],
   "metadata": {
    "colab": {},
    "colab_type": "code",
    "id": "luthalB76ufC"
   }
  },
  {
   "cell_type": "code",
   "execution_count": 17,
   "source": [
    "# DEFINE A KERAS MODEL TO CLASSIFY CATS V DOGS\r\n",
    "# USE AT LEAST 3 CONVOLUTION LAYERS\r\n",
    "model = tf.keras.models.Sequential([\r\n",
    "# YOUR CODE HERE\r\n",
    "    # first\r\n",
    "    tf.keras.layers.Conv2D(32, (3,3), activation='relu', input_shape=(150,150,3)),\r\n",
    "    tf.keras.layers.MaxPooling2D(2,2),\r\n",
    "    # second\r\n",
    "    tf.keras.layers.Conv2D(32, (3,3), activation='relu'),\r\n",
    "    tf.keras.layers.MaxPooling2D(2,2),\r\n",
    "    #third\r\n",
    "    tf.keras.layers.Conv2D(64, (3,3), activation='relu'),\r\n",
    "    tf.keras.layers.MaxPooling2D(2,2),\r\n",
    "    \r\n",
    "    # DNN\r\n",
    "    tf.keras.layers.Flatten(),\r\n",
    "    tf.keras.layers.Dense(512, activation='relu'),\r\n",
    "    tf.keras.layers.Dense(1, activation='sigmoid')\r\n",
    "])\r\n",
    "\r\n",
    "model.compile(optimizer=RMSprop(lr=0.001), loss='binary_crossentropy', metrics=['acc'])"
   ],
   "outputs": [],
   "metadata": {
    "colab": {},
    "colab_type": "code",
    "id": "-BQrav4anTmj"
   }
  },
  {
   "cell_type": "markdown",
   "source": [
    "# NOTE:\n",
    "\n",
    "In the cell below you **MUST** use a batch size of 10 (`batch_size=10`) for the `train_generator` and the `validation_generator`. Using a batch size greater than 10 will exceed memory limits on the Coursera platform."
   ],
   "metadata": {}
  },
  {
   "cell_type": "code",
   "execution_count": 13,
   "source": [
    "TRAINING_DIR = '/tmp/cats-v-dogs/training/'\r\n",
    "train_datagen = ImageDataGenerator(rescale=1./255)\r\n",
    "\r\n",
    "# NOTE: YOU MUST USE A BATCH SIZE OF 10 (batch_size=10) FOR THE \r\n",
    "# TRAIN GENERATOR.\r\n",
    "train_generator = train_datagen.flow_from_directory(\r\n",
    "    TRAINING_DIR,\r\n",
    "    target_size=(150,150),\r\n",
    "    batch_size=10,\r\n",
    "    class_mode='binary'\r\n",
    ")\r\n",
    "\r\n",
    "VALIDATION_DIR = '/tmp/cats-v-dogs/testing/'\r\n",
    "validation_datagen = ImageDataGenerator(rescale=1./255)\r\n",
    "\r\n",
    "# NOTE: YOU MUST USE A BACTH SIZE OF 10 (batch_size=10) FOR THE \r\n",
    "# VALIDATION GENERATOR.\r\n",
    "validation_generator = validation_datagen.flow_from_directory(\r\n",
    "    VALIDATION_DIR,\r\n",
    "    target_size=(150,150),\r\n",
    "    batch_size=10,\r\n",
    "    class_mode='binary'\r\n",
    ")\r\n",
    "\r\n",
    "# Expected Output:\r\n",
    "# Found 2700 images belonging to 2 classes.\r\n",
    "# Found 300 images belonging to 2 classes."
   ],
   "outputs": [
    {
     "output_type": "stream",
     "name": "stdout",
     "text": [
      "Found 2700 images belonging to 2 classes.\n",
      "Found 300 images belonging to 2 classes.\n"
     ]
    }
   ],
   "metadata": {
    "colab": {},
    "colab_type": "code",
    "id": "mlNjoJ5D61N6"
   }
  },
  {
   "cell_type": "code",
   "execution_count": 20,
   "source": [
    "# 주어진 epochs는 2임\r\n",
    "history = model.fit_generator(train_generator,\r\n",
    "                              epochs=2,\r\n",
    "                              verbose=1,\r\n",
    "                              validation_data=validation_generator)\r\n"
   ],
   "outputs": [
    {
     "output_type": "stream",
     "name": "stdout",
     "text": [
      "Epoch 1/2\n",
      "270/270 [==============================] - 32s 120ms/step - loss: 0.3364 - acc: 0.8552 - val_loss: 0.5279 - val_acc: 0.7733\n",
      "Epoch 2/2\n",
      "270/270 [==============================] - 32s 118ms/step - loss: 0.2782 - acc: 0.8896 - val_loss: 0.5704 - val_acc: 0.7567\n"
     ]
    }
   ],
   "metadata": {
    "colab": {},
    "colab_type": "code",
    "id": "KyS4n53w7DxC"
   }
  },
  {
   "cell_type": "code",
   "execution_count": 21,
   "source": [
    "# PLOT LOSS AND ACCURACY\r\n",
    "%matplotlib inline\r\n",
    "\r\n",
    "import matplotlib.image  as mpimg\r\n",
    "import matplotlib.pyplot as plt\r\n",
    "\r\n",
    "#-----------------------------------------------------------\r\n",
    "# Retrieve a list of list results on training and test data\r\n",
    "# sets for each training epoch\r\n",
    "#-----------------------------------------------------------\r\n",
    "acc=history.history['acc']\r\n",
    "val_acc=history.history['val_acc']\r\n",
    "loss=history.history['loss']\r\n",
    "val_loss=history.history['val_loss']\r\n",
    "\r\n",
    "epochs=range(len(acc)) # Get number of epochs\r\n",
    "\r\n",
    "#------------------------------------------------\r\n",
    "# Plot training and validation accuracy per epoch\r\n",
    "#------------------------------------------------\r\n",
    "plt.plot(epochs, acc, 'r', \"Training Accuracy\")\r\n",
    "plt.plot(epochs, val_acc, 'b', \"Validation Accuracy\")\r\n",
    "plt.title('Training and validation accuracy')\r\n",
    "plt.figure()\r\n",
    "\r\n",
    "#------------------------------------------------\r\n",
    "# Plot training and validation loss per epoch\r\n",
    "#------------------------------------------------\r\n",
    "plt.plot(epochs, loss, 'r', \"Training Loss\")\r\n",
    "plt.plot(epochs, val_loss, 'b', \"Validation Loss\")\r\n",
    "\r\n",
    "\r\n",
    "plt.title('Training and validation loss')\r\n",
    "\r\n",
    "# Desired output. Charts with training and validation metrics. No crash :)"
   ],
   "outputs": [
    {
     "output_type": "execute_result",
     "data": {
      "text/plain": [
       "Text(0.5, 1.0, 'Training and validation loss')"
      ]
     },
     "metadata": {},
     "execution_count": 21
    },
    {
     "output_type": "display_data",
     "data": {
      "image/png": "[encoded data removed]",
      "text/plain": [
       "<Figure size 432x288 with 1 Axes>"
      ]
     },
     "metadata": {
      "needs_background": "light"
     }
    },
    {
     "output_type": "display_data",
     "data": {
      "image/png": "[encoded data removed]",
      "text/plain": [
       "<Figure size 432x288 with 1 Axes>"
      ]
     },
     "metadata": {
      "needs_background": "light"
     }
    }
   ],
   "metadata": {
    "colab": {},
    "colab_type": "code",
    "id": "MWZrJN4-65RC",
    "scrolled": false
   }
  }
 ],
 "metadata": {
  "accelerator": "GPU",
  "colab": {
   "collapsed_sections": [],
   "name": "Exercise 5 - Question.ipynb",
   "provenance": []
  },
  "coursera": {
   "course_slug": "convolutional-neural-networks-tensorflow",
   "graded_item_id": "laIUG",
   "launcher_item_id": "jjQWM"
  },
  "kernelspec": {
   "display_name": "Python 3",
   "language": "python",
   "name": "python3"
  },
  "language_info": {
   "codemirror_mode": {
    "name": "ipython",
    "version": 3
   },
   "file_extension": ".py",
   "mimetype": "text/x-python",
   "name": "python",
   "nbconvert_exporter": "python",
   "pygments_lexer": "ipython3",
   "version": "3.6.8"
  }
 },
 "nbformat": 4,
 "nbformat_minor": 1
}