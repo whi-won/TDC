{
  "nbformat": 4,
  "nbformat_minor": 2,
  "metadata": {
    "colab": {
      "name": "Course 2 - Part 8 - Lesson 2 - Notebook (RockPaperScissors).ipynb",
      "provenance": [],
      "toc_visible": true,
      "include_colab_link": true
    },
    "kernelspec": {
      "display_name": "Python 3",
      "name": "python3"
    },
    "accelerator": "GPU"
  },
  "cells": [
    {
      "cell_type": "markdown",
      "source": [
        "<a href=\"https://colab.research.google.com/github/lmoroney/dlaicourse/blob/master/Course%202%20-%20Part%208%20-%20Lesson%202%20-%20Notebook%20(RockPaperScissors).ipynb\" target=\"_parent\"><img src=\"https://colab.research.google.com/assets/colab-badge.svg\" alt=\"Open In Colab\"/></a>"
      ],
      "metadata": {
        "id": "view-in-github",
        "colab_type": "text"
      }
    },
    {
      "cell_type": "markdown",
      "source": [
        "##### Copyright 2019 The TensorFlow Authors."
      ],
      "metadata": {
        "colab_type": "text",
        "id": "rX8mhOLljYeM"
      }
    },
    {
      "cell_type": "code",
      "execution_count": null,
      "source": [
        "#@title Licensed under the Apache License, Version 2.0 (the \"License\");\r\n",
        "# you may not use this file except in compliance with the License.\r\n",
        "# You may obtain a copy of the License at\r\n",
        "#\r\n",
        "# https://www.apache.org/licenses/LICENSE-2.0\r\n",
        "#\r\n",
        "# Unless required by applicable law or agreed to in writing, software\r\n",
        "# distributed under the License is distributed on an \"AS IS\" BASIS,\r\n",
        "# WITHOUT WARRANTIES OR CONDITIONS OF ANY KIND, either express or implied.\r\n",
        "# See the License for the specific language governing permissions and\r\n",
        "# limitations under the License."
      ],
      "outputs": [],
      "metadata": {
        "cellView": "form",
        "colab_type": "code",
        "id": "BZSlp3DAjdYf",
        "colab": {}
      }
    },
    {
      "cell_type": "code",
      "execution_count": null,
      "source": [
        "!wget --no-check-certificate \\\r\n",
        "    https://storage.googleapis.com/laurencemoroney-blog.appspot.com/rps.zip \\\r\n",
        "    -O /tmp/rps.zip\r\n",
        "  \r\n",
        "!wget --no-check-certificate \\\r\n",
        "    https://storage.googleapis.com/laurencemoroney-blog.appspot.com/rps-test-set.zip \\\r\n",
        "    -O /tmp/rps-test-set.zip"
      ],
      "outputs": [],
      "metadata": {
        "colab_type": "code",
        "id": "it1c0jCiNCIM",
        "colab": {}
      }
    },
    {
      "cell_type": "code",
      "execution_count": null,
      "source": [
        "import os\r\n",
        "import zipfile\r\n",
        "\r\n",
        "local_zip = '/tmp/rps.zip'\r\n",
        "zip_ref = zipfile.ZipFile(local_zip, 'r')\r\n",
        "zip_ref.extractall('/tmp/')\r\n",
        "zip_ref.close()\r\n",
        "\r\n",
        "local_zip = '/tmp/rps-test-set.zip'\r\n",
        "zip_ref = zipfile.ZipFile(local_zip, 'r')\r\n",
        "zip_ref.extractall('/tmp/')\r\n",
        "zip_ref.close()"
      ],
      "outputs": [],
      "metadata": {
        "colab_type": "code",
        "id": "PnYP_HhYNVUK",
        "colab": {}
      }
    },
    {
      "cell_type": "code",
      "execution_count": null,
      "source": [
        "rock_dir = os.path.join('/tmp/rps/rock')\r\n",
        "paper_dir = os.path.join('/tmp/rps/paper')\r\n",
        "scissors_dir = os.path.join('/tmp/rps/scissors')\r\n",
        "\r\n",
        "print('total training rock images:', len(os.listdir(rock_dir)))\r\n",
        "print('total training paper images:', len(os.listdir(paper_dir)))\r\n",
        "print('total training scissors images:', len(os.listdir(scissors_dir)))\r\n",
        "\r\n",
        "rock_files = os.listdir(rock_dir)\r\n",
        "print(rock_files[:10])\r\n",
        "\r\n",
        "paper_files = os.listdir(paper_dir)\r\n",
        "print(paper_files[:10])\r\n",
        "\r\n",
        "scissors_files = os.listdir(scissors_dir)\r\n",
        "print(scissors_files[:10])"
      ],
      "outputs": [],
      "metadata": {
        "colab_type": "code",
        "id": "MrxdR83ANgjS",
        "colab": {}
      }
    },
    {
      "cell_type": "code",
      "execution_count": null,
      "source": [
        "%matplotlib inline\r\n",
        "\r\n",
        "import matplotlib.pyplot as plt\r\n",
        "import matplotlib.image as mpimg\r\n",
        "\r\n",
        "pic_index = 2\r\n",
        "\r\n",
        "next_rock = [os.path.join(rock_dir, fname) \r\n",
        "                for fname in rock_files[pic_index-2:pic_index]]\r\n",
        "next_paper = [os.path.join(paper_dir, fname) \r\n",
        "                for fname in paper_files[pic_index-2:pic_index]]\r\n",
        "next_scissors = [os.path.join(scissors_dir, fname) \r\n",
        "                for fname in scissors_files[pic_index-2:pic_index]]\r\n",
        "\r\n",
        "for i, img_path in enumerate(next_rock+next_paper+next_scissors):\r\n",
        "  #print(img_path)\r\n",
        "  img = mpimg.imread(img_path)\r\n",
        "  plt.imshow(img)\r\n",
        "  plt.axis('Off')\r\n",
        "  plt.show()"
      ],
      "outputs": [],
      "metadata": {
        "colab_type": "code",
        "id": "jp9dLel9N9DS",
        "colab": {}
      }
    },
    {
      "cell_type": "code",
      "execution_count": null,
      "source": [
        "import tensorflow as tf\r\n",
        "import keras_preprocessing\r\n",
        "from keras_preprocessing import image\r\n",
        "from keras_preprocessing.image import ImageDataGenerator\r\n",
        "\r\n",
        "TRAINING_DIR = \"/tmp/rps/\"\r\n",
        "training_datagen = ImageDataGenerator(\r\n",
        "      rescale = 1./255,\r\n",
        "\t    rotation_range=40,\r\n",
        "      width_shift_range=0.2,\r\n",
        "      height_shift_range=0.2,\r\n",
        "      shear_range=0.2,\r\n",
        "      zoom_range=0.2,\r\n",
        "      horizontal_flip=True,\r\n",
        "      fill_mode='nearest')\r\n",
        "\r\n",
        "VALIDATION_DIR = \"/tmp/rps-test-set/\"\r\n",
        "validation_datagen = ImageDataGenerator(rescale = 1./255)\r\n",
        "\r\n",
        "train_generator = training_datagen.flow_from_directory(\r\n",
        "\tTRAINING_DIR,\r\n",
        "\ttarget_size=(150,150),\r\n",
        "\tclass_mode='categorical',\r\n",
        "  batch_size=126\r\n",
        ")\r\n",
        "\r\n",
        "validation_generator = validation_datagen.flow_from_directory(\r\n",
        "\tVALIDATION_DIR,\r\n",
        "\ttarget_size=(150,150),\r\n",
        "\tclass_mode='categorical',\r\n",
        "  batch_size=126\r\n",
        ")\r\n",
        "\r\n",
        "model = tf.keras.models.Sequential([\r\n",
        "    # Note the input shape is the desired size of the image 150x150 with 3 bytes color\r\n",
        "    # This is the first convolution\r\n",
        "    tf.keras.layers.Conv2D(64, (3,3), activation='relu', input_shape=(150, 150, 3)),\r\n",
        "    tf.keras.layers.MaxPooling2D(2, 2),\r\n",
        "    # The second convolution\r\n",
        "    tf.keras.layers.Conv2D(64, (3,3), activation='relu'),\r\n",
        "    tf.keras.layers.MaxPooling2D(2,2),\r\n",
        "    # The third convolution\r\n",
        "    tf.keras.layers.Conv2D(128, (3,3), activation='relu'),\r\n",
        "    tf.keras.layers.MaxPooling2D(2,2),\r\n",
        "    # The fourth convolution\r\n",
        "    tf.keras.layers.Conv2D(128, (3,3), activation='relu'),\r\n",
        "    tf.keras.layers.MaxPooling2D(2,2),\r\n",
        "    # Flatten the results to feed into a DNN\r\n",
        "    tf.keras.layers.Flatten(),\r\n",
        "    tf.keras.layers.Dropout(0.5),\r\n",
        "    # 512 neuron hidden layer\r\n",
        "    tf.keras.layers.Dense(512, activation='relu'),\r\n",
        "    tf.keras.layers.Dense(3, activation='softmax')\r\n",
        "])\r\n",
        "\r\n",
        "\r\n",
        "model.summary()\r\n",
        "\r\n",
        "model.compile(loss = 'categorical_crossentropy', optimizer='rmsprop', metrics=['accuracy'])\r\n",
        "\r\n",
        "history = model.fit(train_generator, epochs=25, steps_per_epoch=20, validation_data = validation_generator, verbose = 1, validation_steps=3)\r\n",
        "\r\n",
        "model.save(\"rps.h5\")\r\n"
      ],
      "outputs": [],
      "metadata": {
        "colab_type": "code",
        "id": "LWTisYLQM1aM",
        "colab": {}
      }
    },
    {
      "cell_type": "code",
      "execution_count": null,
      "source": [
        "import matplotlib.pyplot as plt\r\n",
        "acc = history.history['accuracy']\r\n",
        "val_acc = history.history['val_accuracy']\r\n",
        "loss = history.history['loss']\r\n",
        "val_loss = history.history['val_loss']\r\n",
        "\r\n",
        "epochs = range(len(acc))\r\n",
        "\r\n",
        "plt.plot(epochs, acc, 'r', label='Training accuracy')\r\n",
        "plt.plot(epochs, val_acc, 'b', label='Validation accuracy')\r\n",
        "plt.title('Training and validation accuracy')\r\n",
        "plt.legend(loc=0)\r\n",
        "plt.figure()\r\n",
        "\r\n",
        "\r\n",
        "plt.show()"
      ],
      "outputs": [],
      "metadata": {
        "colab_type": "code",
        "id": "aeTRVCr6aosw",
        "colab": {}
      }
    },
    {
      "cell_type": "code",
      "execution_count": null,
      "source": [
        "import numpy as np\r\n",
        "from google.colab import files\r\n",
        "from keras.preprocessing import image\r\n",
        "\r\n",
        "uploaded = files.upload()\r\n",
        "\r\n",
        "for fn in uploaded.keys():\r\n",
        " \r\n",
        "  # predicting images\r\n",
        "  path = fn\r\n",
        "  img = image.load_img(path, target_size=(150, 150))\r\n",
        "  x = image.img_to_array(img)\r\n",
        "  x = np.expand_dims(x, axis=0)\r\n",
        "\r\n",
        "  images = np.vstack([x])\r\n",
        "  classes = model.predict(images, batch_size=10)\r\n",
        "  print(fn)\r\n",
        "  print(classes)"
      ],
      "outputs": [],
      "metadata": {
        "colab_type": "code",
        "id": "ZABJp7T3VLCU",
        "colab": {}
      }
    }
  ]
}